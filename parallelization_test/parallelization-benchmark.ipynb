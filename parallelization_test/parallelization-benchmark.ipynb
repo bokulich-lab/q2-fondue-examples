{
 "cells": [
  {
   "cell_type": "code",
   "execution_count": 1,
   "id": "405f142d-a0b4-4ee1-8198-071c78642bd9",
   "metadata": {
    "execution": {
     "iopub.execute_input": "2022-07-17T17:53:23.190655Z",
     "iopub.status.busy": "2022-07-17T17:53:23.190258Z",
     "iopub.status.idle": "2022-07-17T17:53:27.453639Z",
     "shell.execute_reply": "2022-07-17T17:53:27.453146Z",
     "shell.execute_reply.started": "2022-07-17T17:53:23.190563Z"
    },
    "tags": [],
    "pycharm": {
     "name": "#%%\n"
    }
   },
   "outputs": [],
   "source": [
    "from qiime2.plugins import fondue\n",
    "from qiime2 import Artifact\n",
    "\n",
    "import pandas as pd\n",
    "import time"
   ]
  },
  {
   "cell_type": "code",
   "execution_count": 2,
   "id": "d0aa9dcf-d3e7-47fe-8a14-04b45a46a17e",
   "metadata": {
    "execution": {
     "iopub.execute_input": "2022-07-17T17:53:29.120511Z",
     "iopub.status.busy": "2022-07-17T17:53:29.120054Z",
     "iopub.status.idle": "2022-07-17T17:53:29.160430Z",
     "shell.execute_reply": "2022-07-17T17:53:29.160002Z",
     "shell.execute_reply.started": "2022-07-17T17:53:29.120474Z"
    },
    "tags": [],
    "pycharm": {
     "name": "#%%\n"
    }
   },
   "outputs": [],
   "source": [
    "ids = Artifact.import_data('NCBIAccessionIDs', 'ids.tsv')\n",
    "email = 'your@email.com'\n",
    "n = 3"
   ]
  },
  {
   "cell_type": "markdown",
   "id": "80c3dc23-b5c4-4419-94b8-905638eb5311",
   "metadata": {
    "pycharm": {
     "name": "#%% md\n"
    }
   },
   "source": [
    "## Four jobs\n",
    "Fetch 50 runs using 4 parallel jobs."
   ]
  },
  {
   "cell_type": "code",
   "execution_count": null,
   "id": "79616953-4fcd-42d3-a177-579ae8a92a34",
   "metadata": {
    "execution": {
     "iopub.execute_input": "2022-07-17T17:53:34.858580Z",
     "iopub.status.busy": "2022-07-17T17:53:34.858275Z"
    },
    "pycharm": {
     "name": "#%%\n"
    }
   },
   "outputs": [
    {
     "name": "stderr",
     "output_type": "stream",
     "text": [
      "Downloading sequences for run ERR7358235 (attempt 1):  63%|████████████████████████████▉                 | 63/100 [1:16:54<48:14, 78.24s/it, 0 failed]"
     ]
    }
   ],
   "source": [
    "times_many = []\n",
    "n_jobs = 4\n",
    "\n",
    "for i in range(n):\n",
    "    t0 = time.time()\n",
    "    results = fondue.methods.get_sequences(\n",
    "        accession_ids=ids, \n",
    "        email=email,\n",
    "        n_jobs=n_jobs,\n",
    "        log_level='ERROR'\n",
    "    )\n",
    "    del results\n",
    "    \n",
    "    t1 = time.time()\n",
    "    times_many.append(t1 - t0)\n",
    "    time.sleep(600)"
   ]
  },
  {
   "cell_type": "markdown",
   "source": [
    "## One job\n",
    "Fetch 50 runs using a single job."
   ],
   "metadata": {
    "collapsed": false,
    "pycharm": {
     "name": "#%% md\n"
    }
   }
  },
  {
   "cell_type": "code",
   "execution_count": null,
   "id": "750552ea-fa94-427d-9d4a-a414ecc7e3fc",
   "metadata": {
    "tags": [],
    "pycharm": {
     "name": "#%%\n"
    }
   },
   "outputs": [],
   "source": [
    "times_one = []\n",
    "n_jobs = 1\n",
    "\n",
    "for i in range(n):\n",
    "    t0 = time.time()\n",
    "    results = fondue.methods.get_sequences(\n",
    "        accession_ids=ids, \n",
    "        email=email,\n",
    "        n_jobs=n_jobs,\n",
    "        log_level='ERROR'\n",
    "    )\n",
    "    del results\n",
    "    \n",
    "    t1 = time.time()\n",
    "    times_one.append(t1 - t0)\n",
    "    time.sleep(600)"
   ]
  },
  {
   "cell_type": "markdown",
   "id": "001636d1-19aa-4b56-b52d-f64733fd80e3",
   "metadata": {
    "pycharm": {
     "name": "#%% md\n"
    }
   },
   "source": [
    "## Evaluate results"
   ]
  },
  {
   "cell_type": "code",
   "execution_count": null,
   "id": "677c623a-4f28-4442-8fb8-fe98e3f1746e",
   "metadata": {
    "tags": [],
    "pycharm": {
     "name": "#%%\n"
    }
   },
   "outputs": [],
   "source": [
    "results_df = pd.DataFrame(data={'one_job': times_one, 'many_jobs': times_many})\n",
    "results_df.to_csv('benchmark_result.csv', index=False)"
   ]
  },
  {
   "cell_type": "code",
   "execution_count": null,
   "id": "50553842-8102-45ee-98c7-768e07d05fe9",
   "metadata": {
    "tags": [],
    "pycharm": {
     "name": "#%%\n"
    }
   },
   "outputs": [],
   "source": [
    "results_df.describe()"
   ]
  },
  {
   "cell_type": "code",
   "execution_count": null,
   "id": "4dd0f1eb-1f1e-4244-afae-a5bc2797f5fb",
   "metadata": {
    "pycharm": {
     "name": "#%%\n"
    }
   },
   "outputs": [],
   "source": []
  }
 ],
 "metadata": {
  "kernelspec": {
   "display_name": "Python 3 (ipykernel)",
   "language": "python",
   "name": "python3"
  },
  "language_info": {
   "codemirror_mode": {
    "name": "ipython",
    "version": 3
   },
   "file_extension": ".py",
   "mimetype": "text/x-python",
   "name": "python",
   "nbconvert_exporter": "python",
   "pygments_lexer": "ipython3",
   "version": "3.8.13"
  }
 },
 "nbformat": 4,
 "nbformat_minor": 5
}