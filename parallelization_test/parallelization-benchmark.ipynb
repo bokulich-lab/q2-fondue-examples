{
 "cells": [
  {
   "cell_type": "markdown",
   "id": "62324967-7f05-4551-b0f0-30bb3de5ce03",
   "metadata": {},
   "source": [
    "# Parallelization test\n",
    "This notebook analyses the time required for running `get-sequences` with different number of jobs (1 and 4) by fetching data for 20 run IDs in 3 iterations."
   ]
  },
  {
   "cell_type": "code",
   "execution_count": 1,
   "id": "405f142d-a0b4-4ee1-8198-071c78642bd9",
   "metadata": {
    "execution": {
     "iopub.execute_input": "2022-07-20T10:26:08.885962Z",
     "iopub.status.busy": "2022-07-20T10:26:08.885744Z",
     "iopub.status.idle": "2022-07-20T10:26:14.484240Z",
     "shell.execute_reply": "2022-07-20T10:26:14.483603Z",
     "shell.execute_reply.started": "2022-07-20T10:26:08.885911Z"
    },
    "pycharm": {
     "name": "#%%\n"
    },
    "tags": []
   },
   "outputs": [],
   "source": [
    "from qiime2.plugins import fondue\n",
    "from qiime2 import Artifact\n",
    "\n",
    "import matplotlib.pyplot as plt\n",
    "import os\n",
    "import pandas as pd\n",
    "import seaborn as sns\n",
    "import time\n",
    "\n",
    "%matplotlib inline"
   ]
  },
  {
   "cell_type": "code",
   "execution_count": 2,
   "id": "d0aa9dcf-d3e7-47fe-8a14-04b45a46a17e",
   "metadata": {
    "execution": {
     "iopub.execute_input": "2022-07-20T10:26:14.486303Z",
     "iopub.status.busy": "2022-07-20T10:26:14.485624Z",
     "iopub.status.idle": "2022-07-20T10:26:14.522774Z",
     "shell.execute_reply": "2022-07-20T10:26:14.522221Z",
     "shell.execute_reply.started": "2022-07-20T10:26:14.486275Z"
    },
    "pycharm": {
     "name": "#%%\n"
    },
    "tags": []
   },
   "outputs": [],
   "source": [
    "ids = Artifact.import_data('NCBIAccessionIDs', 'ids.tsv')\n",
    "email = 'your@email.com'\n",
    "n = 3"
   ]
  },
  {
   "cell_type": "markdown",
   "id": "772c5a1e-752a-45b3-aa8f-4cee08a69496",
   "metadata": {},
   "source": [
    "## Fetch data"
   ]
  },
  {
   "cell_type": "markdown",
   "id": "80c3dc23-b5c4-4419-94b8-905638eb5311",
   "metadata": {
    "pycharm": {
     "name": "#%% md\n"
    }
   },
   "source": [
    "### Four jobs\n",
    "Fetch 20 runs using 4 parallel jobs."
   ]
  },
  {
   "cell_type": "code",
   "execution_count": 3,
   "id": "79616953-4fcd-42d3-a177-579ae8a92a34",
   "metadata": {
    "execution": {
     "iopub.execute_input": "2022-07-20T10:26:14.523763Z",
     "iopub.status.busy": "2022-07-20T10:26:14.523559Z",
     "iopub.status.idle": "2022-07-20T10:26:14.526373Z",
     "shell.execute_reply": "2022-07-20T10:26:14.525900Z",
     "shell.execute_reply.started": "2022-07-20T10:26:14.523746Z"
    },
    "pycharm": {
     "name": "#%%\n"
    },
    "tags": []
   },
   "outputs": [],
   "source": [
    "times_many = []\n",
    "n_jobs = 4\n",
    "\n",
    "if not os.path.isfile('benchmark_result.csv'):\n",
    "    for i in range(n):\n",
    "        t0 = time.time()\n",
    "        results = fondue.methods.get_sequences(\n",
    "            accession_ids=ids, \n",
    "            email=email,\n",
    "            n_jobs=n_jobs,\n",
    "            log_level='ERROR'\n",
    "        )\n",
    "        del results\n",
    "\n",
    "        t1 = time.time()\n",
    "        times_many.append(t1 - t0)\n",
    "        time.sleep(600)"
   ]
  },
  {
   "cell_type": "markdown",
   "id": "ab23c7c2",
   "metadata": {
    "pycharm": {
     "name": "#%% md\n"
    },
    "tags": []
   },
   "source": [
    "### One job\n",
    "Fetch 20 runs using a single job."
   ]
  },
  {
   "cell_type": "code",
   "execution_count": 4,
   "id": "750552ea-fa94-427d-9d4a-a414ecc7e3fc",
   "metadata": {
    "execution": {
     "iopub.execute_input": "2022-07-20T10:26:14.527368Z",
     "iopub.status.busy": "2022-07-20T10:26:14.527044Z",
     "iopub.status.idle": "2022-07-20T10:26:14.537831Z",
     "shell.execute_reply": "2022-07-20T10:26:14.537357Z",
     "shell.execute_reply.started": "2022-07-20T10:26:14.527350Z"
    },
    "pycharm": {
     "name": "#%%\n"
    },
    "tags": []
   },
   "outputs": [],
   "source": [
    "times_one = []\n",
    "n_jobs = 1\n",
    "\n",
    "if not os.path.isfile('benchmark_result.csv'):\n",
    "    for i in range(n):\n",
    "        t0 = time.time()\n",
    "        results = fondue.methods.get_sequences(\n",
    "            accession_ids=ids, \n",
    "            email=email,\n",
    "            n_jobs=n_jobs,\n",
    "            log_level='ERROR'\n",
    "        )\n",
    "        del results\n",
    "\n",
    "        t1 = time.time()\n",
    "        times_one.append(t1 - t0)\n",
    "        time.sleep(600)"
   ]
  },
  {
   "cell_type": "markdown",
   "id": "001636d1-19aa-4b56-b52d-f64733fd80e3",
   "metadata": {
    "pycharm": {
     "name": "#%% md\n"
    }
   },
   "source": [
    "## Evaluate results"
   ]
  },
  {
   "cell_type": "markdown",
   "id": "43f67047-8e05-49fc-86bf-7097978894cd",
   "metadata": {},
   "source": [
    "Read in total run times (in minutes)."
   ]
  },
  {
   "cell_type": "code",
   "execution_count": 5,
   "id": "677c623a-4f28-4442-8fb8-fe98e3f1746e",
   "metadata": {
    "execution": {
     "iopub.execute_input": "2022-07-20T10:26:14.538779Z",
     "iopub.status.busy": "2022-07-20T10:26:14.538469Z",
     "iopub.status.idle": "2022-07-20T10:26:14.543421Z",
     "shell.execute_reply": "2022-07-20T10:26:14.542941Z",
     "shell.execute_reply.started": "2022-07-20T10:26:14.538761Z"
    },
    "pycharm": {
     "name": "#%%\n"
    },
    "tags": []
   },
   "outputs": [],
   "source": [
    "if not os.path.isfile('benchmark_result.csv'):\n",
    "    results_df = pd.DataFrame(\n",
    "        {'total_time': [x/60 for x in times_many + times_one],\n",
    "         'n_jobs': [4, 4, 4, 1, 1, 1]}\n",
    "    )\n",
    "    results_df.to_csv('benchmark_result.csv', index=False)\n",
    "else:\n",
    "    results_df = pd.read_csv('benchmark_result.csv')"
   ]
  },
  {
   "cell_type": "code",
   "execution_count": 6,
   "id": "a3d7a0d1-c2d2-49c8-bafb-ceee56a0ef91",
   "metadata": {
    "execution": {
     "iopub.execute_input": "2022-07-20T10:26:14.544339Z",
     "iopub.status.busy": "2022-07-20T10:26:14.544043Z",
     "iopub.status.idle": "2022-07-20T10:26:14.552998Z",
     "shell.execute_reply": "2022-07-20T10:26:14.552510Z",
     "shell.execute_reply.started": "2022-07-20T10:26:14.544322Z"
    }
   },
   "outputs": [
    {
     "data": {
      "text/html": [
       "<div>\n",
       "<style scoped>\n",
       "    .dataframe tbody tr th:only-of-type {\n",
       "        vertical-align: middle;\n",
       "    }\n",
       "\n",
       "    .dataframe tbody tr th {\n",
       "        vertical-align: top;\n",
       "    }\n",
       "\n",
       "    .dataframe thead th {\n",
       "        text-align: right;\n",
       "    }\n",
       "</style>\n",
       "<table border=\"1\" class=\"dataframe\">\n",
       "  <thead>\n",
       "    <tr style=\"text-align: right;\">\n",
       "      <th></th>\n",
       "      <th>total_time</th>\n",
       "      <th>n_jobs</th>\n",
       "    </tr>\n",
       "  </thead>\n",
       "  <tbody>\n",
       "    <tr>\n",
       "      <th>0</th>\n",
       "      <td>49.397727</td>\n",
       "      <td>4</td>\n",
       "    </tr>\n",
       "    <tr>\n",
       "      <th>1</th>\n",
       "      <td>57.076594</td>\n",
       "      <td>4</td>\n",
       "    </tr>\n",
       "    <tr>\n",
       "      <th>2</th>\n",
       "      <td>55.192875</td>\n",
       "      <td>4</td>\n",
       "    </tr>\n",
       "    <tr>\n",
       "      <th>3</th>\n",
       "      <td>178.455487</td>\n",
       "      <td>1</td>\n",
       "    </tr>\n",
       "    <tr>\n",
       "      <th>4</th>\n",
       "      <td>139.965826</td>\n",
       "      <td>1</td>\n",
       "    </tr>\n",
       "    <tr>\n",
       "      <th>5</th>\n",
       "      <td>156.752344</td>\n",
       "      <td>1</td>\n",
       "    </tr>\n",
       "  </tbody>\n",
       "</table>\n",
       "</div>"
      ],
      "text/plain": [
       "   total_time  n_jobs\n",
       "0   49.397727       4\n",
       "1   57.076594       4\n",
       "2   55.192875       4\n",
       "3  178.455487       1\n",
       "4  139.965826       1\n",
       "5  156.752344       1"
      ]
     },
     "execution_count": 6,
     "metadata": {},
     "output_type": "execute_result"
    }
   ],
   "source": [
    "results_df"
   ]
  },
  {
   "cell_type": "markdown",
   "id": "dc1005b3-acd8-4cc1-b4f1-0504e27d28ad",
   "metadata": {},
   "source": [
    "Calculate summary stats."
   ]
  },
  {
   "cell_type": "code",
   "execution_count": 7,
   "id": "50553842-8102-45ee-98c7-768e07d05fe9",
   "metadata": {
    "execution": {
     "iopub.execute_input": "2022-07-20T10:26:14.555308Z",
     "iopub.status.busy": "2022-07-20T10:26:14.554843Z",
     "iopub.status.idle": "2022-07-20T10:26:14.577441Z",
     "shell.execute_reply": "2022-07-20T10:26:14.576937Z",
     "shell.execute_reply.started": "2022-07-20T10:26:14.555288Z"
    },
    "pycharm": {
     "name": "#%%\n"
    },
    "tags": []
   },
   "outputs": [
    {
     "data": {
      "text/html": [
       "<div>\n",
       "<style scoped>\n",
       "    .dataframe tbody tr th:only-of-type {\n",
       "        vertical-align: middle;\n",
       "    }\n",
       "\n",
       "    .dataframe tbody tr th {\n",
       "        vertical-align: top;\n",
       "    }\n",
       "\n",
       "    .dataframe thead tr th {\n",
       "        text-align: left;\n",
       "    }\n",
       "\n",
       "    .dataframe thead tr:last-of-type th {\n",
       "        text-align: right;\n",
       "    }\n",
       "</style>\n",
       "<table border=\"1\" class=\"dataframe\">\n",
       "  <thead>\n",
       "    <tr>\n",
       "      <th></th>\n",
       "      <th colspan=\"8\" halign=\"left\">total_time</th>\n",
       "    </tr>\n",
       "    <tr>\n",
       "      <th></th>\n",
       "      <th>count</th>\n",
       "      <th>mean</th>\n",
       "      <th>std</th>\n",
       "      <th>min</th>\n",
       "      <th>25%</th>\n",
       "      <th>50%</th>\n",
       "      <th>75%</th>\n",
       "      <th>max</th>\n",
       "    </tr>\n",
       "    <tr>\n",
       "      <th>n_jobs</th>\n",
       "      <th></th>\n",
       "      <th></th>\n",
       "      <th></th>\n",
       "      <th></th>\n",
       "      <th></th>\n",
       "      <th></th>\n",
       "      <th></th>\n",
       "      <th></th>\n",
       "    </tr>\n",
       "  </thead>\n",
       "  <tbody>\n",
       "    <tr>\n",
       "      <th>1</th>\n",
       "      <td>3.0</td>\n",
       "      <td>158.391219</td>\n",
       "      <td>19.297097</td>\n",
       "      <td>139.965826</td>\n",
       "      <td>148.359085</td>\n",
       "      <td>156.752344</td>\n",
       "      <td>167.603915</td>\n",
       "      <td>178.455487</td>\n",
       "    </tr>\n",
       "    <tr>\n",
       "      <th>4</th>\n",
       "      <td>3.0</td>\n",
       "      <td>53.889065</td>\n",
       "      <td>4.002023</td>\n",
       "      <td>49.397727</td>\n",
       "      <td>52.295301</td>\n",
       "      <td>55.192875</td>\n",
       "      <td>56.134735</td>\n",
       "      <td>57.076594</td>\n",
       "    </tr>\n",
       "  </tbody>\n",
       "</table>\n",
       "</div>"
      ],
      "text/plain": [
       "       total_time                                                             \\\n",
       "            count        mean        std         min         25%         50%   \n",
       "n_jobs                                                                         \n",
       "1             3.0  158.391219  19.297097  139.965826  148.359085  156.752344   \n",
       "4             3.0   53.889065   4.002023   49.397727   52.295301   55.192875   \n",
       "\n",
       "                                \n",
       "               75%         max  \n",
       "n_jobs                          \n",
       "1       167.603915  178.455487  \n",
       "4        56.134735   57.076594  "
      ]
     },
     "execution_count": 7,
     "metadata": {},
     "output_type": "execute_result"
    }
   ],
   "source": [
    "results_df.groupby('n_jobs').describe()"
   ]
  },
  {
   "cell_type": "markdown",
   "id": "da879d83-f347-4a89-b42c-6a464cd428ae",
   "metadata": {},
   "source": [
    "Read in download and processing times (in minutes). The download time was obtained by analysing the network I/O while running the benchmark. The processing time is the time between the end of the download (according to the network I/O) and the end of the process. This is a simplification, as in the case of n_jobs=4 sequence processing starts while sequences are still being downloaded. "
   ]
  },
  {
   "cell_type": "code",
   "execution_count": 8,
   "id": "0fa1a64a-9ec4-4a30-b370-1de1b38669e3",
   "metadata": {
    "execution": {
     "iopub.execute_input": "2022-07-20T10:26:14.578489Z",
     "iopub.status.busy": "2022-07-20T10:26:14.578101Z",
     "iopub.status.idle": "2022-07-20T10:26:14.582447Z",
     "shell.execute_reply": "2022-07-20T10:26:14.581949Z",
     "shell.execute_reply.started": "2022-07-20T10:26:14.578469Z"
    }
   },
   "outputs": [],
   "source": [
    "download_times = pd.read_csv('benchmark_download_times.csv')"
   ]
  },
  {
   "cell_type": "code",
   "execution_count": 9,
   "id": "0691cd7a-32f6-449d-a55a-854c0e1f8502",
   "metadata": {
    "execution": {
     "iopub.execute_input": "2022-07-20T10:26:14.583662Z",
     "iopub.status.busy": "2022-07-20T10:26:14.583124Z",
     "iopub.status.idle": "2022-07-20T10:26:14.589856Z",
     "shell.execute_reply": "2022-07-20T10:26:14.589371Z",
     "shell.execute_reply.started": "2022-07-20T10:26:14.583642Z"
    },
    "tags": []
   },
   "outputs": [
    {
     "data": {
      "text/html": [
       "<div>\n",
       "<style scoped>\n",
       "    .dataframe tbody tr th:only-of-type {\n",
       "        vertical-align: middle;\n",
       "    }\n",
       "\n",
       "    .dataframe tbody tr th {\n",
       "        vertical-align: top;\n",
       "    }\n",
       "\n",
       "    .dataframe thead th {\n",
       "        text-align: right;\n",
       "    }\n",
       "</style>\n",
       "<table border=\"1\" class=\"dataframe\">\n",
       "  <thead>\n",
       "    <tr style=\"text-align: right;\">\n",
       "      <th></th>\n",
       "      <th>download_time</th>\n",
       "      <th>processing_time</th>\n",
       "      <th>n_jobs</th>\n",
       "    </tr>\n",
       "  </thead>\n",
       "  <tbody>\n",
       "    <tr>\n",
       "      <th>0</th>\n",
       "      <td>19.50</td>\n",
       "      <td>25.0</td>\n",
       "      <td>4</td>\n",
       "    </tr>\n",
       "    <tr>\n",
       "      <th>1</th>\n",
       "      <td>8.50</td>\n",
       "      <td>49.5</td>\n",
       "      <td>4</td>\n",
       "    </tr>\n",
       "    <tr>\n",
       "      <th>2</th>\n",
       "      <td>8.00</td>\n",
       "      <td>43.0</td>\n",
       "      <td>4</td>\n",
       "    </tr>\n",
       "    <tr>\n",
       "      <th>3</th>\n",
       "      <td>8.25</td>\n",
       "      <td>170.0</td>\n",
       "      <td>1</td>\n",
       "    </tr>\n",
       "    <tr>\n",
       "      <th>4</th>\n",
       "      <td>8.50</td>\n",
       "      <td>132.0</td>\n",
       "      <td>1</td>\n",
       "    </tr>\n",
       "    <tr>\n",
       "      <th>5</th>\n",
       "      <td>8.50</td>\n",
       "      <td>137.0</td>\n",
       "      <td>1</td>\n",
       "    </tr>\n",
       "  </tbody>\n",
       "</table>\n",
       "</div>"
      ],
      "text/plain": [
       "   download_time  processing_time  n_jobs\n",
       "0          19.50             25.0       4\n",
       "1           8.50             49.5       4\n",
       "2           8.00             43.0       4\n",
       "3           8.25            170.0       1\n",
       "4           8.50            132.0       1\n",
       "5           8.50            137.0       1"
      ]
     },
     "execution_count": 9,
     "metadata": {},
     "output_type": "execute_result"
    }
   ],
   "source": [
    "download_times"
   ]
  },
  {
   "cell_type": "markdown",
   "id": "4f568e14-57b3-4df0-b791-8eb33b5a8022",
   "metadata": {},
   "source": [
    "Calculate summary stats."
   ]
  },
  {
   "cell_type": "code",
   "execution_count": 10,
   "id": "cf41615e-5a57-496d-a74d-161fc5e19c7d",
   "metadata": {
    "execution": {
     "iopub.execute_input": "2022-07-20T10:26:14.590877Z",
     "iopub.status.busy": "2022-07-20T10:26:14.590564Z",
     "iopub.status.idle": "2022-07-20T10:26:14.620393Z",
     "shell.execute_reply": "2022-07-20T10:26:14.619799Z",
     "shell.execute_reply.started": "2022-07-20T10:26:14.590857Z"
    }
   },
   "outputs": [
    {
     "data": {
      "text/html": [
       "<div>\n",
       "<style scoped>\n",
       "    .dataframe tbody tr th:only-of-type {\n",
       "        vertical-align: middle;\n",
       "    }\n",
       "\n",
       "    .dataframe tbody tr th {\n",
       "        vertical-align: top;\n",
       "    }\n",
       "\n",
       "    .dataframe thead tr th {\n",
       "        text-align: left;\n",
       "    }\n",
       "\n",
       "    .dataframe thead tr:last-of-type th {\n",
       "        text-align: right;\n",
       "    }\n",
       "</style>\n",
       "<table border=\"1\" class=\"dataframe\">\n",
       "  <thead>\n",
       "    <tr>\n",
       "      <th></th>\n",
       "      <th colspan=\"8\" halign=\"left\">download_time</th>\n",
       "      <th colspan=\"8\" halign=\"left\">processing_time</th>\n",
       "    </tr>\n",
       "    <tr>\n",
       "      <th></th>\n",
       "      <th>count</th>\n",
       "      <th>mean</th>\n",
       "      <th>std</th>\n",
       "      <th>min</th>\n",
       "      <th>25%</th>\n",
       "      <th>50%</th>\n",
       "      <th>75%</th>\n",
       "      <th>max</th>\n",
       "      <th>count</th>\n",
       "      <th>mean</th>\n",
       "      <th>std</th>\n",
       "      <th>min</th>\n",
       "      <th>25%</th>\n",
       "      <th>50%</th>\n",
       "      <th>75%</th>\n",
       "      <th>max</th>\n",
       "    </tr>\n",
       "    <tr>\n",
       "      <th>n_jobs</th>\n",
       "      <th></th>\n",
       "      <th></th>\n",
       "      <th></th>\n",
       "      <th></th>\n",
       "      <th></th>\n",
       "      <th></th>\n",
       "      <th></th>\n",
       "      <th></th>\n",
       "      <th></th>\n",
       "      <th></th>\n",
       "      <th></th>\n",
       "      <th></th>\n",
       "      <th></th>\n",
       "      <th></th>\n",
       "      <th></th>\n",
       "      <th></th>\n",
       "    </tr>\n",
       "  </thead>\n",
       "  <tbody>\n",
       "    <tr>\n",
       "      <th>1</th>\n",
       "      <td>3.0</td>\n",
       "      <td>8.416667</td>\n",
       "      <td>0.144338</td>\n",
       "      <td>8.25</td>\n",
       "      <td>8.375</td>\n",
       "      <td>8.5</td>\n",
       "      <td>8.5</td>\n",
       "      <td>8.5</td>\n",
       "      <td>3.0</td>\n",
       "      <td>146.333333</td>\n",
       "      <td>20.647841</td>\n",
       "      <td>132.0</td>\n",
       "      <td>134.5</td>\n",
       "      <td>137.0</td>\n",
       "      <td>153.50</td>\n",
       "      <td>170.0</td>\n",
       "    </tr>\n",
       "    <tr>\n",
       "      <th>4</th>\n",
       "      <td>3.0</td>\n",
       "      <td>12.000000</td>\n",
       "      <td>6.500000</td>\n",
       "      <td>8.00</td>\n",
       "      <td>8.250</td>\n",
       "      <td>8.5</td>\n",
       "      <td>14.0</td>\n",
       "      <td>19.5</td>\n",
       "      <td>3.0</td>\n",
       "      <td>39.166667</td>\n",
       "      <td>12.691861</td>\n",
       "      <td>25.0</td>\n",
       "      <td>34.0</td>\n",
       "      <td>43.0</td>\n",
       "      <td>46.25</td>\n",
       "      <td>49.5</td>\n",
       "    </tr>\n",
       "  </tbody>\n",
       "</table>\n",
       "</div>"
      ],
      "text/plain": [
       "       download_time                                                     \\\n",
       "               count       mean       std   min    25%  50%   75%   max   \n",
       "n_jobs                                                                    \n",
       "1                3.0   8.416667  0.144338  8.25  8.375  8.5   8.5   8.5   \n",
       "4                3.0  12.000000  6.500000  8.00  8.250  8.5  14.0  19.5   \n",
       "\n",
       "       processing_time                                                      \\\n",
       "                 count        mean        std    min    25%    50%     75%   \n",
       "n_jobs                                                                       \n",
       "1                  3.0  146.333333  20.647841  132.0  134.5  137.0  153.50   \n",
       "4                  3.0   39.166667  12.691861   25.0   34.0   43.0   46.25   \n",
       "\n",
       "               \n",
       "          max  \n",
       "n_jobs         \n",
       "1       170.0  \n",
       "4        49.5  "
      ]
     },
     "execution_count": 10,
     "metadata": {},
     "output_type": "execute_result"
    }
   ],
   "source": [
    "download_times.groupby('n_jobs').describe()"
   ]
  },
  {
   "cell_type": "markdown",
   "id": "36713871-7e9a-40f6-aa54-301958001115",
   "metadata": {},
   "source": [
    "Merge both DataFrames into a single object and remove unnecessary columns."
   ]
  },
  {
   "cell_type": "code",
   "execution_count": 11,
   "id": "f4235ecc-25e7-4aef-9c79-066e0122780c",
   "metadata": {
    "execution": {
     "iopub.execute_input": "2022-07-20T10:26:14.621595Z",
     "iopub.status.busy": "2022-07-20T10:26:14.621088Z",
     "iopub.status.idle": "2022-07-20T10:26:14.625903Z",
     "shell.execute_reply": "2022-07-20T10:26:14.625407Z",
     "shell.execute_reply.started": "2022-07-20T10:26:14.621573Z"
    },
    "tags": []
   },
   "outputs": [],
   "source": [
    "results_all = results_df.merge(download_times, left_index=True, right_index=True)\n",
    "results_all.drop('n_jobs_y', inplace=True, axis=1)"
   ]
  },
  {
   "cell_type": "code",
   "execution_count": 12,
   "id": "7b80c332-bedf-4c05-84c3-4092297ac979",
   "metadata": {
    "execution": {
     "iopub.execute_input": "2022-07-20T10:26:14.627053Z",
     "iopub.status.busy": "2022-07-20T10:26:14.626778Z",
     "iopub.status.idle": "2022-07-20T10:26:14.633882Z",
     "shell.execute_reply": "2022-07-20T10:26:14.633407Z",
     "shell.execute_reply.started": "2022-07-20T10:26:14.627034Z"
    },
    "tags": []
   },
   "outputs": [
    {
     "data": {
      "text/html": [
       "<div>\n",
       "<style scoped>\n",
       "    .dataframe tbody tr th:only-of-type {\n",
       "        vertical-align: middle;\n",
       "    }\n",
       "\n",
       "    .dataframe tbody tr th {\n",
       "        vertical-align: top;\n",
       "    }\n",
       "\n",
       "    .dataframe thead th {\n",
       "        text-align: right;\n",
       "    }\n",
       "</style>\n",
       "<table border=\"1\" class=\"dataframe\">\n",
       "  <thead>\n",
       "    <tr style=\"text-align: right;\">\n",
       "      <th></th>\n",
       "      <th>total_time</th>\n",
       "      <th>n_jobs_x</th>\n",
       "      <th>download_time</th>\n",
       "      <th>processing_time</th>\n",
       "    </tr>\n",
       "  </thead>\n",
       "  <tbody>\n",
       "    <tr>\n",
       "      <th>0</th>\n",
       "      <td>49.397727</td>\n",
       "      <td>4</td>\n",
       "      <td>19.50</td>\n",
       "      <td>25.0</td>\n",
       "    </tr>\n",
       "    <tr>\n",
       "      <th>1</th>\n",
       "      <td>57.076594</td>\n",
       "      <td>4</td>\n",
       "      <td>8.50</td>\n",
       "      <td>49.5</td>\n",
       "    </tr>\n",
       "    <tr>\n",
       "      <th>2</th>\n",
       "      <td>55.192875</td>\n",
       "      <td>4</td>\n",
       "      <td>8.00</td>\n",
       "      <td>43.0</td>\n",
       "    </tr>\n",
       "    <tr>\n",
       "      <th>3</th>\n",
       "      <td>178.455487</td>\n",
       "      <td>1</td>\n",
       "      <td>8.25</td>\n",
       "      <td>170.0</td>\n",
       "    </tr>\n",
       "    <tr>\n",
       "      <th>4</th>\n",
       "      <td>139.965826</td>\n",
       "      <td>1</td>\n",
       "      <td>8.50</td>\n",
       "      <td>132.0</td>\n",
       "    </tr>\n",
       "    <tr>\n",
       "      <th>5</th>\n",
       "      <td>156.752344</td>\n",
       "      <td>1</td>\n",
       "      <td>8.50</td>\n",
       "      <td>137.0</td>\n",
       "    </tr>\n",
       "  </tbody>\n",
       "</table>\n",
       "</div>"
      ],
      "text/plain": [
       "   total_time  n_jobs_x  download_time  processing_time\n",
       "0   49.397727         4          19.50             25.0\n",
       "1   57.076594         4           8.50             49.5\n",
       "2   55.192875         4           8.00             43.0\n",
       "3  178.455487         1           8.25            170.0\n",
       "4  139.965826         1           8.50            132.0\n",
       "5  156.752344         1           8.50            137.0"
      ]
     },
     "execution_count": 12,
     "metadata": {},
     "output_type": "execute_result"
    }
   ],
   "source": [
    "results_all"
   ]
  },
  {
   "cell_type": "markdown",
   "id": "5586d2e5-240b-4873-8b00-bb25a6652b9c",
   "metadata": {},
   "source": [
    "Calculate summary stats."
   ]
  },
  {
   "cell_type": "code",
   "execution_count": 13,
   "id": "44b7eebe-cff6-4195-902d-8802ac9ec8cd",
   "metadata": {
    "execution": {
     "iopub.execute_input": "2022-07-20T10:26:14.635071Z",
     "iopub.status.busy": "2022-07-20T10:26:14.634610Z",
     "iopub.status.idle": "2022-07-20T10:26:14.643143Z",
     "shell.execute_reply": "2022-07-20T10:26:14.642669Z",
     "shell.execute_reply.started": "2022-07-20T10:26:14.635051Z"
    },
    "tags": []
   },
   "outputs": [
    {
     "data": {
      "text/html": [
       "<div>\n",
       "<style scoped>\n",
       "    .dataframe tbody tr th:only-of-type {\n",
       "        vertical-align: middle;\n",
       "    }\n",
       "\n",
       "    .dataframe tbody tr th {\n",
       "        vertical-align: top;\n",
       "    }\n",
       "\n",
       "    .dataframe thead th {\n",
       "        text-align: right;\n",
       "    }\n",
       "</style>\n",
       "<table border=\"1\" class=\"dataframe\">\n",
       "  <thead>\n",
       "    <tr style=\"text-align: right;\">\n",
       "      <th></th>\n",
       "      <th>n_jobs_x</th>\n",
       "      <th>total_time</th>\n",
       "      <th>download_time</th>\n",
       "      <th>processing_time</th>\n",
       "    </tr>\n",
       "  </thead>\n",
       "  <tbody>\n",
       "    <tr>\n",
       "      <th>0</th>\n",
       "      <td>1</td>\n",
       "      <td>158.391219</td>\n",
       "      <td>8.416667</td>\n",
       "      <td>146.333333</td>\n",
       "    </tr>\n",
       "    <tr>\n",
       "      <th>1</th>\n",
       "      <td>4</td>\n",
       "      <td>53.889065</td>\n",
       "      <td>12.000000</td>\n",
       "      <td>39.166667</td>\n",
       "    </tr>\n",
       "  </tbody>\n",
       "</table>\n",
       "</div>"
      ],
      "text/plain": [
       "   n_jobs_x  total_time  download_time  processing_time\n",
       "0         1  158.391219       8.416667       146.333333\n",
       "1         4   53.889065      12.000000        39.166667"
      ]
     },
     "execution_count": 13,
     "metadata": {},
     "output_type": "execute_result"
    }
   ],
   "source": [
    "times_mean = results_all.groupby('n_jobs_x').mean().reset_index()\n",
    "times_mean"
   ]
  },
  {
   "cell_type": "code",
   "execution_count": 14,
   "id": "6b20d7c5-c35e-4c1c-83ca-4b88895ddf84",
   "metadata": {
    "execution": {
     "iopub.execute_input": "2022-07-20T10:26:14.644308Z",
     "iopub.status.busy": "2022-07-20T10:26:14.643832Z",
     "iopub.status.idle": "2022-07-20T10:26:14.652536Z",
     "shell.execute_reply": "2022-07-20T10:26:14.652051Z",
     "shell.execute_reply.started": "2022-07-20T10:26:14.644288Z"
    },
    "tags": []
   },
   "outputs": [
    {
     "data": {
      "text/html": [
       "<div>\n",
       "<style scoped>\n",
       "    .dataframe tbody tr th:only-of-type {\n",
       "        vertical-align: middle;\n",
       "    }\n",
       "\n",
       "    .dataframe tbody tr th {\n",
       "        vertical-align: top;\n",
       "    }\n",
       "\n",
       "    .dataframe thead th {\n",
       "        text-align: right;\n",
       "    }\n",
       "</style>\n",
       "<table border=\"1\" class=\"dataframe\">\n",
       "  <thead>\n",
       "    <tr style=\"text-align: right;\">\n",
       "      <th></th>\n",
       "      <th>n_jobs_x</th>\n",
       "      <th>total_time</th>\n",
       "      <th>download_time</th>\n",
       "      <th>processing_time</th>\n",
       "    </tr>\n",
       "  </thead>\n",
       "  <tbody>\n",
       "    <tr>\n",
       "      <th>0</th>\n",
       "      <td>1</td>\n",
       "      <td>19.297097</td>\n",
       "      <td>0.144338</td>\n",
       "      <td>20.647841</td>\n",
       "    </tr>\n",
       "    <tr>\n",
       "      <th>1</th>\n",
       "      <td>4</td>\n",
       "      <td>4.002023</td>\n",
       "      <td>6.500000</td>\n",
       "      <td>12.691861</td>\n",
       "    </tr>\n",
       "  </tbody>\n",
       "</table>\n",
       "</div>"
      ],
      "text/plain": [
       "   n_jobs_x  total_time  download_time  processing_time\n",
       "0         1   19.297097       0.144338        20.647841\n",
       "1         4    4.002023       6.500000        12.691861"
      ]
     },
     "execution_count": 14,
     "metadata": {},
     "output_type": "execute_result"
    }
   ],
   "source": [
    "times_std = results_all.groupby('n_jobs_x').std().reset_index()\n",
    "times_std"
   ]
  },
  {
   "cell_type": "markdown",
   "id": "fd4daa32-bc63-4279-b70b-579e332ebc8f",
   "metadata": {},
   "source": [
    "Melt the DataFrame to change its format for plotting with seaborn."
   ]
  },
  {
   "cell_type": "code",
   "execution_count": 15,
   "id": "70f5ec48-751b-4245-97fa-732f42de9335",
   "metadata": {
    "execution": {
     "iopub.execute_input": "2022-07-20T10:26:14.653567Z",
     "iopub.status.busy": "2022-07-20T10:26:14.653226Z",
     "iopub.status.idle": "2022-07-20T10:26:14.663572Z",
     "shell.execute_reply": "2022-07-20T10:26:14.663083Z",
     "shell.execute_reply.started": "2022-07-20T10:26:14.653548Z"
    }
   },
   "outputs": [
    {
     "data": {
      "text/html": [
       "<div>\n",
       "<style scoped>\n",
       "    .dataframe tbody tr th:only-of-type {\n",
       "        vertical-align: middle;\n",
       "    }\n",
       "\n",
       "    .dataframe tbody tr th {\n",
       "        vertical-align: top;\n",
       "    }\n",
       "\n",
       "    .dataframe thead th {\n",
       "        text-align: right;\n",
       "    }\n",
       "</style>\n",
       "<table border=\"1\" class=\"dataframe\">\n",
       "  <thead>\n",
       "    <tr style=\"text-align: right;\">\n",
       "      <th></th>\n",
       "      <th>n_jobs_x</th>\n",
       "      <th>variable</th>\n",
       "      <th>value</th>\n",
       "    </tr>\n",
       "  </thead>\n",
       "  <tbody>\n",
       "    <tr>\n",
       "      <th>0</th>\n",
       "      <td>4</td>\n",
       "      <td>download_time</td>\n",
       "      <td>19.500000</td>\n",
       "    </tr>\n",
       "    <tr>\n",
       "      <th>1</th>\n",
       "      <td>4</td>\n",
       "      <td>download_time</td>\n",
       "      <td>8.500000</td>\n",
       "    </tr>\n",
       "    <tr>\n",
       "      <th>2</th>\n",
       "      <td>4</td>\n",
       "      <td>download_time</td>\n",
       "      <td>8.000000</td>\n",
       "    </tr>\n",
       "    <tr>\n",
       "      <th>3</th>\n",
       "      <td>1</td>\n",
       "      <td>download_time</td>\n",
       "      <td>8.250000</td>\n",
       "    </tr>\n",
       "    <tr>\n",
       "      <th>4</th>\n",
       "      <td>1</td>\n",
       "      <td>download_time</td>\n",
       "      <td>8.500000</td>\n",
       "    </tr>\n",
       "    <tr>\n",
       "      <th>5</th>\n",
       "      <td>1</td>\n",
       "      <td>download_time</td>\n",
       "      <td>8.500000</td>\n",
       "    </tr>\n",
       "    <tr>\n",
       "      <th>6</th>\n",
       "      <td>4</td>\n",
       "      <td>processing_time</td>\n",
       "      <td>25.000000</td>\n",
       "    </tr>\n",
       "    <tr>\n",
       "      <th>7</th>\n",
       "      <td>4</td>\n",
       "      <td>processing_time</td>\n",
       "      <td>49.500000</td>\n",
       "    </tr>\n",
       "    <tr>\n",
       "      <th>8</th>\n",
       "      <td>4</td>\n",
       "      <td>processing_time</td>\n",
       "      <td>43.000000</td>\n",
       "    </tr>\n",
       "    <tr>\n",
       "      <th>9</th>\n",
       "      <td>1</td>\n",
       "      <td>processing_time</td>\n",
       "      <td>170.000000</td>\n",
       "    </tr>\n",
       "    <tr>\n",
       "      <th>10</th>\n",
       "      <td>1</td>\n",
       "      <td>processing_time</td>\n",
       "      <td>132.000000</td>\n",
       "    </tr>\n",
       "    <tr>\n",
       "      <th>11</th>\n",
       "      <td>1</td>\n",
       "      <td>processing_time</td>\n",
       "      <td>137.000000</td>\n",
       "    </tr>\n",
       "    <tr>\n",
       "      <th>12</th>\n",
       "      <td>4</td>\n",
       "      <td>total_time</td>\n",
       "      <td>49.397727</td>\n",
       "    </tr>\n",
       "    <tr>\n",
       "      <th>13</th>\n",
       "      <td>4</td>\n",
       "      <td>total_time</td>\n",
       "      <td>57.076594</td>\n",
       "    </tr>\n",
       "    <tr>\n",
       "      <th>14</th>\n",
       "      <td>4</td>\n",
       "      <td>total_time</td>\n",
       "      <td>55.192875</td>\n",
       "    </tr>\n",
       "    <tr>\n",
       "      <th>15</th>\n",
       "      <td>1</td>\n",
       "      <td>total_time</td>\n",
       "      <td>178.455487</td>\n",
       "    </tr>\n",
       "    <tr>\n",
       "      <th>16</th>\n",
       "      <td>1</td>\n",
       "      <td>total_time</td>\n",
       "      <td>139.965826</td>\n",
       "    </tr>\n",
       "    <tr>\n",
       "      <th>17</th>\n",
       "      <td>1</td>\n",
       "      <td>total_time</td>\n",
       "      <td>156.752344</td>\n",
       "    </tr>\n",
       "  </tbody>\n",
       "</table>\n",
       "</div>"
      ],
      "text/plain": [
       "    n_jobs_x         variable       value\n",
       "0          4    download_time   19.500000\n",
       "1          4    download_time    8.500000\n",
       "2          4    download_time    8.000000\n",
       "3          1    download_time    8.250000\n",
       "4          1    download_time    8.500000\n",
       "5          1    download_time    8.500000\n",
       "6          4  processing_time   25.000000\n",
       "7          4  processing_time   49.500000\n",
       "8          4  processing_time   43.000000\n",
       "9          1  processing_time  170.000000\n",
       "10         1  processing_time  132.000000\n",
       "11         1  processing_time  137.000000\n",
       "12         4       total_time   49.397727\n",
       "13         4       total_time   57.076594\n",
       "14         4       total_time   55.192875\n",
       "15         1       total_time  178.455487\n",
       "16         1       total_time  139.965826\n",
       "17         1       total_time  156.752344"
      ]
     },
     "execution_count": 15,
     "metadata": {},
     "output_type": "execute_result"
    }
   ],
   "source": [
    "results_all_melt = pd.melt(results_all, id_vars='n_jobs_x', value_vars=['download_time', 'processing_time', 'total_time'])\n",
    "results_all_melt"
   ]
  },
  {
   "cell_type": "markdown",
   "id": "459e0c8c-dc8c-454a-8bd1-b1e0e94017dd",
   "metadata": {},
   "source": [
    "Generate a bar plot for all the analyzed times."
   ]
  },
  {
   "cell_type": "code",
   "execution_count": 16,
   "id": "fc396384-f63c-485e-8516-8076876111ae",
   "metadata": {
    "execution": {
     "iopub.execute_input": "2022-07-20T10:26:14.664848Z",
     "iopub.status.busy": "2022-07-20T10:26:14.664259Z",
     "iopub.status.idle": "2022-07-20T10:26:14.926614Z",
     "shell.execute_reply": "2022-07-20T10:26:14.926062Z",
     "shell.execute_reply.started": "2022-07-20T10:26:14.664826Z"
    },
    "tags": []
   },
   "outputs": [
    {
     "name": "stderr",
     "output_type": "stream",
     "text": [
      "findfont: Font family ['Arial'] not found. Falling back to DejaVu Sans.\n",
      "findfont: Font family ['Arial'] not found. Falling back to DejaVu Sans.\n"
     ]
    },
    {
     "data": {
      "image/png": "[encoded data removed]",
      "text/plain": [
       "<Figure size 576x360 with 1 Axes>"
      ]
     },
     "metadata": {},
     "output_type": "display_data"
    }
   ],
   "source": [
    "sns.set(rc={'figure.figsize':(8, 5), 'font.family': ['Arial']}, style='white')\n",
    "with sns.plotting_context(\"notebook\", font_scale=1.2):\n",
    "    fig = plt.figure()\n",
    "    ax = fig.add_subplot(111)\n",
    "    \n",
    "    sns.barplot(\n",
    "        x=\"variable\", \n",
    "        y=\"value\", \n",
    "        hue='n_jobs_x', \n",
    "        data=results_all_melt,\n",
    "        ax=ax,\n",
    "    )\n",
    "    \n",
    "    ax.set_xlabel(f'Sequence fetch step')\n",
    "    ax.set_ylabel(f'Time [min]')\n",
    "    \n",
    "    plt.tight_layout()"
   ]
  },
  {
   "cell_type": "code",
   "execution_count": 17,
   "id": "032b5ecd-5328-49ff-96c0-274a31c08dbd",
   "metadata": {
    "execution": {
     "iopub.execute_input": "2022-07-20T10:26:14.927558Z",
     "iopub.status.busy": "2022-07-20T10:26:14.927368Z",
     "iopub.status.idle": "2022-07-20T10:26:15.031796Z",
     "shell.execute_reply": "2022-07-20T10:26:15.031227Z",
     "shell.execute_reply.started": "2022-07-20T10:26:14.927541Z"
    },
    "tags": []
   },
   "outputs": [
    {
     "name": "stderr",
     "output_type": "stream",
     "text": [
      "The PostScript backend does not support transparency; partially transparent artists will be rendered opaque.\n"
     ]
    }
   ],
   "source": [
    "fig.savefig('parallelization_test.eps')"
   ]
  }
 ],
 "metadata": {
  "kernelspec": {
   "display_name": "Python 3 (ipykernel)",
   "language": "python",
   "name": "python3"
  },
  "language_info": {
   "codemirror_mode": {
    "name": "ipython",
    "version": 3
   },
   "file_extension": ".py",
   "mimetype": "text/x-python",
   "name": "python",
   "nbconvert_exporter": "python",
   "pygments_lexer": "ipython3",
   "version": "3.8.13"
  }
 },
 "nbformat": 4,
 "nbformat_minor": 5
}
