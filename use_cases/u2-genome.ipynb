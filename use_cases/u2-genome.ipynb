{
 "cells": [
  {
   "cell_type": "markdown",
   "metadata": {
    "tags": []
   },
   "source": [
    "## Setup\n",
    "\n",
    "__Note:__ This analysis requires a lot of temporary storage space (~200GB) in the data fetch phase. Subsequently, around ~50GB are required to store all the output artifacts."
   ]
  },
  {
   "cell_type": "code",
   "execution_count": 1,
   "metadata": {
    "execution": {
     "iopub.execute_input": "2022-07-19T15:12:07.638353Z",
     "iopub.status.busy": "2022-07-19T15:12:07.638047Z",
     "iopub.status.idle": "2022-07-19T15:12:11.437075Z",
     "shell.execute_reply": "2022-07-19T15:12:11.436630Z",
     "shell.execute_reply.started": "2022-07-19T15:12:07.638285Z"
    },
    "pycharm": {
     "name": "#%%\n"
    },
    "tags": []
   },
   "outputs": [],
   "source": [
    "import os\n",
    "import matplotlib.pyplot as plt\n",
    "import pandas as pd\n",
    "import qiime2 as q2\n",
    "import seaborn as sns\n",
    "import skbio\n",
    "\n",
    "from matplotlib import cm\n",
    "from qiime2.plugins import (\n",
    "    fondue, sourmash, diversity, emperor, demux, \n",
    "    sample_classifier, cutadapt\n",
    ")\n",
    "\n",
    "data_loc = 'u2-genome-results'\n",
    "if not os.path.isdir(data_loc):\n",
    "    os.mkdir(data_loc)\n",
    "\n",
    "email = 'your@email.com'\n",
    "n_jobs = 16\n",
    "\n",
    "nextstrain_metadata_path = os.path.join(data_loc, 'metadata_nextstrain.tsv')\n",
    "nextstrain_meta_url = 'https://data.nextstrain.org/files/ncov/open/metadata.tsv.gz'\n",
    "nextstrain_last_submit_date = '2022-01-31'\n",
    "\n",
    "genomes_per_region = 250\n",
    "random_seed = 11\n",
    "\n",
    "sra_metadata_path = os.path.join(data_loc, 'metadata_sra.tsv')\n",
    "metadata_merged_path = os.path.join(data_loc, 'metadata_merged.tsv')"
   ]
  },
  {
   "cell_type": "code",
   "execution_count": 2,
   "metadata": {
    "execution": {
     "iopub.execute_input": "2022-07-19T15:12:11.438179Z",
     "iopub.status.busy": "2022-07-19T15:12:11.437927Z",
     "iopub.status.idle": "2022-07-19T15:12:11.442024Z",
     "shell.execute_reply": "2022-07-19T15:12:11.441661Z",
     "shell.execute_reply.started": "2022-07-19T15:12:11.438164Z"
    },
    "tags": []
   },
   "outputs": [],
   "source": [
    "def sample_variants(metadata_df, n, grouping_col='Nextstrain_clade', random_state=1):\n",
    "    \"\"\"Draw a random, stratified sample from all available virus variants.\n",
    "    \n",
    "    Args:\n",
    "        metadata_df (pd.DataFrame): Metadata of all samples.\n",
    "        n (int): Sample size per virus variant.\n",
    "        grouping_col (str): Name of the column containing variant name.\n",
    "        random_state (int): Random seed to be used when sampling.\n",
    "    \n",
    "    Returns:\n",
    "        pd.DataFrame: DataFrame containing subsampled metadata.\n",
    "    \"\"\"\n",
    "    metadata_ns_vars_smp = metadata_df.groupby(grouping_col).apply(\n",
    "        lambda x: x.sample(n=n, random_state=random_state)\n",
    "    )\n",
    "    if 'sra_accession' in metadata_ns_vars_smp.columns:\n",
    "        metadata_ns_vars_smp.set_index('sra_accession', drop=True, inplace=True)\n",
    "    else:\n",
    "        metadata_ns_vars_smp.reset_index(level=0, drop=True, inplace=True)\n",
    "    metadata_ns_vars_smp.index.name = 'id'\n",
    "    return metadata_ns_vars_smp\n",
    "\n",
    "\n",
    "def color_variants(x, cmap='plasma'):\n",
    "    \"\"\"\n",
    "    Return a color from provided color map based on virus variant.\n",
    "    \n",
    "    Args:\n",
    "        x (str): Variant name.\n",
    "        cmap (str): Matplotlib's color map name.\n",
    "    \n",
    "    Returns:\n",
    "        Color from Matplotlib's cmap.\n",
    "    \"\"\"\n",
    "    colors = cm.get_cmap(cmap, 8).colors\n",
    "    if x == 'Alpha':\n",
    "        return colors[0]\n",
    "    elif x == 'Delta':\n",
    "        return colors[1]\n",
    "    else: \n",
    "        return colors[2]"
   ]
  },
  {
   "cell_type": "markdown",
   "metadata": {
    "pycharm": {
     "name": "#%% md\n"
    },
    "tags": []
   },
   "source": [
    "## Process NextStrain's metadata\n",
    "\n",
    "We are interested in taking a sample of SARS-CoV-2 genomes from the full Nextstrain list. We will only consider genomes available in the SRA repository for a few geographical regions. Moreover, we will only work with single-end sequences to simplify the analysis. We begin by fetching the original Nextstrain metadata:"
   ]
  },
  {
   "cell_type": "code",
   "execution_count": 3,
   "metadata": {
    "execution": {
     "iopub.execute_input": "2022-07-19T15:12:11.442731Z",
     "iopub.status.busy": "2022-07-19T15:12:11.442605Z",
     "iopub.status.idle": "2022-07-19T15:12:11.497761Z",
     "shell.execute_reply": "2022-07-19T15:12:11.497293Z",
     "shell.execute_reply.started": "2022-07-19T15:12:11.442718Z"
    },
    "tags": []
   },
   "outputs": [
    {
     "name": "stdout",
     "output_type": "stream",
     "text": [
      "u2-genome-results/metadata_nextstrain.tsv exists and will not be re-downloaded.\n"
     ]
    }
   ],
   "source": [
    "%%bash -s \"$nextstrain_metadata_path\" \"$data_loc\" \"$nextstrain_meta_url\"\n",
    "\n",
    "if test -f \"$1\"; then\n",
    "    echo \"$1 exists and will not be re-downloaded.\"\n",
    "else\n",
    "    wget -nv -O \"$2/metadata.tsv.gz\" \"$3\";\n",
    "    gzip -f -d \"$2/metadata.tsv.gz\";\n",
    "    mv \"$2/metadata.tsv\" \"$2/metadata_nextstrain.tsv\"\n",
    "fi"
   ]
  },
  {
   "cell_type": "code",
   "execution_count": 4,
   "metadata": {
    "execution": {
     "iopub.execute_input": "2022-07-19T15:12:11.498455Z",
     "iopub.status.busy": "2022-07-19T15:12:11.498309Z",
     "iopub.status.idle": "2022-07-19T15:12:43.112380Z",
     "shell.execute_reply": "2022-07-19T15:12:43.112006Z",
     "shell.execute_reply.started": "2022-07-19T15:12:11.498440Z"
    },
    "pycharm": {
     "name": "#%%\n"
    },
    "tags": []
   },
   "outputs": [
    {
     "name": "stderr",
     "output_type": "stream",
     "text": [
      "/home/michal/miniconda3/envs/fondue-pub/lib/python3.8/site-packages/IPython/core/interactiveshell.py:3135: DtypeWarning: Columns (4,9,41,46) have mixed types.Specify dtype option on import or set low_memory=False.\n",
      "  has_raised = await self.run_ast_nodes(code_ast.body, cell_name,\n"
     ]
    },
    {
     "data": {
      "text/plain": [
       "(3709271, 47)"
      ]
     },
     "execution_count": 4,
     "metadata": {},
     "output_type": "execute_result"
    }
   ],
   "source": [
    "metadata_ns = pd.read_csv(nextstrain_metadata_path, sep='\\t')\n",
    "metadata_ns.shape"
   ]
  },
  {
   "cell_type": "code",
   "execution_count": 5,
   "metadata": {
    "execution": {
     "iopub.execute_input": "2022-07-19T15:12:43.113570Z",
     "iopub.status.busy": "2022-07-19T15:12:43.113399Z",
     "iopub.status.idle": "2022-07-19T15:12:43.127997Z",
     "shell.execute_reply": "2022-07-19T15:12:43.127633Z",
     "shell.execute_reply.started": "2022-07-19T15:12:43.113557Z"
    },
    "pycharm": {
     "name": "#%%\n"
    },
    "tags": []
   },
   "outputs": [
    {
     "data": {
      "text/html": [
       "<div>\n",
       "<style scoped>\n",
       "    .dataframe tbody tr th:only-of-type {\n",
       "        vertical-align: middle;\n",
       "    }\n",
       "\n",
       "    .dataframe tbody tr th {\n",
       "        vertical-align: top;\n",
       "    }\n",
       "\n",
       "    .dataframe thead th {\n",
       "        text-align: right;\n",
       "    }\n",
       "</style>\n",
       "<table border=\"1\" class=\"dataframe\">\n",
       "  <thead>\n",
       "    <tr style=\"text-align: right;\">\n",
       "      <th></th>\n",
       "      <th>strain</th>\n",
       "      <th>virus</th>\n",
       "      <th>gisaid_epi_isl</th>\n",
       "      <th>genbank_accession</th>\n",
       "      <th>sra_accession</th>\n",
       "      <th>date</th>\n",
       "      <th>region</th>\n",
       "      <th>country</th>\n",
       "      <th>division</th>\n",
       "      <th>location</th>\n",
       "      <th>...</th>\n",
       "      <th>QC_rare_mutations</th>\n",
       "      <th>QC_snp_clusters</th>\n",
       "      <th>QC_frame_shifts</th>\n",
       "      <th>QC_stop_codons</th>\n",
       "      <th>frame_shifts</th>\n",
       "      <th>deletions</th>\n",
       "      <th>insertions</th>\n",
       "      <th>substitutions</th>\n",
       "      <th>aaSubstitutions</th>\n",
       "      <th>clock_deviation</th>\n",
       "    </tr>\n",
       "  </thead>\n",
       "  <tbody>\n",
       "    <tr>\n",
       "      <th>0</th>\n",
       "      <td>?</td>\n",
       "      <td>ncov</td>\n",
       "      <td>EPI_ISL_8303487</td>\n",
       "      <td>OV377246</td>\n",
       "      <td>ERR7904006</td>\n",
       "      <td>?</td>\n",
       "      <td>Europe</td>\n",
       "      <td>United Kingdom</td>\n",
       "      <td>?</td>\n",
       "      <td>NaN</td>\n",
       "      <td>...</td>\n",
       "      <td>bad</td>\n",
       "      <td>good</td>\n",
       "      <td>good</td>\n",
       "      <td>good</td>\n",
       "      <td>NaN</td>\n",
       "      <td>6513-6515</td>\n",
       "      <td>22195:NTAGTGCGT,25695:GAA</td>\n",
       "      <td>C241T,A2832G,C3037T,C7124T,G8393A,G9441T,C1002...</td>\n",
       "      <td>M:I82T,ORF1a:K856R,ORF1a:L2084I,ORF1a:P2287S,O...</td>\n",
       "      <td>?</td>\n",
       "    </tr>\n",
       "    <tr>\n",
       "      <th>1</th>\n",
       "      <td>ARG/Cordoba-1006-155/2020</td>\n",
       "      <td>ncov</td>\n",
       "      <td>?</td>\n",
       "      <td>MW553298</td>\n",
       "      <td>NaN</td>\n",
       "      <td>2020-06-04</td>\n",
       "      <td>South America</td>\n",
       "      <td>Argentina</td>\n",
       "      <td>Argentina</td>\n",
       "      <td>NaN</td>\n",
       "      <td>...</td>\n",
       "      <td>good</td>\n",
       "      <td>good</td>\n",
       "      <td>good</td>\n",
       "      <td>good</td>\n",
       "      <td>NaN</td>\n",
       "      <td>NaN</td>\n",
       "      <td>NaN</td>\n",
       "      <td>C241T,C3037T,C3261T,C9711T,C14408T,C17012T,A20...</td>\n",
       "      <td>ORF1a:T999I,ORF1a:S3149F,ORF1b:P314L,ORF1b:S11...</td>\n",
       "      <td>4.0</td>\n",
       "    </tr>\n",
       "    <tr>\n",
       "      <th>2</th>\n",
       "      <td>ARG/Cordoba-1083-6/2020</td>\n",
       "      <td>ncov</td>\n",
       "      <td>?</td>\n",
       "      <td>MW553296</td>\n",
       "      <td>NaN</td>\n",
       "      <td>2020-06-04</td>\n",
       "      <td>South America</td>\n",
       "      <td>Argentina</td>\n",
       "      <td>Argentina</td>\n",
       "      <td>NaN</td>\n",
       "      <td>...</td>\n",
       "      <td>good</td>\n",
       "      <td>good</td>\n",
       "      <td>good</td>\n",
       "      <td>good</td>\n",
       "      <td>NaN</td>\n",
       "      <td>NaN</td>\n",
       "      <td>NaN</td>\n",
       "      <td>C241T,C3037T,C3261T,C9711T,C14408T,C17012T,A20...</td>\n",
       "      <td>ORF1a:T999I,ORF1a:S3149F,ORF1b:P314L,ORF1b:S11...</td>\n",
       "      <td>5.0</td>\n",
       "    </tr>\n",
       "    <tr>\n",
       "      <th>3</th>\n",
       "      <td>ARG/Cordoba-11300-61/2020</td>\n",
       "      <td>ncov</td>\n",
       "      <td>?</td>\n",
       "      <td>MW553301</td>\n",
       "      <td>NaN</td>\n",
       "      <td>2020-06-04</td>\n",
       "      <td>South America</td>\n",
       "      <td>Argentina</td>\n",
       "      <td>Argentina</td>\n",
       "      <td>NaN</td>\n",
       "      <td>...</td>\n",
       "      <td>good</td>\n",
       "      <td>good</td>\n",
       "      <td>good</td>\n",
       "      <td>good</td>\n",
       "      <td>NaN</td>\n",
       "      <td>NaN</td>\n",
       "      <td>NaN</td>\n",
       "      <td>C241T,C3037T,C3261T,C9711T,C14408T,C17012T,A20...</td>\n",
       "      <td>ORF1a:T999I,ORF1a:S3149F,ORF1b:P314L,ORF1b:S11...</td>\n",
       "      <td>2.0</td>\n",
       "    </tr>\n",
       "    <tr>\n",
       "      <th>4</th>\n",
       "      <td>ARG/Cordoba-11301-61/2020</td>\n",
       "      <td>ncov</td>\n",
       "      <td>?</td>\n",
       "      <td>MW553314</td>\n",
       "      <td>NaN</td>\n",
       "      <td>2020-06-04</td>\n",
       "      <td>South America</td>\n",
       "      <td>Argentina</td>\n",
       "      <td>Argentina</td>\n",
       "      <td>NaN</td>\n",
       "      <td>...</td>\n",
       "      <td>good</td>\n",
       "      <td>good</td>\n",
       "      <td>good</td>\n",
       "      <td>good</td>\n",
       "      <td>NaN</td>\n",
       "      <td>NaN</td>\n",
       "      <td>NaN</td>\n",
       "      <td>C241T,C3037T,C3261T,C9711T,C14408T,C17012T,A20...</td>\n",
       "      <td>ORF1a:T999I,ORF1a:S3149F,ORF1b:P314L,ORF1b:S11...</td>\n",
       "      <td>4.0</td>\n",
       "    </tr>\n",
       "  </tbody>\n",
       "</table>\n",
       "<p>5 rows × 47 columns</p>\n",
       "</div>"
      ],
      "text/plain": [
       "                      strain virus   gisaid_epi_isl genbank_accession  \\\n",
       "0                          ?  ncov  EPI_ISL_8303487          OV377246   \n",
       "1  ARG/Cordoba-1006-155/2020  ncov                ?          MW553298   \n",
       "2    ARG/Cordoba-1083-6/2020  ncov                ?          MW553296   \n",
       "3  ARG/Cordoba-11300-61/2020  ncov                ?          MW553301   \n",
       "4  ARG/Cordoba-11301-61/2020  ncov                ?          MW553314   \n",
       "\n",
       "  sra_accession        date         region         country   division  \\\n",
       "0    ERR7904006           ?         Europe  United Kingdom          ?   \n",
       "1           NaN  2020-06-04  South America       Argentina  Argentina   \n",
       "2           NaN  2020-06-04  South America       Argentina  Argentina   \n",
       "3           NaN  2020-06-04  South America       Argentina  Argentina   \n",
       "4           NaN  2020-06-04  South America       Argentina  Argentina   \n",
       "\n",
       "  location  ... QC_rare_mutations QC_snp_clusters QC_frame_shifts  \\\n",
       "0      NaN  ...               bad            good            good   \n",
       "1      NaN  ...              good            good            good   \n",
       "2      NaN  ...              good            good            good   \n",
       "3      NaN  ...              good            good            good   \n",
       "4      NaN  ...              good            good            good   \n",
       "\n",
       "  QC_stop_codons  frame_shifts  deletions                 insertions  \\\n",
       "0           good           NaN  6513-6515  22195:NTAGTGCGT,25695:GAA   \n",
       "1           good           NaN        NaN                        NaN   \n",
       "2           good           NaN        NaN                        NaN   \n",
       "3           good           NaN        NaN                        NaN   \n",
       "4           good           NaN        NaN                        NaN   \n",
       "\n",
       "                                       substitutions  \\\n",
       "0  C241T,A2832G,C3037T,C7124T,G8393A,G9441T,C1002...   \n",
       "1  C241T,C3037T,C3261T,C9711T,C14408T,C17012T,A20...   \n",
       "2  C241T,C3037T,C3261T,C9711T,C14408T,C17012T,A20...   \n",
       "3  C241T,C3037T,C3261T,C9711T,C14408T,C17012T,A20...   \n",
       "4  C241T,C3037T,C3261T,C9711T,C14408T,C17012T,A20...   \n",
       "\n",
       "                                     aaSubstitutions clock_deviation  \n",
       "0  M:I82T,ORF1a:K856R,ORF1a:L2084I,ORF1a:P2287S,O...               ?  \n",
       "1  ORF1a:T999I,ORF1a:S3149F,ORF1b:P314L,ORF1b:S11...             4.0  \n",
       "2  ORF1a:T999I,ORF1a:S3149F,ORF1b:P314L,ORF1b:S11...             5.0  \n",
       "3  ORF1a:T999I,ORF1a:S3149F,ORF1b:P314L,ORF1b:S11...             2.0  \n",
       "4  ORF1a:T999I,ORF1a:S3149F,ORF1b:P314L,ORF1b:S11...             4.0  \n",
       "\n",
       "[5 rows x 47 columns]"
      ]
     },
     "execution_count": 5,
     "metadata": {},
     "output_type": "execute_result"
    }
   ],
   "source": [
    "metadata_ns.head(5)"
   ]
  },
  {
   "cell_type": "code",
   "execution_count": 6,
   "metadata": {
    "execution": {
     "iopub.execute_input": "2022-07-19T15:12:43.128525Z",
     "iopub.status.busy": "2022-07-19T15:12:43.128403Z",
     "iopub.status.idle": "2022-07-19T15:12:45.575572Z",
     "shell.execute_reply": "2022-07-19T15:12:45.575193Z",
     "shell.execute_reply.started": "2022-07-19T15:12:43.128513Z"
    },
    "tags": []
   },
   "outputs": [
    {
     "data": {
      "text/plain": [
       "(3656567, 47)"
      ]
     },
     "execution_count": 6,
     "metadata": {},
     "output_type": "execute_result"
    }
   ],
   "source": [
    "# remove the records obtained later than the indicated date\n",
    "metadata_ns['date_submitted'] = pd.to_datetime(metadata_ns['date_submitted'])\n",
    "metadata_ns = metadata_ns[metadata_ns['date_submitted'] <= nextstrain_last_submit_date]\n",
    "metadata_ns.shape"
   ]
  },
  {
   "cell_type": "code",
   "execution_count": 7,
   "metadata": {
    "execution": {
     "iopub.execute_input": "2022-07-19T15:12:45.576281Z",
     "iopub.status.busy": "2022-07-19T15:12:45.576134Z",
     "iopub.status.idle": "2022-07-19T15:12:55.850024Z",
     "shell.execute_reply": "2022-07-19T15:12:55.849584Z",
     "shell.execute_reply.started": "2022-07-19T15:12:45.576267Z"
    },
    "tags": []
   },
   "outputs": [],
   "source": [
    "# convert date_submitted back to string (to conform with QIIME 2' Metadata format)\n",
    "metadata_ns['date_submitted'] = metadata_ns['date_submitted'].astype(str)"
   ]
  },
  {
   "cell_type": "markdown",
   "metadata": {
    "pycharm": {
     "name": "#%% md\n"
    }
   },
   "source": [
    "Only keep samples with SRA accession numbers."
   ]
  },
  {
   "cell_type": "code",
   "execution_count": 8,
   "metadata": {
    "execution": {
     "iopub.execute_input": "2022-07-19T15:12:55.850728Z",
     "iopub.status.busy": "2022-07-19T15:12:55.850579Z",
     "iopub.status.idle": "2022-07-19T15:13:00.057165Z",
     "shell.execute_reply": "2022-07-19T15:13:00.056714Z",
     "shell.execute_reply.started": "2022-07-19T15:12:55.850714Z"
    },
    "pycharm": {
     "name": "#%%\n"
    },
    "tags": []
   },
   "outputs": [
    {
     "data": {
      "text/plain": [
       "(1842492, 47)"
      ]
     },
     "execution_count": 8,
     "metadata": {},
     "output_type": "execute_result"
    }
   ],
   "source": [
    "metadata_ns = metadata_ns[\n",
    "    metadata_ns['sra_accession'].notna() & \\\n",
    "    metadata_ns['sra_accession'].str.startswith(('SRR', 'ERR')) &\n",
    "    (metadata_ns['sra_accession'].str.contains(',') == False)\n",
    "]\n",
    "metadata_ns.shape"
   ]
  },
  {
   "cell_type": "markdown",
   "metadata": {},
   "source": [
    "Only keep samples with good `QC_missing_data`."
   ]
  },
  {
   "cell_type": "code",
   "execution_count": 9,
   "metadata": {
    "execution": {
     "iopub.execute_input": "2022-07-19T15:13:00.057875Z",
     "iopub.status.busy": "2022-07-19T15:13:00.057731Z",
     "iopub.status.idle": "2022-07-19T15:13:00.810493Z",
     "shell.execute_reply": "2022-07-19T15:13:00.809986Z",
     "shell.execute_reply.started": "2022-07-19T15:13:00.057862Z"
    },
    "tags": []
   },
   "outputs": [
    {
     "data": {
      "text/plain": [
       "(1670884, 47)"
      ]
     },
     "execution_count": 9,
     "metadata": {},
     "output_type": "execute_result"
    }
   ],
   "source": [
    "metadata_ns = metadata_ns[metadata_ns['QC_missing_data'] == 'good']\n",
    "metadata_ns.shape"
   ]
  },
  {
   "cell_type": "markdown",
   "metadata": {
    "pycharm": {
     "name": "#%% md\n"
    }
   },
   "source": [
    "Filter out and group together only samples from geographical regions with enough samples."
   ]
  },
  {
   "cell_type": "code",
   "execution_count": 10,
   "metadata": {
    "execution": {
     "iopub.execute_input": "2022-07-19T15:13:00.811099Z",
     "iopub.status.busy": "2022-07-19T15:13:00.810959Z",
     "iopub.status.idle": "2022-07-19T15:13:00.898607Z",
     "shell.execute_reply": "2022-07-19T15:13:00.898096Z",
     "shell.execute_reply.started": "2022-07-19T15:13:00.811086Z"
    },
    "pycharm": {
     "name": "#%%\n"
    },
    "tags": []
   },
   "outputs": [
    {
     "data": {
      "text/plain": [
       "Europe           1298669\n",
       "North America     358166\n",
       "Oceania            12572\n",
       "Asia                1415\n",
       "Africa                57\n",
       "South America          5\n",
       "Name: region, dtype: int64"
      ]
     },
     "execution_count": 10,
     "metadata": {},
     "output_type": "execute_result"
    }
   ],
   "source": [
    "# check count of samples per geographical region\n",
    "metadata_val_counts = metadata_ns['region'].value_counts()\n",
    "metadata_val_counts"
   ]
  },
  {
   "cell_type": "code",
   "execution_count": 11,
   "metadata": {
    "execution": {
     "iopub.execute_input": "2022-07-19T15:13:00.899312Z",
     "iopub.status.busy": "2022-07-19T15:13:00.899178Z",
     "iopub.status.idle": "2022-07-19T15:13:01.260911Z",
     "shell.execute_reply": "2022-07-19T15:13:01.260510Z",
     "shell.execute_reply.started": "2022-07-19T15:13:00.899299Z"
    },
    "tags": []
   },
   "outputs": [
    {
     "data": {
      "text/plain": [
       "['Europe', 'North America', 'Oceania']"
      ]
     },
     "execution_count": 11,
     "metadata": {},
     "output_type": "execute_result"
    }
   ],
   "source": [
    "countries = metadata_val_counts[metadata_val_counts > 2000].index.tolist()\n",
    "countries"
   ]
  },
  {
   "cell_type": "code",
   "execution_count": 12,
   "metadata": {
    "execution": {
     "iopub.execute_input": "2022-07-19T15:13:01.261575Z",
     "iopub.status.busy": "2022-07-19T15:13:01.261407Z",
     "iopub.status.idle": "2022-07-19T15:13:01.943581Z",
     "shell.execute_reply": "2022-07-19T15:13:01.943176Z",
     "shell.execute_reply.started": "2022-07-19T15:13:01.261557Z"
    },
    "pycharm": {
     "name": "#%%\n"
    },
    "tags": []
   },
   "outputs": [
    {
     "data": {
      "text/plain": [
       "(1669407, 47)"
      ]
     },
     "execution_count": 12,
     "metadata": {},
     "output_type": "execute_result"
    }
   ],
   "source": [
    "metadata_ns_vars = metadata_ns[metadata_ns['region'].isin(countries)]\n",
    "metadata_ns_vars.shape"
   ]
  },
  {
   "cell_type": "markdown",
   "metadata": {
    "pycharm": {
     "name": "#%% md\n"
    }
   },
   "source": [
    "Sample _n_ sequences per geographical region. We are first sampling more than the final required count per region - we will need some initial metadata to sample only the records with desired properties."
   ]
  },
  {
   "cell_type": "code",
   "execution_count": 13,
   "metadata": {
    "execution": {
     "iopub.execute_input": "2022-07-19T15:13:01.944313Z",
     "iopub.status.busy": "2022-07-19T15:13:01.944156Z",
     "iopub.status.idle": "2022-07-19T15:13:02.032800Z",
     "shell.execute_reply": "2022-07-19T15:13:02.032426Z",
     "shell.execute_reply.started": "2022-07-19T15:13:01.944298Z"
    },
    "tags": []
   },
   "outputs": [
    {
     "data": {
      "text/plain": [
       "Europe           1298669\n",
       "North America     358166\n",
       "Oceania            12572\n",
       "Name: region, dtype: int64"
      ]
     },
     "execution_count": 13,
     "metadata": {},
     "output_type": "execute_result"
    }
   ],
   "source": [
    "metadata_ns_vars['region'].value_counts()"
   ]
  },
  {
   "cell_type": "code",
   "execution_count": 14,
   "metadata": {
    "execution": {
     "iopub.execute_input": "2022-07-19T15:13:02.034767Z",
     "iopub.status.busy": "2022-07-19T15:13:02.034611Z",
     "iopub.status.idle": "2022-07-19T15:13:02.907860Z",
     "shell.execute_reply": "2022-07-19T15:13:02.907419Z",
     "shell.execute_reply.started": "2022-07-19T15:13:02.034753Z"
    },
    "pycharm": {
     "name": "#%%\n"
    },
    "tags": []
   },
   "outputs": [],
   "source": [
    "n = 50 * genomes_per_region\n",
    "metadata_ns_vars_smp = sample_variants(\n",
    "    metadata_ns_vars, n=n, grouping_col='region', random_state=random_seed\n",
    ")"
   ]
  },
  {
   "cell_type": "code",
   "execution_count": 15,
   "metadata": {
    "execution": {
     "iopub.execute_input": "2022-07-19T15:13:02.908597Z",
     "iopub.status.busy": "2022-07-19T15:13:02.908448Z",
     "iopub.status.idle": "2022-07-19T15:13:02.949124Z",
     "shell.execute_reply": "2022-07-19T15:13:02.948696Z",
     "shell.execute_reply.started": "2022-07-19T15:13:02.908582Z"
    },
    "tags": []
   },
   "outputs": [],
   "source": [
    "# remove some columns with mixed types (we will not need those)\n",
    "for col in ['clock_deviation']:\n",
    "    metadata_ns_vars_smp.drop(col, axis=1, inplace=True)"
   ]
  },
  {
   "cell_type": "code",
   "execution_count": 16,
   "metadata": {
    "collapsed": false,
    "execution": {
     "iopub.execute_input": "2022-07-19T15:13:02.949835Z",
     "iopub.status.busy": "2022-07-19T15:13:02.949670Z",
     "iopub.status.idle": "2022-07-19T15:13:02.955391Z",
     "shell.execute_reply": "2022-07-19T15:13:02.955015Z",
     "shell.execute_reply.started": "2022-07-19T15:13:02.949820Z"
    },
    "jupyter": {
     "outputs_hidden": false
    },
    "pycharm": {
     "name": "#%%\n"
    },
    "tags": []
   },
   "outputs": [
    {
     "data": {
      "text/plain": [
       "Oceania          12500\n",
       "North America    12500\n",
       "Europe           12500\n",
       "Name: region, dtype: int64"
      ]
     },
     "execution_count": 16,
     "metadata": {},
     "output_type": "execute_result"
    }
   ],
   "source": [
    "metadata_ns_vars_smp['region'].value_counts()"
   ]
  },
  {
   "cell_type": "markdown",
   "metadata": {
    "tags": []
   },
   "source": [
    "## Fetch sample metadata using q2-fondue\n",
    "Fetch metadata for the pre-selected sequences using q2-fondue's `get-metadata` action. We will then use this metadata to filter out samples containing single-end reads only and merge those with the original Nextstrain metadata. Finally, we will subsample those to get the final list of genomes to fetch, stratified per geographical region. "
   ]
  },
  {
   "cell_type": "code",
   "execution_count": 17,
   "metadata": {
    "execution": {
     "iopub.execute_input": "2022-07-19T15:13:02.956060Z",
     "iopub.status.busy": "2022-07-19T15:13:02.955930Z",
     "iopub.status.idle": "2022-07-19T15:13:02.963941Z",
     "shell.execute_reply": "2022-07-19T15:13:02.963597Z",
     "shell.execute_reply.started": "2022-07-19T15:13:02.956041Z"
    },
    "tags": []
   },
   "outputs": [],
   "source": [
    "# we will be fetching metadata in several batches, due to large ID count \n",
    "ids = metadata_ns_vars_smp.index.to_list()\n",
    "ids_chunked = [ids[i:i + 4000] for i in range(0, metadata_ns_vars_smp.shape[0], 4000)]"
   ]
  },
  {
   "cell_type": "code",
   "execution_count": 18,
   "metadata": {
    "execution": {
     "iopub.execute_input": "2022-07-19T15:13:02.964529Z",
     "iopub.status.busy": "2022-07-19T15:13:02.964408Z",
     "iopub.status.idle": "2022-07-19T15:13:03.495376Z",
     "shell.execute_reply": "2022-07-19T15:13:03.494965Z",
     "shell.execute_reply.started": "2022-07-19T15:13:02.964518Z"
    },
    "tags": []
   },
   "outputs": [
    {
     "name": "stdout",
     "output_type": "stream",
     "text": [
      "Metadata artifact exists and will be read from u2-genome-results/metadata_sra.tsv.\n"
     ]
    },
    {
     "name": "stderr",
     "output_type": "stream",
     "text": [
      "/home/michal/miniconda3/envs/fondue-pub/lib/python3.8/site-packages/IPython/core/interactiveshell.py:3135: DtypeWarning: Columns (17,18,19,21,22,23,24,25,26,27,28,29,30,31,32,33,34,35,36,37,38,39,40,41,42,43,44,45,46,48,53,54,55,56,57,60,64,65,66,67,68,69,70,71,72,73,74,76,77,78,79,80,81,82,83,84,85,86,87,88,89,90,91,92,93,94,95,96,97,98,99,100,101,102,103,104,105,106,107,108,109,110,111,112,113,114,115,117,118,119,120,121,122,123,124,125,126,128,129,130,131,132,133,134,135,136,137,138,140,141,142,143,144,145,146,147,148,149,150,152,153,154,155,156,157,158,159,160,161,162,163,164,165,166,167,168,169,170,171,173,174,175,176,177,178,179,180,183,184,185,186,188,190,191,192,194,195,196,198,199,200,201,202,204,205,206,207) have mixed types.Specify dtype option on import or set low_memory=False.\n",
      "  has_raised = await self.run_ast_nodes(code_ast.body, cell_name,\n"
     ]
    }
   ],
   "source": [
    "all_meta = []\n",
    "if not os.path.isfile(sra_metadata_path):\n",
    "    for i, _ids in enumerate(ids_chunked):\n",
    "        print(f'-----Fetching metadata - batch {i + 1} out of {len(ids_chunked)}...-----')\n",
    "        current_batch_loc = os.path.join(data_loc, f'sra_meta_batch{i}.qza')\n",
    "        _ids = pd.Series(_ids, name='ID')\n",
    "        \n",
    "        if not os.path.isfile(current_batch_loc):\n",
    "            sra_meta, failed_ids, = fondue.methods.get_metadata(\n",
    "                accession_ids=q2.Artifact.import_data('NCBIAccessionIDs', _ids),\n",
    "                email=email,\n",
    "                n_jobs=n_jobs,\n",
    "                log_level='WARNING'\n",
    "            )\n",
    "            sra_meta.save(current_batch_loc)\n",
    "            failed_ids.save(os.path.join(data_loc, f'sra_failed_ids_batch{i}.qza'))\n",
    "        else:\n",
    "            print(f'Reading current SRA meta batch from file {current_batch_loc}...')\n",
    "            sra_meta = q2.Artifact.load(current_batch_loc)\n",
    "            \n",
    "        all_meta.append(sra_meta)\n",
    "        del sra_meta\n",
    "    \n",
    "    # merge metadata from all the batches\n",
    "    sra_meta, = fondue.methods.merge_metadata(\n",
    "        metadata=all_meta\n",
    "    )\n",
    "    sra_meta_df = sra_meta.view(pd.DataFrame)\n",
    "    sra_meta_df.to_csv(sra_metadata_path, sep='\\t')\n",
    "    \n",
    "    # clean up\n",
    "    del all_meta\n",
    "else:\n",
    "    print(f'Metadata artifact exists and will be read from {sra_metadata_path}.')\n",
    "    sra_meta_df = pd.read_csv(sra_metadata_path, sep='\\t', index_col=0)"
   ]
  },
  {
   "cell_type": "markdown",
   "metadata": {},
   "source": [
    "## Merge SRA and Nextstrain metadata\n",
    "Merge SRA metadata with Nextstrain metadata and re-sample only __single-end short__ reads obtained on NextSeq 500/550 platforms."
   ]
  },
  {
   "cell_type": "code",
   "execution_count": 19,
   "metadata": {
    "execution": {
     "iopub.execute_input": "2022-07-19T15:13:03.496009Z",
     "iopub.status.busy": "2022-07-19T15:13:03.495887Z",
     "iopub.status.idle": "2022-07-19T15:13:06.058318Z",
     "shell.execute_reply": "2022-07-19T15:13:06.057934Z",
     "shell.execute_reply.started": "2022-07-19T15:13:03.495996Z"
    },
    "tags": []
   },
   "outputs": [
    {
     "data": {
      "text/plain": [
       "(37259, 252)"
      ]
     },
     "execution_count": 19,
     "metadata": {},
     "output_type": "execute_result"
    }
   ],
   "source": [
    "sra_meta_smp_df = metadata_ns_vars_smp.merge(sra_meta_df, left_index=True, right_index=True)\n",
    "sra_meta_smp_df.shape"
   ]
  },
  {
   "cell_type": "code",
   "execution_count": 20,
   "metadata": {
    "execution": {
     "iopub.execute_input": "2022-07-19T15:13:06.059141Z",
     "iopub.status.busy": "2022-07-19T15:13:06.058989Z",
     "iopub.status.idle": "2022-07-19T15:13:06.313279Z",
     "shell.execute_reply": "2022-07-19T15:13:06.312834Z",
     "shell.execute_reply.started": "2022-07-19T15:13:06.059127Z"
    },
    "tags": []
   },
   "outputs": [],
   "source": [
    "selection = \\\n",
    "    (sra_meta_smp_df['Library Layout'] == 'SINGLE') & \\\n",
    "    (sra_meta_smp_df['Instrument'].isin(['NextSeq 500', 'NextSeq 550']))\n",
    "\n",
    "sra_meta_smp_df = sra_meta_smp_df[selection]"
   ]
  },
  {
   "cell_type": "code",
   "execution_count": 21,
   "metadata": {
    "execution": {
     "iopub.execute_input": "2022-07-19T15:13:06.313997Z",
     "iopub.status.busy": "2022-07-19T15:13:06.313848Z",
     "iopub.status.idle": "2022-07-19T15:13:06.335062Z",
     "shell.execute_reply": "2022-07-19T15:13:06.334638Z",
     "shell.execute_reply.started": "2022-07-19T15:13:06.313982Z"
    },
    "tags": []
   },
   "outputs": [
    {
     "data": {
      "text/html": [
       "<div>\n",
       "<style scoped>\n",
       "    .dataframe tbody tr th:only-of-type {\n",
       "        vertical-align: middle;\n",
       "    }\n",
       "\n",
       "    .dataframe tbody tr th {\n",
       "        vertical-align: top;\n",
       "    }\n",
       "\n",
       "    .dataframe thead th {\n",
       "        text-align: right;\n",
       "    }\n",
       "</style>\n",
       "<table border=\"1\" class=\"dataframe\">\n",
       "  <thead>\n",
       "    <tr style=\"text-align: right;\">\n",
       "      <th></th>\n",
       "      <th>strain</th>\n",
       "      <th>virus</th>\n",
       "    </tr>\n",
       "    <tr>\n",
       "      <th>region</th>\n",
       "      <th></th>\n",
       "      <th></th>\n",
       "    </tr>\n",
       "  </thead>\n",
       "  <tbody>\n",
       "    <tr>\n",
       "      <th>Europe</th>\n",
       "      <td>423</td>\n",
       "      <td>423</td>\n",
       "    </tr>\n",
       "    <tr>\n",
       "      <th>North America</th>\n",
       "      <td>913</td>\n",
       "      <td>913</td>\n",
       "    </tr>\n",
       "  </tbody>\n",
       "</table>\n",
       "</div>"
      ],
      "text/plain": [
       "               strain  virus\n",
       "region                      \n",
       "Europe            423    423\n",
       "North America     913    913"
      ]
     },
     "execution_count": 21,
     "metadata": {},
     "output_type": "execute_result"
    }
   ],
   "source": [
    "sra_meta_smp_df_gr = sra_meta_smp_df.groupby(['region']).count()\n",
    "sra_meta_smp_df_gr.iloc[:,:2]"
   ]
  },
  {
   "cell_type": "markdown",
   "metadata": {},
   "source": [
    "Find the largest possible sample size."
   ]
  },
  {
   "cell_type": "code",
   "execution_count": 23,
   "metadata": {
    "execution": {
     "iopub.execute_input": "2022-07-19T15:13:37.618765Z",
     "iopub.status.busy": "2022-07-19T15:13:37.618383Z",
     "iopub.status.idle": "2022-07-19T15:13:37.624572Z",
     "shell.execute_reply": "2022-07-19T15:13:37.624173Z",
     "shell.execute_reply.started": "2022-07-19T15:13:37.618745Z"
    },
    "tags": []
   },
   "outputs": [
    {
     "name": "stdout",
     "output_type": "stream",
     "text": [
      "Taking a sample of 250 genomes per geographical region.\n"
     ]
    }
   ],
   "source": [
    "n = sra_meta_smp_df_gr.iloc[:, 0].min()\n",
    "n = n if n < genomes_per_region else genomes_per_region\n",
    "print(f'Taking a sample of {n} genomes per geographical region.')"
   ]
  },
  {
   "cell_type": "code",
   "execution_count": 24,
   "metadata": {
    "execution": {
     "iopub.execute_input": "2022-07-19T15:13:46.398092Z",
     "iopub.status.busy": "2022-07-19T15:13:46.397627Z",
     "iopub.status.idle": "2022-07-19T15:13:49.282430Z",
     "shell.execute_reply": "2022-07-19T15:13:49.282026Z",
     "shell.execute_reply.started": "2022-07-19T15:13:46.398051Z"
    },
    "tags": []
   },
   "outputs": [
    {
     "data": {
      "text/plain": [
       "(500, 252)"
      ]
     },
     "execution_count": 24,
     "metadata": {},
     "output_type": "execute_result"
    }
   ],
   "source": [
    "sra_meta_smp_df = metadata_ns_vars_smp.merge(\n",
    "    sra_meta_df, left_index=True, right_index=True\n",
    ")\n",
    "\n",
    "sra_meta_smp_df = sample_variants(\n",
    "    sra_meta_smp_df[selection], n=n,\n",
    "    grouping_col='region', random_state=random_seed\n",
    ")\n",
    "sra_meta_smp_df['Public'] = sra_meta_smp_df['Public'].astype(str)\n",
    "sra_meta_smp_df.shape"
   ]
  },
  {
   "cell_type": "code",
   "execution_count": 25,
   "metadata": {
    "execution": {
     "iopub.execute_input": "2022-07-19T15:13:49.283347Z",
     "iopub.status.busy": "2022-07-19T15:13:49.283205Z",
     "iopub.status.idle": "2022-07-19T15:13:49.286795Z",
     "shell.execute_reply": "2022-07-19T15:13:49.286456Z",
     "shell.execute_reply.started": "2022-07-19T15:13:49.283334Z"
    },
    "tags": []
   },
   "outputs": [
    {
     "data": {
      "text/plain": [
       "Europe           250\n",
       "North America    250\n",
       "Name: region, dtype: int64"
      ]
     },
     "execution_count": 25,
     "metadata": {},
     "output_type": "execute_result"
    }
   ],
   "source": [
    "# check count of samples per geographical region\n",
    "sra_meta_smp_df['region'].value_counts()"
   ]
  },
  {
   "cell_type": "markdown",
   "metadata": {},
   "source": [
    "Save merged & sampled metadata to file."
   ]
  },
  {
   "cell_type": "code",
   "execution_count": 26,
   "metadata": {
    "collapsed": false,
    "execution": {
     "iopub.execute_input": "2022-07-19T15:13:49.287362Z",
     "iopub.status.busy": "2022-07-19T15:13:49.287242Z",
     "iopub.status.idle": "2022-07-19T15:13:49.306929Z",
     "shell.execute_reply": "2022-07-19T15:13:49.306551Z",
     "shell.execute_reply.started": "2022-07-19T15:13:49.287350Z"
    },
    "jupyter": {
     "outputs_hidden": false
    },
    "pycharm": {
     "name": "#%%\n"
    },
    "tags": []
   },
   "outputs": [],
   "source": [
    "if not os.path.isfile(metadata_merged_path):\n",
    "    sra_meta_smp_df.to_csv(metadata_merged_path, sep='\\t')\n",
    "    print('Saved sample metadata to', metadata_merged_path)"
   ]
  },
  {
   "cell_type": "markdown",
   "metadata": {
    "tags": []
   },
   "source": [
    "## Fetch SARS-CoV-2 genomes using q2-fondue\n",
    "We can use IDs from our final metadata table to fetch all the corresponding sequencing files from the SRA using `q2-fondue`'s `get-sequences` action."
   ]
  },
  {
   "cell_type": "code",
   "execution_count": 27,
   "metadata": {
    "execution": {
     "iopub.execute_input": "2022-07-19T15:13:49.307481Z",
     "iopub.status.busy": "2022-07-19T15:13:49.307360Z",
     "iopub.status.idle": "2022-07-19T15:13:49.314773Z",
     "shell.execute_reply": "2022-07-19T15:13:49.314421Z",
     "shell.execute_reply.started": "2022-07-19T15:13:49.307469Z"
    },
    "tags": []
   },
   "outputs": [],
   "source": [
    "single_reads_out = os.path.join(data_loc, 'sars-single.qza')"
   ]
  },
  {
   "cell_type": "code",
   "execution_count": 28,
   "metadata": {
    "execution": {
     "iopub.execute_input": "2022-07-19T15:13:49.315851Z",
     "iopub.status.busy": "2022-07-19T15:13:49.315733Z",
     "iopub.status.idle": "2022-07-19T15:16:23.978319Z",
     "shell.execute_reply": "2022-07-19T15:16:23.977676Z",
     "shell.execute_reply.started": "2022-07-19T15:13:49.315840Z"
    },
    "tags": []
   },
   "outputs": [
    {
     "name": "stdout",
     "output_type": "stream",
     "text": [
      "Single-reads artifact exists and will be read from u2-genome-results/sars-single.qza.\n"
     ]
    }
   ],
   "source": [
    "if not os.path.isfile(single_reads_out):\n",
    "    _ids = pd.Series(sra_meta_smp_df.index.to_list(), name='ID')\n",
    "    single_reads, _, _ = fondue.methods.get_sequences(\n",
    "        accession_ids=q2.Artifact.import_data('NCBIAccessionIDs', _ids), \n",
    "        email=email,\n",
    "        n_jobs=n_jobs\n",
    "    )\n",
    "    single_reads.save(single_reads_out)\n",
    "else:\n",
    "    print(f'Single-reads artifact exists and will be read from {single_reads_out}.')\n",
    "    single_reads = q2.Artifact.load(single_reads_out)"
   ]
  },
  {
   "cell_type": "markdown",
   "metadata": {
    "tags": []
   },
   "source": [
    "## Quality control of the sequences\n",
    "Before proceeding to the next step, we can assess the quality of the retrieved dataset using the `summarize` action from the `q2-demux` plugin."
   ]
  },
  {
   "cell_type": "code",
   "execution_count": 29,
   "metadata": {
    "execution": {
     "iopub.execute_input": "2022-07-19T15:16:23.979458Z",
     "iopub.status.busy": "2022-07-19T15:16:23.979274Z",
     "iopub.status.idle": "2022-07-19T15:16:24.025368Z",
     "shell.execute_reply": "2022-07-19T15:16:24.024950Z",
     "shell.execute_reply.started": "2022-07-19T15:16:23.979435Z"
    },
    "tags": []
   },
   "outputs": [
    {
     "name": "stdout",
     "output_type": "stream",
     "text": [
      "Quality control artifact exists and will be read from u2-genome-results/qc-viz.qzv.\n"
     ]
    }
   ],
   "source": [
    "qc_viz_out = os.path.join(data_loc, 'qc-viz.qzv')\n",
    "if not os.path.isfile(qc_viz_out):\n",
    "    qc_viz, = demux.visualizers.summarize(\n",
    "        data=single_reads\n",
    "    )\n",
    "    qc_viz.save(qc_viz_out)\n",
    "else:\n",
    "    print(f'Quality control artifact exists and will be read from {qc_viz_out}.')\n",
    "    qc_viz = q2.Visualization.load(qc_viz_out)"
   ]
  },
  {
   "cell_type": "code",
   "execution_count": 30,
   "metadata": {
    "execution": {
     "iopub.execute_input": "2022-07-19T15:16:24.026048Z",
     "iopub.status.busy": "2022-07-19T15:16:24.025914Z",
     "iopub.status.idle": "2022-07-19T15:16:24.029460Z",
     "shell.execute_reply": "2022-07-19T15:16:24.029034Z",
     "shell.execute_reply.started": "2022-07-19T15:16:24.026035Z"
    },
    "tags": []
   },
   "outputs": [
    {
     "data": {
      "text/html": [
       "<div><img onload=\"(function(div, url){\n",
       "if (typeof require !== 'undefined') {\n",
       "    var baseURL = require.toUrl('').split('/').slice(0, -2).join('/');\n",
       "} else {\n",
       "    var baseURL = JSON.parse(\n",
       "        document.getElementById('jupyter-config-data').innerHTML\n",
       "    ).baseUrl.slice(0, -1);\n",
       "}\n",
       "url = baseURL + url;\n",
       "fetch(url).then(function(res) {\n",
       "    if (res.status === 404) {\n",
       "        div.innerHTML = 'Install QIIME 2 Jupyter extension with:<br />' +\n",
       "                        '<code>jupyter serverextension enable --py qiime2' +\n",
       "                        ' --sys-prefix</code><br />then restart your server.' +\n",
       "                        '<br /><br />(Interactive output not available on ' +\n",
       "                        'static notebook viewer services like nbviewer.)';\n",
       "    } else if (res.status === 409) {\n",
       "        div.innerHTML = 'Visualization no longer in scope. Re-run this cell' +\n",
       "                        ' to see the visualization.';\n",
       "    } else if (res.ok) {\n",
       "        url = res.url;\n",
       "        div.innerHTML = '<iframe src=\\'' + url + '\\' style=\\'' +\n",
       "                        'width: 100%; height: 700px; border: 0;\\'>' +\n",
       "                        '</iframe><hr />Open in a: <a href=\\'' + url + '\\'' +\n",
       "                        ' target=\\'_blank\\'>new window</a>'\n",
       "    } else {\n",
       "        div.innerHTML = 'Something has gone wrong. Check notebook server for' +\n",
       "                        ' errors.';\n",
       "    }\n",
       "});\n",
       "})(this.parentElement, '/qiime2/redirect?location=/media/michal/disk_large/.tmp/qiime2-archive-h2oon1ir')\" src=\"data:image/gif;base64,R0lGODlhAQABAIAAAP///wAAACH5BAEAAAAALAAAAAABAAEAAAICRAEAOw==\" /></div>"
      ],
      "text/plain": [
       "<visualization: Visualization uuid: 92ac236b-d493-4521-890a-7baefc2d17c3>"
      ]
     },
     "execution_count": 30,
     "metadata": {},
     "output_type": "execute_result"
    }
   ],
   "source": [
    "qc_viz"
   ]
  },
  {
   "cell_type": "markdown",
   "metadata": {},
   "source": [
    "## Data clean-up: sequence trimming\n",
    "As can be seen in the visualization above, the data is already of good quality. We will just perform one additional cleaning step to remove sequences shorter than 35bp and with error rates higher than 0.01."
   ]
  },
  {
   "cell_type": "code",
   "execution_count": 31,
   "metadata": {
    "execution": {
     "iopub.execute_input": "2022-07-19T15:16:24.030140Z",
     "iopub.status.busy": "2022-07-19T15:16:24.029992Z",
     "iopub.status.idle": "2022-07-19T15:19:23.944899Z",
     "shell.execute_reply": "2022-07-19T15:19:23.944506Z",
     "shell.execute_reply.started": "2022-07-19T15:16:24.030126Z"
    },
    "tags": []
   },
   "outputs": [
    {
     "name": "stdout",
     "output_type": "stream",
     "text": [
      "Trimmed reads artifact exists and will be read from u2-genome-results/sars-single-trimmed.qza.\n"
     ]
    }
   ],
   "source": [
    "trimmed_out = os.path.join(data_loc, 'sars-single-trimmed.qza')\n",
    "if not os.path.isfile(trimmed_out):\n",
    "    single_reads_trimmed, = cutadapt.methods.trim_single(\n",
    "        demultiplexed_sequences=single_reads,\n",
    "        error_rate=0.01,\n",
    "        minimum_length=35,\n",
    "        cores=n_jobs\n",
    "    )\n",
    "    single_reads_trimmed.save(trimmed_out)\n",
    "else:\n",
    "    print(f'Trimmed reads artifact exists and will be read from {trimmed_out}.')\n",
    "    single_reads_trimmed = q2.Artifact.load(trimmed_out)"
   ]
  },
  {
   "cell_type": "code",
   "execution_count": 32,
   "metadata": {
    "execution": {
     "iopub.execute_input": "2022-07-19T15:19:23.945583Z",
     "iopub.status.busy": "2022-07-19T15:19:23.945414Z",
     "iopub.status.idle": "2022-07-19T15:19:23.959598Z",
     "shell.execute_reply": "2022-07-19T15:19:23.959251Z",
     "shell.execute_reply.started": "2022-07-19T15:19:23.945568Z"
    },
    "tags": []
   },
   "outputs": [
    {
     "name": "stdout",
     "output_type": "stream",
     "text": [
      "Trimmed reads visualization exists and will be read from u2-genome-results/qc-viz-trimmed.qzv.\n"
     ]
    },
    {
     "data": {
      "text/html": [
       "<div><img onload=\"(function(div, url){\n",
       "if (typeof require !== 'undefined') {\n",
       "    var baseURL = require.toUrl('').split('/').slice(0, -2).join('/');\n",
       "} else {\n",
       "    var baseURL = JSON.parse(\n",
       "        document.getElementById('jupyter-config-data').innerHTML\n",
       "    ).baseUrl.slice(0, -1);\n",
       "}\n",
       "url = baseURL + url;\n",
       "fetch(url).then(function(res) {\n",
       "    if (res.status === 404) {\n",
       "        div.innerHTML = 'Install QIIME 2 Jupyter extension with:<br />' +\n",
       "                        '<code>jupyter serverextension enable --py qiime2' +\n",
       "                        ' --sys-prefix</code><br />then restart your server.' +\n",
       "                        '<br /><br />(Interactive output not available on ' +\n",
       "                        'static notebook viewer services like nbviewer.)';\n",
       "    } else if (res.status === 409) {\n",
       "        div.innerHTML = 'Visualization no longer in scope. Re-run this cell' +\n",
       "                        ' to see the visualization.';\n",
       "    } else if (res.ok) {\n",
       "        url = res.url;\n",
       "        div.innerHTML = '<iframe src=\\'' + url + '\\' style=\\'' +\n",
       "                        'width: 100%; height: 700px; border: 0;\\'>' +\n",
       "                        '</iframe><hr />Open in a: <a href=\\'' + url + '\\'' +\n",
       "                        ' target=\\'_blank\\'>new window</a>'\n",
       "    } else {\n",
       "        div.innerHTML = 'Something has gone wrong. Check notebook server for' +\n",
       "                        ' errors.';\n",
       "    }\n",
       "});\n",
       "})(this.parentElement, '/qiime2/redirect?location=/media/michal/disk_large/.tmp/qiime2-archive-_ucxsn3o')\" src=\"data:image/gif;base64,R0lGODlhAQABAIAAAP///wAAACH5BAEAAAAALAAAAAABAAEAAAICRAEAOw==\" /></div>"
      ],
      "text/plain": [
       "<visualization: Visualization uuid: c74f8340-9f1c-4f69-9a0f-8a9a3906b664>"
      ]
     },
     "execution_count": 32,
     "metadata": {},
     "output_type": "execute_result"
    }
   ],
   "source": [
    "trimmed_viz_out = os.path.join(data_loc, 'qc-viz-trimmed.qzv')\n",
    "if not os.path.isfile(trimmed_viz_out):\n",
    "    qc_viz_trimmed, = demux.visualizers.summarize(\n",
    "        data=single_reads_trimmed\n",
    "    )\n",
    "    qc_viz_trimmed.save(trimmed_viz_out)\n",
    "else:\n",
    "    print(f'Trimmed reads visualization exists and will be read from {trimmed_viz_out}.')\n",
    "    qc_viz_trimmed = q2.Visualization.load(trimmed_viz_out)\n",
    "qc_viz_trimmed"
   ]
  },
  {
   "cell_type": "markdown",
   "metadata": {},
   "source": [
    "## Calculate and compare MinHash signatures for every genome\n",
    "Having checked the data quality, we will proceed to calculating the MinHash signatures of every genome using `q2-sourmash`. First, we calculate the hashes from the short reads using the `compute` action. Subsequently, we generate a distance matrix comparing hashes pairwise (using the `compare` action)."
   ]
  },
  {
   "cell_type": "code",
   "execution_count": 33,
   "metadata": {
    "execution": {
     "iopub.execute_input": "2022-07-19T15:19:23.960173Z",
     "iopub.status.busy": "2022-07-19T15:19:23.960051Z",
     "iopub.status.idle": "2022-07-19T15:19:38.104124Z",
     "shell.execute_reply": "2022-07-19T15:19:38.103716Z",
     "shell.execute_reply.started": "2022-07-19T15:19:23.960161Z"
    },
    "tags": []
   },
   "outputs": [
    {
     "name": "stdout",
     "output_type": "stream",
     "text": [
      "Genome hashes artifact exists and will be read from u2-genome-results/genome-hash-trimmed.qza.\n"
     ]
    }
   ],
   "source": [
    "genome_hash_out = os.path.join(data_loc, 'genome-hash-trimmed.qza')\n",
    "if not os.path.isfile(genome_hash_out):\n",
    "    genome_hash, = sourmash.methods.compute(\n",
    "        sequence_file=single_reads_trimmed,\n",
    "        ksizes=31,\n",
    "        scaled=10\n",
    "    )\n",
    "    genome_hash.save(genome_hash_out)\n",
    "else:\n",
    "    print(f'Genome hashes artifact exists and will be read from {genome_hash_out}.')\n",
    "    genome_hash = q2.Artifact.load(genome_hash_out)"
   ]
  },
  {
   "cell_type": "code",
   "execution_count": 34,
   "metadata": {
    "execution": {
     "iopub.execute_input": "2022-07-19T15:19:38.104774Z",
     "iopub.status.busy": "2022-07-19T15:19:38.104634Z",
     "iopub.status.idle": "2022-07-19T15:19:38.161184Z",
     "shell.execute_reply": "2022-07-19T15:19:38.160785Z",
     "shell.execute_reply.started": "2022-07-19T15:19:38.104760Z"
    },
    "tags": []
   },
   "outputs": [
    {
     "name": "stdout",
     "output_type": "stream",
     "text": [
      "Distance matrix artifact exists and will be read from u2-genome-results/hash-compare-trimmed.qza.\n"
     ]
    }
   ],
   "source": [
    "hash_compare_out = os.path.join(data_loc, 'hash-compare-trimmed.qza')\n",
    "if not os.path.isfile(hash_compare_out):\n",
    "    hash_compare, = sourmash.methods.compare(\n",
    "        min_hash_signature=genome_hash,\n",
    "        ksize=31\n",
    "    )\n",
    "    hash_compare.save(hash_compare_out)\n",
    "else:\n",
    "    print(f'Distance matrix artifact exists and will be read from {hash_compare_out}.')\n",
    "    hash_compare = q2.Artifact.load(hash_compare_out)"
   ]
  },
  {
   "cell_type": "markdown",
   "metadata": {},
   "source": [
    "## Perform dimensionality reduction of the genome MinHash distance matrix\n",
    "Finally, a 2D t-SNE plot is generated from the obtained distance matrix (`tsne` method from the `q2-diversity` plugin) and visualized using the EMPeror plot (`plot` action from the `q2-emperor` plugin)."
   ]
  },
  {
   "cell_type": "code",
   "execution_count": 35,
   "metadata": {
    "execution": {
     "iopub.execute_input": "2022-07-19T15:19:38.161911Z",
     "iopub.status.busy": "2022-07-19T15:19:38.161747Z",
     "iopub.status.idle": "2022-07-19T15:19:38.942081Z",
     "shell.execute_reply": "2022-07-19T15:19:38.941692Z",
     "shell.execute_reply.started": "2022-07-19T15:19:38.161895Z"
    },
    "tags": []
   },
   "outputs": [],
   "source": [
    "genome_tsne, = diversity.methods.tsne(\n",
    "    distance_matrix=hash_compare,\n",
    "    learning_rate=125,\n",
    "    perplexity=18\n",
    ")"
   ]
  },
  {
   "cell_type": "code",
   "execution_count": 36,
   "metadata": {
    "execution": {
     "iopub.execute_input": "2022-07-19T15:19:38.942690Z",
     "iopub.status.busy": "2022-07-19T15:19:38.942569Z",
     "iopub.status.idle": "2022-07-19T15:19:38.944673Z",
     "shell.execute_reply": "2022-07-19T15:19:38.944377Z",
     "shell.execute_reply.started": "2022-07-19T15:19:38.942678Z"
    },
    "tags": []
   },
   "outputs": [],
   "source": [
    "cols = ['Nextstrain_clade', 'Instrument', 'region', 'country']"
   ]
  },
  {
   "cell_type": "code",
   "execution_count": 44,
   "metadata": {
    "execution": {
     "iopub.execute_input": "2022-07-19T15:24:09.426734Z",
     "iopub.status.busy": "2022-07-19T15:24:09.426521Z",
     "iopub.status.idle": "2022-07-19T15:24:09.599425Z",
     "shell.execute_reply": "2022-07-19T15:24:09.599025Z",
     "shell.execute_reply.started": "2022-07-19T15:24:09.426718Z"
    },
    "tags": []
   },
   "outputs": [],
   "source": [
    "emperor_plot_out = os.path.join(data_loc, 'emperor-plot-trimmed.qzv')\n",
    "if not os.path.isfile(emperor_plot_out):\n",
    "    emperor_plot, = emperor.visualizers.plot(\n",
    "        pcoa=genome_tsne,\n",
    "        metadata=q2.Metadata(sra_meta_smp_df[cols])\n",
    "    )\n",
    "    emperor_plot.save(emperor_plot_out)\n",
    "else:\n",
    "    print(f'Emperor plot artifact exists and will be read from {emperor_plot_out}.')\n",
    "    emperor_plot = q2.Visualization.load(emperor_plot_out)"
   ]
  },
  {
   "cell_type": "code",
   "execution_count": 45,
   "metadata": {
    "execution": {
     "iopub.execute_input": "2022-07-19T15:24:12.019245Z",
     "iopub.status.busy": "2022-07-19T15:24:12.019009Z",
     "iopub.status.idle": "2022-07-19T15:24:12.022795Z",
     "shell.execute_reply": "2022-07-19T15:24:12.022455Z",
     "shell.execute_reply.started": "2022-07-19T15:24:12.019227Z"
    },
    "tags": []
   },
   "outputs": [
    {
     "data": {
      "text/html": [
       "<div><img onload=\"(function(div, url){\n",
       "if (typeof require !== 'undefined') {\n",
       "    var baseURL = require.toUrl('').split('/').slice(0, -2).join('/');\n",
       "} else {\n",
       "    var baseURL = JSON.parse(\n",
       "        document.getElementById('jupyter-config-data').innerHTML\n",
       "    ).baseUrl.slice(0, -1);\n",
       "}\n",
       "url = baseURL + url;\n",
       "fetch(url).then(function(res) {\n",
       "    if (res.status === 404) {\n",
       "        div.innerHTML = 'Install QIIME 2 Jupyter extension with:<br />' +\n",
       "                        '<code>jupyter serverextension enable --py qiime2' +\n",
       "                        ' --sys-prefix</code><br />then restart your server.' +\n",
       "                        '<br /><br />(Interactive output not available on ' +\n",
       "                        'static notebook viewer services like nbviewer.)';\n",
       "    } else if (res.status === 409) {\n",
       "        div.innerHTML = 'Visualization no longer in scope. Re-run this cell' +\n",
       "                        ' to see the visualization.';\n",
       "    } else if (res.ok) {\n",
       "        url = res.url;\n",
       "        div.innerHTML = '<iframe src=\\'' + url + '\\' style=\\'' +\n",
       "                        'width: 100%; height: 700px; border: 0;\\'>' +\n",
       "                        '</iframe><hr />Open in a: <a href=\\'' + url + '\\'' +\n",
       "                        ' target=\\'_blank\\'>new window</a>'\n",
       "    } else {\n",
       "        div.innerHTML = 'Something has gone wrong. Check notebook server for' +\n",
       "                        ' errors.';\n",
       "    }\n",
       "});\n",
       "})(this.parentElement, '/qiime2/redirect?location=/media/michal/disk_large/.tmp/qiime2-archive-u51z_sf9')\" src=\"data:image/gif;base64,R0lGODlhAQABAIAAAP///wAAACH5BAEAAAAALAAAAAABAAEAAAICRAEAOw==\" /></div>"
      ],
      "text/plain": [
       "<visualization: Visualization uuid: 88bd4d92-d8cb-406e-8e80-6db326625a61>"
      ]
     },
     "execution_count": 45,
     "metadata": {},
     "output_type": "execute_result"
    }
   ],
   "source": [
    "emperor_plot"
   ]
  },
  {
   "cell_type": "markdown",
   "metadata": {},
   "source": [
    "We can also use the results above to generate our own plots using any of the Python plotting libraries - see below."
   ]
  },
  {
   "cell_type": "code",
   "execution_count": 46,
   "metadata": {
    "execution": {
     "iopub.execute_input": "2022-07-19T15:26:45.544791Z",
     "iopub.status.busy": "2022-07-19T15:26:45.544150Z",
     "iopub.status.idle": "2022-07-19T15:26:45.550333Z",
     "shell.execute_reply": "2022-07-19T15:26:45.549792Z",
     "shell.execute_reply.started": "2022-07-19T15:26:45.544761Z"
    },
    "tags": []
   },
   "outputs": [],
   "source": [
    "tsne_table = genome_tsne.view(skbio.OrdinationResults)\n",
    "tsne_df = tsne_table.samples"
   ]
  },
  {
   "cell_type": "code",
   "execution_count": 47,
   "metadata": {
    "execution": {
     "iopub.execute_input": "2022-07-19T15:26:45.933954Z",
     "iopub.status.busy": "2022-07-19T15:26:45.933661Z",
     "iopub.status.idle": "2022-07-19T15:26:45.937946Z",
     "shell.execute_reply": "2022-07-19T15:26:45.937500Z",
     "shell.execute_reply.started": "2022-07-19T15:26:45.933929Z"
    },
    "tags": []
   },
   "outputs": [],
   "source": [
    "# switch to inline plotting\n",
    "%matplotlib inline"
   ]
  },
  {
   "cell_type": "code",
   "execution_count": 48,
   "metadata": {
    "execution": {
     "iopub.execute_input": "2022-07-19T15:26:46.488166Z",
     "iopub.status.busy": "2022-07-19T15:26:46.487507Z",
     "iopub.status.idle": "2022-07-19T15:26:46.575339Z",
     "shell.execute_reply": "2022-07-19T15:26:46.574922Z",
     "shell.execute_reply.started": "2022-07-19T15:26:46.488137Z"
    },
    "tags": []
   },
   "outputs": [
    {
     "data": {
      "image/png": "[encoded data removed]",
      "text/plain": [
       "<Figure size 576x576 with 1 Axes>"
      ]
     },
     "metadata": {},
     "output_type": "display_data"
    }
   ],
   "source": [
    "# create a 2D plot of Dim1 vs Dim2\n",
    "\n",
    "sns.set(rc={'figure.figsize':(8, 8), 'font.family': ['Arial']}, style='white')\n",
    "with sns.plotting_context(\"notebook\", font_scale=1.2):\n",
    "    fig = plt.figure()\n",
    "    ax = fig.add_subplot(111)\n",
    "\n",
    "    ax.set_xlabel(f'Axis 1')\n",
    "    ax.set_ylabel(f'Axis 2')\n",
    "    \n",
    "    sns.scatterplot(\n",
    "        x=tsne_df.iloc[:, 0],\n",
    "        y=tsne_df.iloc[:, 1],\n",
    "        s=70,\n",
    "        hue=sra_meta_smp_df['region'],\n",
    "        ax=ax,\n",
    "        alpha=0.75\n",
    "    )\n",
    "\n",
    "    ax.set_xticks([])\n",
    "    ax.set_yticks([])\n",
    "    \n",
    "    plt.tight_layout()"
   ]
  },
  {
   "cell_type": "code",
   "execution_count": 49,
   "metadata": {
    "execution": {
     "iopub.execute_input": "2022-07-19T15:26:52.744373Z",
     "iopub.status.busy": "2022-07-19T15:26:52.744087Z",
     "iopub.status.idle": "2022-07-19T15:26:52.776901Z",
     "shell.execute_reply": "2022-07-19T15:26:52.776537Z",
     "shell.execute_reply.started": "2022-07-19T15:26:52.744348Z"
    },
    "tags": []
   },
   "outputs": [
    {
     "name": "stderr",
     "output_type": "stream",
     "text": [
      "The PostScript backend does not support transparency; partially transparent artists will be rendered opaque.\n"
     ]
    }
   ],
   "source": [
    "fig.savefig(os.path.join(data_loc, 'sars_cov_2_tsne.eps'))"
   ]
  },
  {
   "cell_type": "markdown",
   "metadata": {},
   "source": [
    "We can see from the plots above that when the `region` column is used to color the data points, genomes group into clusters corresponding to their geographical origin."
   ]
  },
  {
   "cell_type": "markdown",
   "metadata": {
    "tags": []
   },
   "source": [
    "## Classify samples using hash signatures\n",
    "We can also more quantitatively test whether MinHash genome signatures generated by _sourmash_ are predictive of SARS-CoV-2 geographical origin. To do that we can use the `classify_samples_from_dist` method from the `q2-sample-classifier` plugin."
   ]
  },
  {
   "cell_type": "code",
   "execution_count": 50,
   "metadata": {
    "execution": {
     "iopub.execute_input": "2022-07-19T15:26:56.778123Z",
     "iopub.status.busy": "2022-07-19T15:26:56.777447Z",
     "iopub.status.idle": "2022-07-19T15:26:56.795345Z",
     "shell.execute_reply": "2022-07-19T15:26:56.794905Z",
     "shell.execute_reply.started": "2022-07-19T15:26:56.778105Z"
    },
    "tags": []
   },
   "outputs": [
    {
     "name": "stdout",
     "output_type": "stream",
     "text": [
      "Classification artifacts exist and will be read from u2-genome-results/predictions.qza and u2-genome-results/accuracy.qzv.\n"
     ]
    }
   ],
   "source": [
    "predictions_out = os.path.join(data_loc, 'predictions.qza')\n",
    "accuracy_out = os.path.join(data_loc, 'accuracy.qzv')\n",
    "if not os.path.isfile(predictions_out):\n",
    "    predictions, accuracy, = sample_classifier.pipelines.classify_samples_from_dist(\n",
    "        distance_matrix=hash_compare,\n",
    "        metadata = q2.CategoricalMetadataColumn(sra_meta_smp_df['region']),\n",
    "        k=3,\n",
    "        cv=10,\n",
    "        random_state=random_seed,\n",
    "        n_jobs=n_jobs\n",
    "    )\n",
    "    predictions.save(predictions_out)\n",
    "    accuracy.save(accuracy_out)\n",
    "else:\n",
    "    print(f'Classification artifacts exist and will be read from {predictions_out} and {accuracy_out}.')\n",
    "    predictions = q2.Artifact.load(predictions_out)\n",
    "    accuracy = q2.Visualization.load(accuracy_out)"
   ]
  },
  {
   "cell_type": "code",
   "execution_count": 52,
   "metadata": {
    "execution": {
     "iopub.execute_input": "2022-07-19T15:30:32.404836Z",
     "iopub.status.busy": "2022-07-19T15:30:32.404453Z",
     "iopub.status.idle": "2022-07-19T15:30:32.407890Z",
     "shell.execute_reply": "2022-07-19T15:30:32.407539Z",
     "shell.execute_reply.started": "2022-07-19T15:30:32.404817Z"
    },
    "tags": []
   },
   "outputs": [
    {
     "data": {
      "text/html": [
       "<div><img onload=\"(function(div, url){\n",
       "if (typeof require !== 'undefined') {\n",
       "    var baseURL = require.toUrl('').split('/').slice(0, -2).join('/');\n",
       "} else {\n",
       "    var baseURL = JSON.parse(\n",
       "        document.getElementById('jupyter-config-data').innerHTML\n",
       "    ).baseUrl.slice(0, -1);\n",
       "}\n",
       "url = baseURL + url;\n",
       "fetch(url).then(function(res) {\n",
       "    if (res.status === 404) {\n",
       "        div.innerHTML = 'Install QIIME 2 Jupyter extension with:<br />' +\n",
       "                        '<code>jupyter serverextension enable --py qiime2' +\n",
       "                        ' --sys-prefix</code><br />then restart your server.' +\n",
       "                        '<br /><br />(Interactive output not available on ' +\n",
       "                        'static notebook viewer services like nbviewer.)';\n",
       "    } else if (res.status === 409) {\n",
       "        div.innerHTML = 'Visualization no longer in scope. Re-run this cell' +\n",
       "                        ' to see the visualization.';\n",
       "    } else if (res.ok) {\n",
       "        url = res.url;\n",
       "        div.innerHTML = '<iframe src=\\'' + url + '\\' style=\\'' +\n",
       "                        'width: 100%; height: 700px; border: 0;\\'>' +\n",
       "                        '</iframe><hr />Open in a: <a href=\\'' + url + '\\'' +\n",
       "                        ' target=\\'_blank\\'>new window</a>'\n",
       "    } else {\n",
       "        div.innerHTML = 'Something has gone wrong. Check notebook server for' +\n",
       "                        ' errors.';\n",
       "    }\n",
       "});\n",
       "})(this.parentElement, '/qiime2/redirect?location=/media/michal/disk_large/.tmp/qiime2-archive-o7rr0vrb')\" src=\"data:image/gif;base64,R0lGODlhAQABAIAAAP///wAAACH5BAEAAAAALAAAAAABAAEAAAICRAEAOw==\" /></div>"
      ],
      "text/plain": [
       "<visualization: Visualization uuid: 34a0f578-18ed-4fb3-9e6f-05140f3f3b13>"
      ]
     },
     "execution_count": 52,
     "metadata": {},
     "output_type": "execute_result"
    }
   ],
   "source": [
    "accuracy"
   ]
  },
  {
   "cell_type": "markdown",
   "metadata": {
    "pycharm": {
     "name": "#%% md\n"
    }
   },
   "source": [
    "Geographic region can be sucessfully classified using only genome hashes with a high degree of accuracy (~92%). Importantly, a more detailed analysis would be required to investigate the potential influence of variables that were not controlled for in this analysis. The `test_size = 0` warning can be disregarded here: classification was evaluated using 10-fold cross-validation."
   ]
  },
  {
   "cell_type": "code",
   "execution_count": null,
   "metadata": {},
   "outputs": [],
   "source": []
  }
 ],
 "metadata": {
  "kernelspec": {
   "display_name": "Python 3 (ipykernel)",
   "language": "python",
   "name": "python3"
  },
  "language_info": {
   "codemirror_mode": {
    "name": "ipython",
    "version": 3
   },
   "file_extension": ".py",
   "mimetype": "text/x-python",
   "name": "python",
   "nbconvert_exporter": "python",
   "pygments_lexer": "ipython3",
   "version": "3.8.13"
  }
 },
 "nbformat": 4,
 "nbformat_minor": 4
}
