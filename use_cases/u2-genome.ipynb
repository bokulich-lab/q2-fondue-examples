{
 "cells": [
  {
   "cell_type": "markdown",
   "metadata": {
    "tags": []
   },
   "source": [
    "## Setup\n",
    "\n",
    "__Notes:__ \n",
    "1. This analysis requires a lot of temporary storage space (~200GB) in the data fetch phase. Subsequently, around ~50GB are required to store all the output artifacts.\n",
    "2. **This is merely a demonstration of what sort of analysis could be performed with data fetched using q2-fondue. It does not control for study covariates and should not be replicated directly in a proper meta-analysis.**\n",
    "3. If you are viewing this notebook directly on GitHub, you will not be able to see the QIIME 2 visualization outputs. You can, however, find all the visualizations in the `u3-genome-results` directory and view those on [view.qiime2.org](https://view.qiime2.org)."
   ]
  },
  {
   "cell_type": "code",
   "execution_count": 1,
   "metadata": {
    "execution": {
     "iopub.execute_input": "2022-07-19T16:00:22.145907Z",
     "iopub.status.busy": "2022-07-19T16:00:22.145771Z",
     "iopub.status.idle": "2022-07-19T16:00:26.429922Z",
     "shell.execute_reply": "2022-07-19T16:00:26.429471Z",
     "shell.execute_reply.started": "2022-07-19T16:00:22.145873Z"
    },
    "pycharm": {
     "name": "#%%\n"
    },
    "tags": []
   },
   "outputs": [],
   "source": [
    "import os\n",
    "import matplotlib.pyplot as plt\n",
    "import pandas as pd\n",
    "import qiime2 as q2\n",
    "import seaborn as sns\n",
    "import skbio\n",
    "\n",
    "from matplotlib import cm\n",
    "from qiime2.plugins import (\n",
    "    fondue, sourmash, diversity, emperor, demux, \n",
    "    sample_classifier, cutadapt\n",
    ")\n",
    "\n",
    "data_loc = 'u2-genome-results'\n",
    "if not os.path.isdir(data_loc):\n",
    "    os.mkdir(data_loc)\n",
    "\n",
    "email = 'your@email.com'\n",
    "n_jobs = 16\n",
    "\n",
    "nextstrain_metadata_path = os.path.join(data_loc, 'metadata_nextstrain.tsv')\n",
    "nextstrain_meta_url = 'https://data.nextstrain.org/files/ncov/open/metadata.tsv.gz'\n",
    "nextstrain_last_submit_date = '2022-01-31'\n",
    "\n",
    "genomes_per_region = 250\n",
    "random_seed = 11\n",
    "\n",
    "sra_metadata_path = os.path.join(data_loc, 'metadata_sra.tsv')\n",
    "metadata_merged_path = os.path.join(data_loc, 'metadata_merged.tsv')"
   ]
  },
  {
   "cell_type": "code",
   "execution_count": 2,
   "metadata": {
    "execution": {
     "iopub.execute_input": "2022-07-19T16:00:26.431014Z",
     "iopub.status.busy": "2022-07-19T16:00:26.430780Z",
     "iopub.status.idle": "2022-07-19T16:00:26.434907Z",
     "shell.execute_reply": "2022-07-19T16:00:26.434584Z",
     "shell.execute_reply.started": "2022-07-19T16:00:26.430998Z"
    },
    "tags": []
   },
   "outputs": [],
   "source": [
    "def sample_variants(metadata_df, n, grouping_col='Nextstrain_clade', random_state=1):\n",
    "    \"\"\"Draw a random, stratified sample from all available virus variants.\n",
    "    \n",
    "    Args:\n",
    "        metadata_df (pd.DataFrame): Metadata of all samples.\n",
    "        n (int): Sample size per virus variant.\n",
    "        grouping_col (str): Name of the column containing variant name.\n",
    "        random_state (int): Random seed to be used when sampling.\n",
    "    \n",
    "    Returns:\n",
    "        pd.DataFrame: DataFrame containing subsampled metadata.\n",
    "    \"\"\"\n",
    "    metadata_ns_vars_smp = metadata_df.groupby(grouping_col).apply(\n",
    "        lambda x: x.sample(n=n, random_state=random_state)\n",
    "    )\n",
    "    if 'sra_accession' in metadata_ns_vars_smp.columns:\n",
    "        metadata_ns_vars_smp.set_index('sra_accession', drop=True, inplace=True)\n",
    "    else:\n",
    "        metadata_ns_vars_smp.reset_index(level=0, drop=True, inplace=True)\n",
    "    metadata_ns_vars_smp.index.name = 'id'\n",
    "    return metadata_ns_vars_smp\n",
    "\n",
    "\n",
    "def color_variants(x, cmap='plasma'):\n",
    "    \"\"\"\n",
    "    Return a color from provided color map based on virus variant.\n",
    "    \n",
    "    Args:\n",
    "        x (str): Variant name.\n",
    "        cmap (str): Matplotlib's color map name.\n",
    "    \n",
    "    Returns:\n",
    "        Color from Matplotlib's cmap.\n",
    "    \"\"\"\n",
    "    colors = cm.get_cmap(cmap, 8).colors\n",
    "    if x == 'Alpha':\n",
    "        return colors[0]\n",
    "    elif x == 'Delta':\n",
    "        return colors[1]\n",
    "    else: \n",
    "        return colors[2]"
   ]
  },
  {
   "cell_type": "markdown",
   "metadata": {
    "pycharm": {
     "name": "#%% md\n"
    },
    "tags": []
   },
   "source": [
    "## Process NextStrain's metadata\n",
    "\n",
    "We are interested in taking a sample of SARS-CoV-2 genomes from the full Nextstrain list. We will only consider genomes available in the SRA repository for a few geographical regions. Moreover, we will only work with single-end sequences to simplify the analysis. We begin by fetching the original Nextstrain metadata:"
   ]
  },
  {
   "cell_type": "code",
   "execution_count": 3,
   "metadata": {
    "execution": {
     "iopub.execute_input": "2022-07-19T16:00:26.435469Z",
     "iopub.status.busy": "2022-07-19T16:00:26.435347Z",
     "iopub.status.idle": "2022-07-19T16:00:26.500580Z",
     "shell.execute_reply": "2022-07-19T16:00:26.500172Z",
     "shell.execute_reply.started": "2022-07-19T16:00:26.435458Z"
    },
    "tags": []
   },
   "outputs": [
    {
     "name": "stdout",
     "output_type": "stream",
     "text": [
      "u2-genome-results/metadata_nextstrain.tsv exists and will not be re-downloaded.\n"
     ]
    }
   ],
   "source": [
    "%%bash -s \"$nextstrain_metadata_path\" \"$data_loc\" \"$nextstrain_meta_url\"\n",
    "\n",
    "if test -f \"$1\"; then\n",
    "    echo \"$1 exists and will not be re-downloaded.\"\n",
    "else\n",
    "    wget -nv -O \"$2/metadata.tsv.gz\" \"$3\";\n",
    "    gzip -f -d \"$2/metadata.tsv.gz\";\n",
    "    mv \"$2/metadata.tsv\" \"$2/metadata_nextstrain.tsv\"\n",
    "fi"
   ]
  },
  {
   "cell_type": "code",
   "execution_count": 4,
   "metadata": {
    "execution": {
     "iopub.execute_input": "2022-07-19T16:00:26.501339Z",
     "iopub.status.busy": "2022-07-19T16:00:26.501196Z",
     "iopub.status.idle": "2022-07-19T16:00:56.076370Z",
     "shell.execute_reply": "2022-07-19T16:00:56.075860Z",
     "shell.execute_reply.started": "2022-07-19T16:00:26.501325Z"
    },
    "pycharm": {
     "name": "#%%\n"
    },
    "tags": []
   },
   "outputs": [
    {
     "name": "stderr",
     "output_type": "stream",
     "text": [
      "/home/michal/miniconda3/envs/fondue-pub/lib/python3.8/site-packages/IPython/core/interactiveshell.py:3135: DtypeWarning: Columns (4,9,41,46) have mixed types.Specify dtype option on import or set low_memory=False.\n",
      "  has_raised = await self.run_ast_nodes(code_ast.body, cell_name,\n"
     ]
    },
    {
     "data": {
      "text/plain": [
       "(3709271, 47)"
      ]
     },
     "execution_count": 4,
     "metadata": {},
     "output_type": "execute_result"
    }
   ],
   "source": [
    "metadata_ns = pd.read_csv(nextstrain_metadata_path, sep='\\t')\n",
    "metadata_ns.shape"
   ]
  },
  {
   "cell_type": "code",
   "execution_count": 5,
   "metadata": {
    "execution": {
     "iopub.execute_input": "2022-07-19T16:00:56.077693Z",
     "iopub.status.busy": "2022-07-19T16:00:56.077516Z",
     "iopub.status.idle": "2022-07-19T16:00:56.090872Z",
     "shell.execute_reply": "2022-07-19T16:00:56.090498Z",
     "shell.execute_reply.started": "2022-07-19T16:00:56.077679Z"
    },
    "pycharm": {
     "name": "#%%\n"
    },
    "tags": []
   },
   "outputs": [
    {
     "data": {
      "text/html": [
       "<div>\n",
       "<style scoped>\n",
       "    .dataframe tbody tr th:only-of-type {\n",
       "        vertical-align: middle;\n",
       "    }\n",
       "\n",
       "    .dataframe tbody tr th {\n",
       "        vertical-align: top;\n",
       "    }\n",
       "\n",
       "    .dataframe thead th {\n",
       "        text-align: right;\n",
       "    }\n",
       "</style>\n",
       "<table border=\"1\" class=\"dataframe\">\n",
       "  <thead>\n",
       "    <tr style=\"text-align: right;\">\n",
       "      <th></th>\n",
       "      <th>strain</th>\n",
       "      <th>virus</th>\n",
       "      <th>gisaid_epi_isl</th>\n",
       "      <th>genbank_accession</th>\n",
       "      <th>sra_accession</th>\n",
       "      <th>date</th>\n",
       "      <th>region</th>\n",
       "      <th>country</th>\n",
       "      <th>division</th>\n",
       "      <th>location</th>\n",
       "      <th>...</th>\n",
       "      <th>QC_rare_mutations</th>\n",
       "      <th>QC_snp_clusters</th>\n",
       "      <th>QC_frame_shifts</th>\n",
       "      <th>QC_stop_codons</th>\n",
       "      <th>frame_shifts</th>\n",
       "      <th>deletions</th>\n",
       "      <th>insertions</th>\n",
       "      <th>substitutions</th>\n",
       "      <th>aaSubstitutions</th>\n",
       "      <th>clock_deviation</th>\n",
       "    </tr>\n",
       "  </thead>\n",
       "  <tbody>\n",
       "    <tr>\n",
       "      <th>0</th>\n",
       "      <td>?</td>\n",
       "      <td>ncov</td>\n",
       "      <td>EPI_ISL_8303487</td>\n",
       "      <td>OV377246</td>\n",
       "      <td>ERR7904006</td>\n",
       "      <td>?</td>\n",
       "      <td>Europe</td>\n",
       "      <td>United Kingdom</td>\n",
       "      <td>?</td>\n",
       "      <td>NaN</td>\n",
       "      <td>...</td>\n",
       "      <td>bad</td>\n",
       "      <td>good</td>\n",
       "      <td>good</td>\n",
       "      <td>good</td>\n",
       "      <td>NaN</td>\n",
       "      <td>6513-6515</td>\n",
       "      <td>22195:NTAGTGCGT,25695:GAA</td>\n",
       "      <td>C241T,A2832G,C3037T,C7124T,G8393A,G9441T,C1002...</td>\n",
       "      <td>M:I82T,ORF1a:K856R,ORF1a:L2084I,ORF1a:P2287S,O...</td>\n",
       "      <td>?</td>\n",
       "    </tr>\n",
       "    <tr>\n",
       "      <th>1</th>\n",
       "      <td>ARG/Cordoba-1006-155/2020</td>\n",
       "      <td>ncov</td>\n",
       "      <td>?</td>\n",
       "      <td>MW553298</td>\n",
       "      <td>NaN</td>\n",
       "      <td>2020-06-04</td>\n",
       "      <td>South America</td>\n",
       "      <td>Argentina</td>\n",
       "      <td>Argentina</td>\n",
       "      <td>NaN</td>\n",
       "      <td>...</td>\n",
       "      <td>good</td>\n",
       "      <td>good</td>\n",
       "      <td>good</td>\n",
       "      <td>good</td>\n",
       "      <td>NaN</td>\n",
       "      <td>NaN</td>\n",
       "      <td>NaN</td>\n",
       "      <td>C241T,C3037T,C3261T,C9711T,C14408T,C17012T,A20...</td>\n",
       "      <td>ORF1a:T999I,ORF1a:S3149F,ORF1b:P314L,ORF1b:S11...</td>\n",
       "      <td>4.0</td>\n",
       "    </tr>\n",
       "    <tr>\n",
       "      <th>2</th>\n",
       "      <td>ARG/Cordoba-1083-6/2020</td>\n",
       "      <td>ncov</td>\n",
       "      <td>?</td>\n",
       "      <td>MW553296</td>\n",
       "      <td>NaN</td>\n",
       "      <td>2020-06-04</td>\n",
       "      <td>South America</td>\n",
       "      <td>Argentina</td>\n",
       "      <td>Argentina</td>\n",
       "      <td>NaN</td>\n",
       "      <td>...</td>\n",
       "      <td>good</td>\n",
       "      <td>good</td>\n",
       "      <td>good</td>\n",
       "      <td>good</td>\n",
       "      <td>NaN</td>\n",
       "      <td>NaN</td>\n",
       "      <td>NaN</td>\n",
       "      <td>C241T,C3037T,C3261T,C9711T,C14408T,C17012T,A20...</td>\n",
       "      <td>ORF1a:T999I,ORF1a:S3149F,ORF1b:P314L,ORF1b:S11...</td>\n",
       "      <td>5.0</td>\n",
       "    </tr>\n",
       "    <tr>\n",
       "      <th>3</th>\n",
       "      <td>ARG/Cordoba-11300-61/2020</td>\n",
       "      <td>ncov</td>\n",
       "      <td>?</td>\n",
       "      <td>MW553301</td>\n",
       "      <td>NaN</td>\n",
       "      <td>2020-06-04</td>\n",
       "      <td>South America</td>\n",
       "      <td>Argentina</td>\n",
       "      <td>Argentina</td>\n",
       "      <td>NaN</td>\n",
       "      <td>...</td>\n",
       "      <td>good</td>\n",
       "      <td>good</td>\n",
       "      <td>good</td>\n",
       "      <td>good</td>\n",
       "      <td>NaN</td>\n",
       "      <td>NaN</td>\n",
       "      <td>NaN</td>\n",
       "      <td>C241T,C3037T,C3261T,C9711T,C14408T,C17012T,A20...</td>\n",
       "      <td>ORF1a:T999I,ORF1a:S3149F,ORF1b:P314L,ORF1b:S11...</td>\n",
       "      <td>2.0</td>\n",
       "    </tr>\n",
       "    <tr>\n",
       "      <th>4</th>\n",
       "      <td>ARG/Cordoba-11301-61/2020</td>\n",
       "      <td>ncov</td>\n",
       "      <td>?</td>\n",
       "      <td>MW553314</td>\n",
       "      <td>NaN</td>\n",
       "      <td>2020-06-04</td>\n",
       "      <td>South America</td>\n",
       "      <td>Argentina</td>\n",
       "      <td>Argentina</td>\n",
       "      <td>NaN</td>\n",
       "      <td>...</td>\n",
       "      <td>good</td>\n",
       "      <td>good</td>\n",
       "      <td>good</td>\n",
       "      <td>good</td>\n",
       "      <td>NaN</td>\n",
       "      <td>NaN</td>\n",
       "      <td>NaN</td>\n",
       "      <td>C241T,C3037T,C3261T,C9711T,C14408T,C17012T,A20...</td>\n",
       "      <td>ORF1a:T999I,ORF1a:S3149F,ORF1b:P314L,ORF1b:S11...</td>\n",
       "      <td>4.0</td>\n",
       "    </tr>\n",
       "  </tbody>\n",
       "</table>\n",
       "<p>5 rows × 47 columns</p>\n",
       "</div>"
      ],
      "text/plain": [
       "                      strain virus   gisaid_epi_isl genbank_accession  \\\n",
       "0                          ?  ncov  EPI_ISL_8303487          OV377246   \n",
       "1  ARG/Cordoba-1006-155/2020  ncov                ?          MW553298   \n",
       "2    ARG/Cordoba-1083-6/2020  ncov                ?          MW553296   \n",
       "3  ARG/Cordoba-11300-61/2020  ncov                ?          MW553301   \n",
       "4  ARG/Cordoba-11301-61/2020  ncov                ?          MW553314   \n",
       "\n",
       "  sra_accession        date         region         country   division  \\\n",
       "0    ERR7904006           ?         Europe  United Kingdom          ?   \n",
       "1           NaN  2020-06-04  South America       Argentina  Argentina   \n",
       "2           NaN  2020-06-04  South America       Argentina  Argentina   \n",
       "3           NaN  2020-06-04  South America       Argentina  Argentina   \n",
       "4           NaN  2020-06-04  South America       Argentina  Argentina   \n",
       "\n",
       "  location  ... QC_rare_mutations QC_snp_clusters QC_frame_shifts  \\\n",
       "0      NaN  ...               bad            good            good   \n",
       "1      NaN  ...              good            good            good   \n",
       "2      NaN  ...              good            good            good   \n",
       "3      NaN  ...              good            good            good   \n",
       "4      NaN  ...              good            good            good   \n",
       "\n",
       "  QC_stop_codons  frame_shifts  deletions                 insertions  \\\n",
       "0           good           NaN  6513-6515  22195:NTAGTGCGT,25695:GAA   \n",
       "1           good           NaN        NaN                        NaN   \n",
       "2           good           NaN        NaN                        NaN   \n",
       "3           good           NaN        NaN                        NaN   \n",
       "4           good           NaN        NaN                        NaN   \n",
       "\n",
       "                                       substitutions  \\\n",
       "0  C241T,A2832G,C3037T,C7124T,G8393A,G9441T,C1002...   \n",
       "1  C241T,C3037T,C3261T,C9711T,C14408T,C17012T,A20...   \n",
       "2  C241T,C3037T,C3261T,C9711T,C14408T,C17012T,A20...   \n",
       "3  C241T,C3037T,C3261T,C9711T,C14408T,C17012T,A20...   \n",
       "4  C241T,C3037T,C3261T,C9711T,C14408T,C17012T,A20...   \n",
       "\n",
       "                                     aaSubstitutions clock_deviation  \n",
       "0  M:I82T,ORF1a:K856R,ORF1a:L2084I,ORF1a:P2287S,O...               ?  \n",
       "1  ORF1a:T999I,ORF1a:S3149F,ORF1b:P314L,ORF1b:S11...             4.0  \n",
       "2  ORF1a:T999I,ORF1a:S3149F,ORF1b:P314L,ORF1b:S11...             5.0  \n",
       "3  ORF1a:T999I,ORF1a:S3149F,ORF1b:P314L,ORF1b:S11...             2.0  \n",
       "4  ORF1a:T999I,ORF1a:S3149F,ORF1b:P314L,ORF1b:S11...             4.0  \n",
       "\n",
       "[5 rows x 47 columns]"
      ]
     },
     "execution_count": 5,
     "metadata": {},
     "output_type": "execute_result"
    }
   ],
   "source": [
    "metadata_ns.head(5)"
   ]
  },
  {
   "cell_type": "code",
   "execution_count": 6,
   "metadata": {
    "execution": {
     "iopub.execute_input": "2022-07-19T16:00:56.091440Z",
     "iopub.status.busy": "2022-07-19T16:00:56.091316Z",
     "iopub.status.idle": "2022-07-19T16:00:58.374565Z",
     "shell.execute_reply": "2022-07-19T16:00:58.374062Z",
     "shell.execute_reply.started": "2022-07-19T16:00:56.091429Z"
    },
    "tags": []
   },
   "outputs": [
    {
     "data": {
      "text/plain": [
       "(3656567, 47)"
      ]
     },
     "execution_count": 6,
     "metadata": {},
     "output_type": "execute_result"
    }
   ],
   "source": [
    "# remove the records obtained later than the indicated date\n",
    "metadata_ns['date_submitted'] = pd.to_datetime(metadata_ns['date_submitted'])\n",
    "metadata_ns = metadata_ns[metadata_ns['date_submitted'] <= nextstrain_last_submit_date]\n",
    "metadata_ns.shape"
   ]
  },
  {
   "cell_type": "code",
   "execution_count": 7,
   "metadata": {
    "execution": {
     "iopub.execute_input": "2022-07-19T16:00:58.375426Z",
     "iopub.status.busy": "2022-07-19T16:00:58.375288Z",
     "iopub.status.idle": "2022-07-19T16:01:08.669832Z",
     "shell.execute_reply": "2022-07-19T16:01:08.669303Z",
     "shell.execute_reply.started": "2022-07-19T16:00:58.375414Z"
    },
    "tags": []
   },
   "outputs": [],
   "source": [
    "# convert date_submitted back to string (to conform with QIIME 2' Metadata format)\n",
    "metadata_ns['date_submitted'] = metadata_ns['date_submitted'].astype(str)"
   ]
  },
  {
   "cell_type": "markdown",
   "metadata": {
    "pycharm": {
     "name": "#%% md\n"
    }
   },
   "source": [
    "Only keep samples with SRA accession numbers."
   ]
  },
  {
   "cell_type": "code",
   "execution_count": 8,
   "metadata": {
    "execution": {
     "iopub.execute_input": "2022-07-19T16:01:08.670539Z",
     "iopub.status.busy": "2022-07-19T16:01:08.670416Z",
     "iopub.status.idle": "2022-07-19T16:01:12.913352Z",
     "shell.execute_reply": "2022-07-19T16:01:12.912974Z",
     "shell.execute_reply.started": "2022-07-19T16:01:08.670528Z"
    },
    "pycharm": {
     "name": "#%%\n"
    },
    "tags": []
   },
   "outputs": [
    {
     "data": {
      "text/plain": [
       "(1842492, 47)"
      ]
     },
     "execution_count": 8,
     "metadata": {},
     "output_type": "execute_result"
    }
   ],
   "source": [
    "metadata_ns = metadata_ns[\n",
    "    metadata_ns['sra_accession'].notna() & \\\n",
    "    metadata_ns['sra_accession'].str.startswith(('SRR', 'ERR')) &\n",
    "    (metadata_ns['sra_accession'].str.contains(',') == False)\n",
    "]\n",
    "metadata_ns.shape"
   ]
  },
  {
   "cell_type": "markdown",
   "metadata": {},
   "source": [
    "Only keep samples with good `QC_missing_data`."
   ]
  },
  {
   "cell_type": "code",
   "execution_count": 9,
   "metadata": {
    "execution": {
     "iopub.execute_input": "2022-07-19T16:01:12.914079Z",
     "iopub.status.busy": "2022-07-19T16:01:12.913934Z",
     "iopub.status.idle": "2022-07-19T16:01:13.646553Z",
     "shell.execute_reply": "2022-07-19T16:01:13.646055Z",
     "shell.execute_reply.started": "2022-07-19T16:01:12.914066Z"
    },
    "tags": []
   },
   "outputs": [
    {
     "data": {
      "text/plain": [
       "(1670884, 47)"
      ]
     },
     "execution_count": 9,
     "metadata": {},
     "output_type": "execute_result"
    }
   ],
   "source": [
    "metadata_ns = metadata_ns[metadata_ns['QC_missing_data'] == 'good']\n",
    "metadata_ns.shape"
   ]
  },
  {
   "cell_type": "markdown",
   "metadata": {
    "pycharm": {
     "name": "#%% md\n"
    }
   },
   "source": [
    "Filter out and group together only samples from geographical regions with enough samples."
   ]
  },
  {
   "cell_type": "code",
   "execution_count": 10,
   "metadata": {
    "execution": {
     "iopub.execute_input": "2022-07-19T16:01:13.647325Z",
     "iopub.status.busy": "2022-07-19T16:01:13.647154Z",
     "iopub.status.idle": "2022-07-19T16:01:13.737605Z",
     "shell.execute_reply": "2022-07-19T16:01:13.737144Z",
     "shell.execute_reply.started": "2022-07-19T16:01:13.647310Z"
    },
    "pycharm": {
     "name": "#%%\n"
    },
    "tags": []
   },
   "outputs": [
    {
     "data": {
      "text/plain": [
       "Europe           1298669\n",
       "North America     358166\n",
       "Oceania            12572\n",
       "Asia                1415\n",
       "Africa                57\n",
       "South America          5\n",
       "Name: region, dtype: int64"
      ]
     },
     "execution_count": 10,
     "metadata": {},
     "output_type": "execute_result"
    }
   ],
   "source": [
    "# check count of samples per geographical region\n",
    "metadata_val_counts = metadata_ns['region'].value_counts()\n",
    "metadata_val_counts"
   ]
  },
  {
   "cell_type": "code",
   "execution_count": 11,
   "metadata": {
    "execution": {
     "iopub.execute_input": "2022-07-19T16:01:13.738208Z",
     "iopub.status.busy": "2022-07-19T16:01:13.738079Z",
     "iopub.status.idle": "2022-07-19T16:01:14.096859Z",
     "shell.execute_reply": "2022-07-19T16:01:14.096431Z",
     "shell.execute_reply.started": "2022-07-19T16:01:13.738195Z"
    },
    "tags": []
   },
   "outputs": [
    {
     "data": {
      "text/plain": [
       "['Europe', 'North America', 'Oceania']"
      ]
     },
     "execution_count": 11,
     "metadata": {},
     "output_type": "execute_result"
    }
   ],
   "source": [
    "countries = metadata_val_counts[metadata_val_counts > 2000].index.tolist()\n",
    "countries"
   ]
  },
  {
   "cell_type": "code",
   "execution_count": 12,
   "metadata": {
    "execution": {
     "iopub.execute_input": "2022-07-19T16:01:14.097461Z",
     "iopub.status.busy": "2022-07-19T16:01:14.097338Z",
     "iopub.status.idle": "2022-07-19T16:01:14.584745Z",
     "shell.execute_reply": "2022-07-19T16:01:14.584385Z",
     "shell.execute_reply.started": "2022-07-19T16:01:14.097448Z"
    },
    "pycharm": {
     "name": "#%%\n"
    },
    "tags": []
   },
   "outputs": [
    {
     "data": {
      "text/plain": [
       "(1669407, 47)"
      ]
     },
     "execution_count": 12,
     "metadata": {},
     "output_type": "execute_result"
    }
   ],
   "source": [
    "metadata_ns_vars = metadata_ns[metadata_ns['region'].isin(countries)]\n",
    "metadata_ns_vars.shape"
   ]
  },
  {
   "cell_type": "markdown",
   "metadata": {
    "pycharm": {
     "name": "#%% md\n"
    }
   },
   "source": [
    "Sample _n_ sequences per geographical region. We are first sampling more than the final required count per region - we will need some initial metadata to sample only the records with desired properties."
   ]
  },
  {
   "cell_type": "code",
   "execution_count": 13,
   "metadata": {
    "execution": {
     "iopub.execute_input": "2022-07-19T16:01:14.585404Z",
     "iopub.status.busy": "2022-07-19T16:01:14.585263Z",
     "iopub.status.idle": "2022-07-19T16:01:14.674187Z",
     "shell.execute_reply": "2022-07-19T16:01:14.673826Z",
     "shell.execute_reply.started": "2022-07-19T16:01:14.585391Z"
    },
    "tags": []
   },
   "outputs": [
    {
     "data": {
      "text/plain": [
       "Europe           1298669\n",
       "North America     358166\n",
       "Oceania            12572\n",
       "Name: region, dtype: int64"
      ]
     },
     "execution_count": 13,
     "metadata": {},
     "output_type": "execute_result"
    }
   ],
   "source": [
    "metadata_ns_vars['region'].value_counts()"
   ]
  },
  {
   "cell_type": "code",
   "execution_count": 14,
   "metadata": {
    "execution": {
     "iopub.execute_input": "2022-07-19T16:01:14.676082Z",
     "iopub.status.busy": "2022-07-19T16:01:14.675945Z",
     "iopub.status.idle": "2022-07-19T16:01:15.536655Z",
     "shell.execute_reply": "2022-07-19T16:01:15.536208Z",
     "shell.execute_reply.started": "2022-07-19T16:01:14.676070Z"
    },
    "pycharm": {
     "name": "#%%\n"
    },
    "tags": []
   },
   "outputs": [],
   "source": [
    "n = 50 * genomes_per_region\n",
    "metadata_ns_vars_smp = sample_variants(\n",
    "    metadata_ns_vars, n=n, grouping_col='region', random_state=random_seed\n",
    ")"
   ]
  },
  {
   "cell_type": "code",
   "execution_count": 15,
   "metadata": {
    "execution": {
     "iopub.execute_input": "2022-07-19T16:01:15.537379Z",
     "iopub.status.busy": "2022-07-19T16:01:15.537231Z",
     "iopub.status.idle": "2022-07-19T16:01:15.578999Z",
     "shell.execute_reply": "2022-07-19T16:01:15.578503Z",
     "shell.execute_reply.started": "2022-07-19T16:01:15.537365Z"
    },
    "tags": []
   },
   "outputs": [],
   "source": [
    "# remove some columns with mixed types (we will not need those)\n",
    "for col in ['clock_deviation']:\n",
    "    metadata_ns_vars_smp.drop(col, axis=1, inplace=True)"
   ]
  },
  {
   "cell_type": "code",
   "execution_count": 16,
   "metadata": {
    "collapsed": false,
    "execution": {
     "iopub.execute_input": "2022-07-19T16:01:15.579689Z",
     "iopub.status.busy": "2022-07-19T16:01:15.579542Z",
     "iopub.status.idle": "2022-07-19T16:01:15.587253Z",
     "shell.execute_reply": "2022-07-19T16:01:15.586901Z",
     "shell.execute_reply.started": "2022-07-19T16:01:15.579675Z"
    },
    "jupyter": {
     "outputs_hidden": false
    },
    "pycharm": {
     "name": "#%%\n"
    },
    "tags": []
   },
   "outputs": [
    {
     "data": {
      "text/plain": [
       "Oceania          12500\n",
       "North America    12500\n",
       "Europe           12500\n",
       "Name: region, dtype: int64"
      ]
     },
     "execution_count": 16,
     "metadata": {},
     "output_type": "execute_result"
    }
   ],
   "source": [
    "metadata_ns_vars_smp['region'].value_counts()"
   ]
  },
  {
   "cell_type": "markdown",
   "metadata": {
    "tags": []
   },
   "source": [
    "## Fetch sample metadata using q2-fondue\n",
    "Fetch metadata for the pre-selected sequences using q2-fondue's `get-metadata` action. We will then use this metadata to filter out samples containing single-end reads only and merge those with the original Nextstrain metadata. Finally, we will subsample those to get the final list of genomes to fetch, stratified per geographical region. "
   ]
  },
  {
   "cell_type": "code",
   "execution_count": 17,
   "metadata": {
    "execution": {
     "iopub.execute_input": "2022-07-19T16:01:15.587827Z",
     "iopub.status.busy": "2022-07-19T16:01:15.587707Z",
     "iopub.status.idle": "2022-07-19T16:01:15.594227Z",
     "shell.execute_reply": "2022-07-19T16:01:15.593893Z",
     "shell.execute_reply.started": "2022-07-19T16:01:15.587815Z"
    },
    "tags": []
   },
   "outputs": [],
   "source": [
    "# we will be fetching metadata in several batches, due to large ID count \n",
    "ids = metadata_ns_vars_smp.index.to_list()\n",
    "ids_chunked = [ids[i:i + 4000] for i in range(0, metadata_ns_vars_smp.shape[0], 4000)]"
   ]
  },
  {
   "cell_type": "code",
   "execution_count": 18,
   "metadata": {
    "execution": {
     "iopub.execute_input": "2022-07-19T16:01:15.594737Z",
     "iopub.status.busy": "2022-07-19T16:01:15.594626Z",
     "iopub.status.idle": "2022-07-19T16:46:37.597351Z",
     "shell.execute_reply": "2022-07-19T16:46:37.596886Z",
     "shell.execute_reply.started": "2022-07-19T16:01:15.594726Z"
    },
    "tags": []
   },
   "outputs": [
    {
     "name": "stdout",
     "output_type": "stream",
     "text": [
      "-----Fetching metadata - batch 1 out of 10...-----\n",
      "-----Fetching metadata - batch 2 out of 10...-----\n",
      "-----Fetching metadata - batch 3 out of 10...-----\n",
      "2022-07-19 18:12:41,228 [MainThread] [WARNING] [q2_fondue.entrezpy_clients._esearch]: Some of the IDs are invalid or ambiguous:\n",
      " Invalid IDs: ERR6490409\n",
      "2022-07-19 18:12:41,228 [MainThread] [WARNING] [q2_fondue.entrezpy_clients._esearch]: Some of the IDs are invalid or ambiguous:\n",
      " Invalid IDs: ERR6490409\n",
      "2022-07-19 18:12:41,228 [MainThread] [WARNING] [q2_fondue.entrezpy_clients._esearch]: Some of the IDs are invalid or ambiguous:\n",
      " Invalid IDs: ERR6490409\n",
      "2022-07-19 18:12:41,230 [MainThread] [WARNING] [q2_fondue.metadata]: The following provided IDs are invalid: ERR6490409. Please correct them and try fetching those independently.\n",
      "2022-07-19 18:12:41,230 [MainThread] [WARNING] [q2_fondue.metadata]: The following provided IDs are invalid: ERR6490409. Please correct them and try fetching those independently.\n",
      "2022-07-19 18:12:41,230 [MainThread] [WARNING] [q2_fondue.metadata]: The following provided IDs are invalid: ERR6490409. Please correct them and try fetching those independently.\n",
      "-----Fetching metadata - batch 4 out of 10...-----\n",
      "2022-07-19 18:18:32,143 [MainThread] [WARNING] [q2_fondue.entrezpy_clients._esearch]: Some of the IDs are invalid or ambiguous:\n",
      " Invalid IDs: SRR14873450, SRR14873463, SRR14873470, SRR14873501, SRR14873511, SRR14880543, SRR14880550, SRR14893204, SRR14893221, SRR14893268, SRR14899907, SRR14900195, SRR14900300, SRR15022823, SRR15022868, SRR15022948, SRR15022995, SRR15023135, SRR15023166, SRR15023196, SRR15023230, SRR15023284, SRR15023308, SRR15023314, SRR15025638, SRR15052559, SRR15052980, SRR15053189, SRR15053209, SRR15053221, SRR15053274, SRR15053316, SRR15053340, SRR15155038, SRR15155067, SRR15155171, SRR15155396, SRR15155485, SRR15228525, SRR15228580, SRR15228694, SRR15229136, SRR15229489, SRR15229581, SRR15229583, SRR15229690, SRR15229713, SRR15229792, SRR15229815, SRR15229816, SRR15229832, SRR15229843, SRR15229877, SRR15230009, SRR15266032, SRR15266034, SRR15266043, SRR15266134, SRR15266184, SRR15266296, SRR15266460, SRR15266512, SRR15266637, SRR15266765, SRR15266893, SRR15267406, SRR15267481, SRR15267775\n",
      "2022-07-19 18:18:32,143 [MainThread] [WARNING] [q2_fondue.entrezpy_clients._esearch]: Some of the IDs are invalid or ambiguous:\n",
      " Invalid IDs: SRR14873450, SRR14873463, SRR14873470, SRR14873501, SRR14873511, SRR14880543, SRR14880550, SRR14893204, SRR14893221, SRR14893268, SRR14899907, SRR14900195, SRR14900300, SRR15022823, SRR15022868, SRR15022948, SRR15022995, SRR15023135, SRR15023166, SRR15023196, SRR15023230, SRR15023284, SRR15023308, SRR15023314, SRR15025638, SRR15052559, SRR15052980, SRR15053189, SRR15053209, SRR15053221, SRR15053274, SRR15053316, SRR15053340, SRR15155038, SRR15155067, SRR15155171, SRR15155396, SRR15155485, SRR15228525, SRR15228580, SRR15228694, SRR15229136, SRR15229489, SRR15229581, SRR15229583, SRR15229690, SRR15229713, SRR15229792, SRR15229815, SRR15229816, SRR15229832, SRR15229843, SRR15229877, SRR15230009, SRR15266032, SRR15266034, SRR15266043, SRR15266134, SRR15266184, SRR15266296, SRR15266460, SRR15266512, SRR15266637, SRR15266765, SRR15266893, SRR15267406, SRR15267481, SRR15267775\n",
      "2022-07-19 18:18:32,143 [MainThread] [WARNING] [q2_fondue.entrezpy_clients._esearch]: Some of the IDs are invalid or ambiguous:\n",
      " Invalid IDs: SRR14873450, SRR14873463, SRR14873470, SRR14873501, SRR14873511, SRR14880543, SRR14880550, SRR14893204, SRR14893221, SRR14893268, SRR14899907, SRR14900195, SRR14900300, SRR15022823, SRR15022868, SRR15022948, SRR15022995, SRR15023135, SRR15023166, SRR15023196, SRR15023230, SRR15023284, SRR15023308, SRR15023314, SRR15025638, SRR15052559, SRR15052980, SRR15053189, SRR15053209, SRR15053221, SRR15053274, SRR15053316, SRR15053340, SRR15155038, SRR15155067, SRR15155171, SRR15155396, SRR15155485, SRR15228525, SRR15228580, SRR15228694, SRR15229136, SRR15229489, SRR15229581, SRR15229583, SRR15229690, SRR15229713, SRR15229792, SRR15229815, SRR15229816, SRR15229832, SRR15229843, SRR15229877, SRR15230009, SRR15266032, SRR15266034, SRR15266043, SRR15266134, SRR15266184, SRR15266296, SRR15266460, SRR15266512, SRR15266637, SRR15266765, SRR15266893, SRR15267406, SRR15267481, SRR15267775\n",
      "2022-07-19 18:18:32,143 [MainThread] [WARNING] [q2_fondue.entrezpy_clients._esearch]: Some of the IDs are invalid or ambiguous:\n",
      " Invalid IDs: SRR14873450, SRR14873463, SRR14873470, SRR14873501, SRR14873511, SRR14880543, SRR14880550, SRR14893204, SRR14893221, SRR14893268, SRR14899907, SRR14900195, SRR14900300, SRR15022823, SRR15022868, SRR15022948, SRR15022995, SRR15023135, SRR15023166, SRR15023196, SRR15023230, SRR15023284, SRR15023308, SRR15023314, SRR15025638, SRR15052559, SRR15052980, SRR15053189, SRR15053209, SRR15053221, SRR15053274, SRR15053316, SRR15053340, SRR15155038, SRR15155067, SRR15155171, SRR15155396, SRR15155485, SRR15228525, SRR15228580, SRR15228694, SRR15229136, SRR15229489, SRR15229581, SRR15229583, SRR15229690, SRR15229713, SRR15229792, SRR15229815, SRR15229816, SRR15229832, SRR15229843, SRR15229877, SRR15230009, SRR15266032, SRR15266034, SRR15266043, SRR15266134, SRR15266184, SRR15266296, SRR15266460, SRR15266512, SRR15266637, SRR15266765, SRR15266893, SRR15267406, SRR15267481, SRR15267775\n",
      "2022-07-19 18:18:32,146 [MainThread] [WARNING] [q2_fondue.metadata]: The following provided IDs are invalid: SRR14873450,SRR14873463,SRR14873470,SRR14873501,SRR14873511,SRR14880543,SRR14880550,SRR14893204,SRR14893221,SRR14893268,SRR14899907,SRR14900195,SRR14900300,SRR15022823,SRR15022868,SRR15022948,SRR15022995,SRR15023135,SRR15023166,SRR15023196,SRR15023230,SRR15023284,SRR15023308,SRR15023314,SRR15025638,SRR15052559,SRR15052980,SRR15053189,SRR15053209,SRR15053221,SRR15053274,SRR15053316,SRR15053340,SRR15155038,SRR15155067,SRR15155171,SRR15155396,SRR15155485,SRR15228525,SRR15228580,SRR15228694,SRR15229136,SRR15229489,SRR15229581,SRR15229583,SRR15229690,SRR15229713,SRR15229792,SRR15229815,SRR15229816,SRR15229832,SRR15229843,SRR15229877,SRR15230009,SRR15266032,SRR15266034,SRR15266043,SRR15266134,SRR15266184,SRR15266296,SRR15266460,SRR15266512,SRR15266637,SRR15266765,SRR15266893,SRR15267406,SRR15267481,SRR15267775. Please correct them and try fetching those independently.\n",
      "2022-07-19 18:18:32,146 [MainThread] [WARNING] [q2_fondue.metadata]: The following provided IDs are invalid: SRR14873450,SRR14873463,SRR14873470,SRR14873501,SRR14873511,SRR14880543,SRR14880550,SRR14893204,SRR14893221,SRR14893268,SRR14899907,SRR14900195,SRR14900300,SRR15022823,SRR15022868,SRR15022948,SRR15022995,SRR15023135,SRR15023166,SRR15023196,SRR15023230,SRR15023284,SRR15023308,SRR15023314,SRR15025638,SRR15052559,SRR15052980,SRR15053189,SRR15053209,SRR15053221,SRR15053274,SRR15053316,SRR15053340,SRR15155038,SRR15155067,SRR15155171,SRR15155396,SRR15155485,SRR15228525,SRR15228580,SRR15228694,SRR15229136,SRR15229489,SRR15229581,SRR15229583,SRR15229690,SRR15229713,SRR15229792,SRR15229815,SRR15229816,SRR15229832,SRR15229843,SRR15229877,SRR15230009,SRR15266032,SRR15266034,SRR15266043,SRR15266134,SRR15266184,SRR15266296,SRR15266460,SRR15266512,SRR15266637,SRR15266765,SRR15266893,SRR15267406,SRR15267481,SRR15267775. Please correct them and try fetching those independently.\n",
      "2022-07-19 18:18:32,146 [MainThread] [WARNING] [q2_fondue.metadata]: The following provided IDs are invalid: SRR14873450,SRR14873463,SRR14873470,SRR14873501,SRR14873511,SRR14880543,SRR14880550,SRR14893204,SRR14893221,SRR14893268,SRR14899907,SRR14900195,SRR14900300,SRR15022823,SRR15022868,SRR15022948,SRR15022995,SRR15023135,SRR15023166,SRR15023196,SRR15023230,SRR15023284,SRR15023308,SRR15023314,SRR15025638,SRR15052559,SRR15052980,SRR15053189,SRR15053209,SRR15053221,SRR15053274,SRR15053316,SRR15053340,SRR15155038,SRR15155067,SRR15155171,SRR15155396,SRR15155485,SRR15228525,SRR15228580,SRR15228694,SRR15229136,SRR15229489,SRR15229581,SRR15229583,SRR15229690,SRR15229713,SRR15229792,SRR15229815,SRR15229816,SRR15229832,SRR15229843,SRR15229877,SRR15230009,SRR15266032,SRR15266034,SRR15266043,SRR15266134,SRR15266184,SRR15266296,SRR15266460,SRR15266512,SRR15266637,SRR15266765,SRR15266893,SRR15267406,SRR15267481,SRR15267775. Please correct them and try fetching those independently.\n",
      "2022-07-19 18:18:32,146 [MainThread] [WARNING] [q2_fondue.metadata]: The following provided IDs are invalid: SRR14873450,SRR14873463,SRR14873470,SRR14873501,SRR14873511,SRR14880543,SRR14880550,SRR14893204,SRR14893221,SRR14893268,SRR14899907,SRR14900195,SRR14900300,SRR15022823,SRR15022868,SRR15022948,SRR15022995,SRR15023135,SRR15023166,SRR15023196,SRR15023230,SRR15023284,SRR15023308,SRR15023314,SRR15025638,SRR15052559,SRR15052980,SRR15053189,SRR15053209,SRR15053221,SRR15053274,SRR15053316,SRR15053340,SRR15155038,SRR15155067,SRR15155171,SRR15155396,SRR15155485,SRR15228525,SRR15228580,SRR15228694,SRR15229136,SRR15229489,SRR15229581,SRR15229583,SRR15229690,SRR15229713,SRR15229792,SRR15229815,SRR15229816,SRR15229832,SRR15229843,SRR15229877,SRR15230009,SRR15266032,SRR15266034,SRR15266043,SRR15266134,SRR15266184,SRR15266296,SRR15266460,SRR15266512,SRR15266637,SRR15266765,SRR15266893,SRR15267406,SRR15267481,SRR15267775. Please correct them and try fetching those independently.\n",
      "-----Fetching metadata - batch 5 out of 10...-----\n",
      "2022-07-19 18:23:05,433 [MainThread] [WARNING] [q2_fondue.entrezpy_clients._esearch]: Some of the IDs are invalid or ambiguous:\n",
      " Invalid IDs: SRR14873402, SRR14873418, SRR14873559, SRR14880518, SRR14880555, SRR14893187, SRR14894076, SRR14900000, SRR14900065, SRR14900073, SRR14900099, SRR14900201, SRR14900260, SRR15023216, SRR15023282, SRR15023307, SRR15023528, SRR15023536, SRR15023538, SRR15025614, SRR15025644, SRR15025785, SRR15025830, SRR15025876, SRR15025960, SRR15052518, SRR15052722, SRR15052724, SRR15052760, SRR15052821, SRR15053166, SRR15053198, SRR15053474, SRR15155056, SRR15155283, SRR15155433, SRR15155452, SRR15155535, SRR15155583, SRR15155591, SRR15155599, SRR15155662, SRR15155744, SRR15155747, SRR15155819, SRR15177622, SRR15177702, SRR15228669, SRR15228735, SRR15228742, SRR15229086, SRR15229229, SRR15229481, SRR15229875, SRR15229927, SRR15229961, SRR15230007, SRR15266016, SRR15266078, SRR15266208, SRR15266355, SRR15266437, SRR15266529, SRR15266595, SRR15266787, SRR15266907, SRR15267469, SRR15267652, SRR15267665, SRR15267760, SRR15267767, SRR15267812, SRR16356514\n",
      "2022-07-19 18:23:05,433 [MainThread] [WARNING] [q2_fondue.entrezpy_clients._esearch]: Some of the IDs are invalid or ambiguous:\n",
      " Invalid IDs: SRR14873402, SRR14873418, SRR14873559, SRR14880518, SRR14880555, SRR14893187, SRR14894076, SRR14900000, SRR14900065, SRR14900073, SRR14900099, SRR14900201, SRR14900260, SRR15023216, SRR15023282, SRR15023307, SRR15023528, SRR15023536, SRR15023538, SRR15025614, SRR15025644, SRR15025785, SRR15025830, SRR15025876, SRR15025960, SRR15052518, SRR15052722, SRR15052724, SRR15052760, SRR15052821, SRR15053166, SRR15053198, SRR15053474, SRR15155056, SRR15155283, SRR15155433, SRR15155452, SRR15155535, SRR15155583, SRR15155591, SRR15155599, SRR15155662, SRR15155744, SRR15155747, SRR15155819, SRR15177622, SRR15177702, SRR15228669, SRR15228735, SRR15228742, SRR15229086, SRR15229229, SRR15229481, SRR15229875, SRR15229927, SRR15229961, SRR15230007, SRR15266016, SRR15266078, SRR15266208, SRR15266355, SRR15266437, SRR15266529, SRR15266595, SRR15266787, SRR15266907, SRR15267469, SRR15267652, SRR15267665, SRR15267760, SRR15267767, SRR15267812, SRR16356514\n",
      "2022-07-19 18:23:05,433 [MainThread] [WARNING] [q2_fondue.entrezpy_clients._esearch]: Some of the IDs are invalid or ambiguous:\n",
      " Invalid IDs: SRR14873402, SRR14873418, SRR14873559, SRR14880518, SRR14880555, SRR14893187, SRR14894076, SRR14900000, SRR14900065, SRR14900073, SRR14900099, SRR14900201, SRR14900260, SRR15023216, SRR15023282, SRR15023307, SRR15023528, SRR15023536, SRR15023538, SRR15025614, SRR15025644, SRR15025785, SRR15025830, SRR15025876, SRR15025960, SRR15052518, SRR15052722, SRR15052724, SRR15052760, SRR15052821, SRR15053166, SRR15053198, SRR15053474, SRR15155056, SRR15155283, SRR15155433, SRR15155452, SRR15155535, SRR15155583, SRR15155591, SRR15155599, SRR15155662, SRR15155744, SRR15155747, SRR15155819, SRR15177622, SRR15177702, SRR15228669, SRR15228735, SRR15228742, SRR15229086, SRR15229229, SRR15229481, SRR15229875, SRR15229927, SRR15229961, SRR15230007, SRR15266016, SRR15266078, SRR15266208, SRR15266355, SRR15266437, SRR15266529, SRR15266595, SRR15266787, SRR15266907, SRR15267469, SRR15267652, SRR15267665, SRR15267760, SRR15267767, SRR15267812, SRR16356514\n",
      "2022-07-19 18:23:05,433 [MainThread] [WARNING] [q2_fondue.entrezpy_clients._esearch]: Some of the IDs are invalid or ambiguous:\n",
      " Invalid IDs: SRR14873402, SRR14873418, SRR14873559, SRR14880518, SRR14880555, SRR14893187, SRR14894076, SRR14900000, SRR14900065, SRR14900073, SRR14900099, SRR14900201, SRR14900260, SRR15023216, SRR15023282, SRR15023307, SRR15023528, SRR15023536, SRR15023538, SRR15025614, SRR15025644, SRR15025785, SRR15025830, SRR15025876, SRR15025960, SRR15052518, SRR15052722, SRR15052724, SRR15052760, SRR15052821, SRR15053166, SRR15053198, SRR15053474, SRR15155056, SRR15155283, SRR15155433, SRR15155452, SRR15155535, SRR15155583, SRR15155591, SRR15155599, SRR15155662, SRR15155744, SRR15155747, SRR15155819, SRR15177622, SRR15177702, SRR15228669, SRR15228735, SRR15228742, SRR15229086, SRR15229229, SRR15229481, SRR15229875, SRR15229927, SRR15229961, SRR15230007, SRR15266016, SRR15266078, SRR15266208, SRR15266355, SRR15266437, SRR15266529, SRR15266595, SRR15266787, SRR15266907, SRR15267469, SRR15267652, SRR15267665, SRR15267760, SRR15267767, SRR15267812, SRR16356514\n",
      "2022-07-19 18:23:05,433 [MainThread] [WARNING] [q2_fondue.entrezpy_clients._esearch]: Some of the IDs are invalid or ambiguous:\n",
      " Invalid IDs: SRR14873402, SRR14873418, SRR14873559, SRR14880518, SRR14880555, SRR14893187, SRR14894076, SRR14900000, SRR14900065, SRR14900073, SRR14900099, SRR14900201, SRR14900260, SRR15023216, SRR15023282, SRR15023307, SRR15023528, SRR15023536, SRR15023538, SRR15025614, SRR15025644, SRR15025785, SRR15025830, SRR15025876, SRR15025960, SRR15052518, SRR15052722, SRR15052724, SRR15052760, SRR15052821, SRR15053166, SRR15053198, SRR15053474, SRR15155056, SRR15155283, SRR15155433, SRR15155452, SRR15155535, SRR15155583, SRR15155591, SRR15155599, SRR15155662, SRR15155744, SRR15155747, SRR15155819, SRR15177622, SRR15177702, SRR15228669, SRR15228735, SRR15228742, SRR15229086, SRR15229229, SRR15229481, SRR15229875, SRR15229927, SRR15229961, SRR15230007, SRR15266016, SRR15266078, SRR15266208, SRR15266355, SRR15266437, SRR15266529, SRR15266595, SRR15266787, SRR15266907, SRR15267469, SRR15267652, SRR15267665, SRR15267760, SRR15267767, SRR15267812, SRR16356514\n",
      "2022-07-19 18:23:05,437 [MainThread] [WARNING] [q2_fondue.metadata]: The following provided IDs are invalid: SRR14873402,SRR14873418,SRR14873559,SRR14880518,SRR14880555,SRR14893187,SRR14894076,SRR14900000,SRR14900065,SRR14900073,SRR14900099,SRR14900201,SRR14900260,SRR15023216,SRR15023282,SRR15023307,SRR15023528,SRR15023536,SRR15023538,SRR15025614,SRR15025644,SRR15025785,SRR15025830,SRR15025876,SRR15025960,SRR15052518,SRR15052722,SRR15052724,SRR15052760,SRR15052821,SRR15053166,SRR15053198,SRR15053474,SRR15155056,SRR15155283,SRR15155433,SRR15155452,SRR15155535,SRR15155583,SRR15155591,SRR15155599,SRR15155662,SRR15155744,SRR15155747,SRR15155819,SRR15177622,SRR15177702,SRR15228669,SRR15228735,SRR15228742,SRR15229086,SRR15229229,SRR15229481,SRR15229875,SRR15229927,SRR15229961,SRR15230007,SRR15266016,SRR15266078,SRR15266208,SRR15266355,SRR15266437,SRR15266529,SRR15266595,SRR15266787,SRR15266907,SRR15267469,SRR15267652,SRR15267665,SRR15267760,SRR15267767,SRR15267812,SRR16356514. Please correct them and try fetching those independently.\n",
      "2022-07-19 18:23:05,437 [MainThread] [WARNING] [q2_fondue.metadata]: The following provided IDs are invalid: SRR14873402,SRR14873418,SRR14873559,SRR14880518,SRR14880555,SRR14893187,SRR14894076,SRR14900000,SRR14900065,SRR14900073,SRR14900099,SRR14900201,SRR14900260,SRR15023216,SRR15023282,SRR15023307,SRR15023528,SRR15023536,SRR15023538,SRR15025614,SRR15025644,SRR15025785,SRR15025830,SRR15025876,SRR15025960,SRR15052518,SRR15052722,SRR15052724,SRR15052760,SRR15052821,SRR15053166,SRR15053198,SRR15053474,SRR15155056,SRR15155283,SRR15155433,SRR15155452,SRR15155535,SRR15155583,SRR15155591,SRR15155599,SRR15155662,SRR15155744,SRR15155747,SRR15155819,SRR15177622,SRR15177702,SRR15228669,SRR15228735,SRR15228742,SRR15229086,SRR15229229,SRR15229481,SRR15229875,SRR15229927,SRR15229961,SRR15230007,SRR15266016,SRR15266078,SRR15266208,SRR15266355,SRR15266437,SRR15266529,SRR15266595,SRR15266787,SRR15266907,SRR15267469,SRR15267652,SRR15267665,SRR15267760,SRR15267767,SRR15267812,SRR16356514. Please correct them and try fetching those independently.\n",
      "2022-07-19 18:23:05,437 [MainThread] [WARNING] [q2_fondue.metadata]: The following provided IDs are invalid: SRR14873402,SRR14873418,SRR14873559,SRR14880518,SRR14880555,SRR14893187,SRR14894076,SRR14900000,SRR14900065,SRR14900073,SRR14900099,SRR14900201,SRR14900260,SRR15023216,SRR15023282,SRR15023307,SRR15023528,SRR15023536,SRR15023538,SRR15025614,SRR15025644,SRR15025785,SRR15025830,SRR15025876,SRR15025960,SRR15052518,SRR15052722,SRR15052724,SRR15052760,SRR15052821,SRR15053166,SRR15053198,SRR15053474,SRR15155056,SRR15155283,SRR15155433,SRR15155452,SRR15155535,SRR15155583,SRR15155591,SRR15155599,SRR15155662,SRR15155744,SRR15155747,SRR15155819,SRR15177622,SRR15177702,SRR15228669,SRR15228735,SRR15228742,SRR15229086,SRR15229229,SRR15229481,SRR15229875,SRR15229927,SRR15229961,SRR15230007,SRR15266016,SRR15266078,SRR15266208,SRR15266355,SRR15266437,SRR15266529,SRR15266595,SRR15266787,SRR15266907,SRR15267469,SRR15267652,SRR15267665,SRR15267760,SRR15267767,SRR15267812,SRR16356514. Please correct them and try fetching those independently.\n",
      "2022-07-19 18:23:05,437 [MainThread] [WARNING] [q2_fondue.metadata]: The following provided IDs are invalid: SRR14873402,SRR14873418,SRR14873559,SRR14880518,SRR14880555,SRR14893187,SRR14894076,SRR14900000,SRR14900065,SRR14900073,SRR14900099,SRR14900201,SRR14900260,SRR15023216,SRR15023282,SRR15023307,SRR15023528,SRR15023536,SRR15023538,SRR15025614,SRR15025644,SRR15025785,SRR15025830,SRR15025876,SRR15025960,SRR15052518,SRR15052722,SRR15052724,SRR15052760,SRR15052821,SRR15053166,SRR15053198,SRR15053474,SRR15155056,SRR15155283,SRR15155433,SRR15155452,SRR15155535,SRR15155583,SRR15155591,SRR15155599,SRR15155662,SRR15155744,SRR15155747,SRR15155819,SRR15177622,SRR15177702,SRR15228669,SRR15228735,SRR15228742,SRR15229086,SRR15229229,SRR15229481,SRR15229875,SRR15229927,SRR15229961,SRR15230007,SRR15266016,SRR15266078,SRR15266208,SRR15266355,SRR15266437,SRR15266529,SRR15266595,SRR15266787,SRR15266907,SRR15267469,SRR15267652,SRR15267665,SRR15267760,SRR15267767,SRR15267812,SRR16356514. Please correct them and try fetching those independently.\n",
      "2022-07-19 18:23:05,437 [MainThread] [WARNING] [q2_fondue.metadata]: The following provided IDs are invalid: SRR14873402,SRR14873418,SRR14873559,SRR14880518,SRR14880555,SRR14893187,SRR14894076,SRR14900000,SRR14900065,SRR14900073,SRR14900099,SRR14900201,SRR14900260,SRR15023216,SRR15023282,SRR15023307,SRR15023528,SRR15023536,SRR15023538,SRR15025614,SRR15025644,SRR15025785,SRR15025830,SRR15025876,SRR15025960,SRR15052518,SRR15052722,SRR15052724,SRR15052760,SRR15052821,SRR15053166,SRR15053198,SRR15053474,SRR15155056,SRR15155283,SRR15155433,SRR15155452,SRR15155535,SRR15155583,SRR15155591,SRR15155599,SRR15155662,SRR15155744,SRR15155747,SRR15155819,SRR15177622,SRR15177702,SRR15228669,SRR15228735,SRR15228742,SRR15229086,SRR15229229,SRR15229481,SRR15229875,SRR15229927,SRR15229961,SRR15230007,SRR15266016,SRR15266078,SRR15266208,SRR15266355,SRR15266437,SRR15266529,SRR15266595,SRR15266787,SRR15266907,SRR15267469,SRR15267652,SRR15267665,SRR15267760,SRR15267767,SRR15267812,SRR16356514. Please correct them and try fetching those independently.\n",
      "-----Fetching metadata - batch 6 out of 10...-----\n",
      "2022-07-19 18:27:27,470 [MainThread] [WARNING] [q2_fondue.entrezpy_clients._esearch]: Some of the IDs are invalid or ambiguous:\n",
      " Invalid IDs: SRR14873462, SRR14873513, SRR14880526, SRR14893142, SRR14893251, SRR14893274, SRR14894074, SRR14900191, SRR15022946, SRR15025597, SRR15025658, SRR15025660, SRR15025691, SRR15025848, SRR15025968, SRR15052520, SRR15052624, SRR15052666, SRR15052799, SRR15052809, SRR15052933, SRR15053035, SRR15053404, SRR15053518, SRR15155372, SRR15155431, SRR15155555, SRR15155584, SRR15155587, SRR15155606, SRR15155691, SRR15155777, SRR15155830, SRR15155883, SRR15177651, SRR15177680, SRR15177771, SRR15177818, SRR15228401, SRR15228615, SRR15228718, SRR15228719, SRR15229088, SRR15229177, SRR15229189, SRR15229212, SRR15229220, SRR15229238, SRR15229432, SRR15229471, SRR15229734, SRR15229848, SRR15266067, SRR15266153, SRR15266267, SRR15266304, SRR15266363, SRR15266424, SRR15266458, SRR15266679, SRR15266700, SRR15266853, SRR15266906, SRR15266987, SRR15266992, SRR15267060, SRR15267072, SRR15267086, SRR15267098, SRR15267699, SRR15267803\n",
      "2022-07-19 18:27:27,470 [MainThread] [WARNING] [q2_fondue.entrezpy_clients._esearch]: Some of the IDs are invalid or ambiguous:\n",
      " Invalid IDs: SRR14873462, SRR14873513, SRR14880526, SRR14893142, SRR14893251, SRR14893274, SRR14894074, SRR14900191, SRR15022946, SRR15025597, SRR15025658, SRR15025660, SRR15025691, SRR15025848, SRR15025968, SRR15052520, SRR15052624, SRR15052666, SRR15052799, SRR15052809, SRR15052933, SRR15053035, SRR15053404, SRR15053518, SRR15155372, SRR15155431, SRR15155555, SRR15155584, SRR15155587, SRR15155606, SRR15155691, SRR15155777, SRR15155830, SRR15155883, SRR15177651, SRR15177680, SRR15177771, SRR15177818, SRR15228401, SRR15228615, SRR15228718, SRR15228719, SRR15229088, SRR15229177, SRR15229189, SRR15229212, SRR15229220, SRR15229238, SRR15229432, SRR15229471, SRR15229734, SRR15229848, SRR15266067, SRR15266153, SRR15266267, SRR15266304, SRR15266363, SRR15266424, SRR15266458, SRR15266679, SRR15266700, SRR15266853, SRR15266906, SRR15266987, SRR15266992, SRR15267060, SRR15267072, SRR15267086, SRR15267098, SRR15267699, SRR15267803\n",
      "2022-07-19 18:27:27,470 [MainThread] [WARNING] [q2_fondue.entrezpy_clients._esearch]: Some of the IDs are invalid or ambiguous:\n",
      " Invalid IDs: SRR14873462, SRR14873513, SRR14880526, SRR14893142, SRR14893251, SRR14893274, SRR14894074, SRR14900191, SRR15022946, SRR15025597, SRR15025658, SRR15025660, SRR15025691, SRR15025848, SRR15025968, SRR15052520, SRR15052624, SRR15052666, SRR15052799, SRR15052809, SRR15052933, SRR15053035, SRR15053404, SRR15053518, SRR15155372, SRR15155431, SRR15155555, SRR15155584, SRR15155587, SRR15155606, SRR15155691, SRR15155777, SRR15155830, SRR15155883, SRR15177651, SRR15177680, SRR15177771, SRR15177818, SRR15228401, SRR15228615, SRR15228718, SRR15228719, SRR15229088, SRR15229177, SRR15229189, SRR15229212, SRR15229220, SRR15229238, SRR15229432, SRR15229471, SRR15229734, SRR15229848, SRR15266067, SRR15266153, SRR15266267, SRR15266304, SRR15266363, SRR15266424, SRR15266458, SRR15266679, SRR15266700, SRR15266853, SRR15266906, SRR15266987, SRR15266992, SRR15267060, SRR15267072, SRR15267086, SRR15267098, SRR15267699, SRR15267803\n",
      "2022-07-19 18:27:27,470 [MainThread] [WARNING] [q2_fondue.entrezpy_clients._esearch]: Some of the IDs are invalid or ambiguous:\n",
      " Invalid IDs: SRR14873462, SRR14873513, SRR14880526, SRR14893142, SRR14893251, SRR14893274, SRR14894074, SRR14900191, SRR15022946, SRR15025597, SRR15025658, SRR15025660, SRR15025691, SRR15025848, SRR15025968, SRR15052520, SRR15052624, SRR15052666, SRR15052799, SRR15052809, SRR15052933, SRR15053035, SRR15053404, SRR15053518, SRR15155372, SRR15155431, SRR15155555, SRR15155584, SRR15155587, SRR15155606, SRR15155691, SRR15155777, SRR15155830, SRR15155883, SRR15177651, SRR15177680, SRR15177771, SRR15177818, SRR15228401, SRR15228615, SRR15228718, SRR15228719, SRR15229088, SRR15229177, SRR15229189, SRR15229212, SRR15229220, SRR15229238, SRR15229432, SRR15229471, SRR15229734, SRR15229848, SRR15266067, SRR15266153, SRR15266267, SRR15266304, SRR15266363, SRR15266424, SRR15266458, SRR15266679, SRR15266700, SRR15266853, SRR15266906, SRR15266987, SRR15266992, SRR15267060, SRR15267072, SRR15267086, SRR15267098, SRR15267699, SRR15267803\n",
      "2022-07-19 18:27:27,470 [MainThread] [WARNING] [q2_fondue.entrezpy_clients._esearch]: Some of the IDs are invalid or ambiguous:\n",
      " Invalid IDs: SRR14873462, SRR14873513, SRR14880526, SRR14893142, SRR14893251, SRR14893274, SRR14894074, SRR14900191, SRR15022946, SRR15025597, SRR15025658, SRR15025660, SRR15025691, SRR15025848, SRR15025968, SRR15052520, SRR15052624, SRR15052666, SRR15052799, SRR15052809, SRR15052933, SRR15053035, SRR15053404, SRR15053518, SRR15155372, SRR15155431, SRR15155555, SRR15155584, SRR15155587, SRR15155606, SRR15155691, SRR15155777, SRR15155830, SRR15155883, SRR15177651, SRR15177680, SRR15177771, SRR15177818, SRR15228401, SRR15228615, SRR15228718, SRR15228719, SRR15229088, SRR15229177, SRR15229189, SRR15229212, SRR15229220, SRR15229238, SRR15229432, SRR15229471, SRR15229734, SRR15229848, SRR15266067, SRR15266153, SRR15266267, SRR15266304, SRR15266363, SRR15266424, SRR15266458, SRR15266679, SRR15266700, SRR15266853, SRR15266906, SRR15266987, SRR15266992, SRR15267060, SRR15267072, SRR15267086, SRR15267098, SRR15267699, SRR15267803\n",
      "2022-07-19 18:27:27,470 [MainThread] [WARNING] [q2_fondue.entrezpy_clients._esearch]: Some of the IDs are invalid or ambiguous:\n",
      " Invalid IDs: SRR14873462, SRR14873513, SRR14880526, SRR14893142, SRR14893251, SRR14893274, SRR14894074, SRR14900191, SRR15022946, SRR15025597, SRR15025658, SRR15025660, SRR15025691, SRR15025848, SRR15025968, SRR15052520, SRR15052624, SRR15052666, SRR15052799, SRR15052809, SRR15052933, SRR15053035, SRR15053404, SRR15053518, SRR15155372, SRR15155431, SRR15155555, SRR15155584, SRR15155587, SRR15155606, SRR15155691, SRR15155777, SRR15155830, SRR15155883, SRR15177651, SRR15177680, SRR15177771, SRR15177818, SRR15228401, SRR15228615, SRR15228718, SRR15228719, SRR15229088, SRR15229177, SRR15229189, SRR15229212, SRR15229220, SRR15229238, SRR15229432, SRR15229471, SRR15229734, SRR15229848, SRR15266067, SRR15266153, SRR15266267, SRR15266304, SRR15266363, SRR15266424, SRR15266458, SRR15266679, SRR15266700, SRR15266853, SRR15266906, SRR15266987, SRR15266992, SRR15267060, SRR15267072, SRR15267086, SRR15267098, SRR15267699, SRR15267803\n",
      "2022-07-19 18:27:27,472 [MainThread] [WARNING] [q2_fondue.metadata]: The following provided IDs are invalid: SRR14873462,SRR14873513,SRR14880526,SRR14893142,SRR14893251,SRR14893274,SRR14894074,SRR14900191,SRR15022946,SRR15025597,SRR15025658,SRR15025660,SRR15025691,SRR15025848,SRR15025968,SRR15052520,SRR15052624,SRR15052666,SRR15052799,SRR15052809,SRR15052933,SRR15053035,SRR15053404,SRR15053518,SRR15155372,SRR15155431,SRR15155555,SRR15155584,SRR15155587,SRR15155606,SRR15155691,SRR15155777,SRR15155830,SRR15155883,SRR15177651,SRR15177680,SRR15177771,SRR15177818,SRR15228401,SRR15228615,SRR15228718,SRR15228719,SRR15229088,SRR15229177,SRR15229189,SRR15229212,SRR15229220,SRR15229238,SRR15229432,SRR15229471,SRR15229734,SRR15229848,SRR15266067,SRR15266153,SRR15266267,SRR15266304,SRR15266363,SRR15266424,SRR15266458,SRR15266679,SRR15266700,SRR15266853,SRR15266906,SRR15266987,SRR15266992,SRR15267060,SRR15267072,SRR15267086,SRR15267098,SRR15267699,SRR15267803. Please correct them and try fetching those independently.\n",
      "2022-07-19 18:27:27,472 [MainThread] [WARNING] [q2_fondue.metadata]: The following provided IDs are invalid: SRR14873462,SRR14873513,SRR14880526,SRR14893142,SRR14893251,SRR14893274,SRR14894074,SRR14900191,SRR15022946,SRR15025597,SRR15025658,SRR15025660,SRR15025691,SRR15025848,SRR15025968,SRR15052520,SRR15052624,SRR15052666,SRR15052799,SRR15052809,SRR15052933,SRR15053035,SRR15053404,SRR15053518,SRR15155372,SRR15155431,SRR15155555,SRR15155584,SRR15155587,SRR15155606,SRR15155691,SRR15155777,SRR15155830,SRR15155883,SRR15177651,SRR15177680,SRR15177771,SRR15177818,SRR15228401,SRR15228615,SRR15228718,SRR15228719,SRR15229088,SRR15229177,SRR15229189,SRR15229212,SRR15229220,SRR15229238,SRR15229432,SRR15229471,SRR15229734,SRR15229848,SRR15266067,SRR15266153,SRR15266267,SRR15266304,SRR15266363,SRR15266424,SRR15266458,SRR15266679,SRR15266700,SRR15266853,SRR15266906,SRR15266987,SRR15266992,SRR15267060,SRR15267072,SRR15267086,SRR15267098,SRR15267699,SRR15267803. Please correct them and try fetching those independently.\n",
      "2022-07-19 18:27:27,472 [MainThread] [WARNING] [q2_fondue.metadata]: The following provided IDs are invalid: SRR14873462,SRR14873513,SRR14880526,SRR14893142,SRR14893251,SRR14893274,SRR14894074,SRR14900191,SRR15022946,SRR15025597,SRR15025658,SRR15025660,SRR15025691,SRR15025848,SRR15025968,SRR15052520,SRR15052624,SRR15052666,SRR15052799,SRR15052809,SRR15052933,SRR15053035,SRR15053404,SRR15053518,SRR15155372,SRR15155431,SRR15155555,SRR15155584,SRR15155587,SRR15155606,SRR15155691,SRR15155777,SRR15155830,SRR15155883,SRR15177651,SRR15177680,SRR15177771,SRR15177818,SRR15228401,SRR15228615,SRR15228718,SRR15228719,SRR15229088,SRR15229177,SRR15229189,SRR15229212,SRR15229220,SRR15229238,SRR15229432,SRR15229471,SRR15229734,SRR15229848,SRR15266067,SRR15266153,SRR15266267,SRR15266304,SRR15266363,SRR15266424,SRR15266458,SRR15266679,SRR15266700,SRR15266853,SRR15266906,SRR15266987,SRR15266992,SRR15267060,SRR15267072,SRR15267086,SRR15267098,SRR15267699,SRR15267803. Please correct them and try fetching those independently.\n",
      "2022-07-19 18:27:27,472 [MainThread] [WARNING] [q2_fondue.metadata]: The following provided IDs are invalid: SRR14873462,SRR14873513,SRR14880526,SRR14893142,SRR14893251,SRR14893274,SRR14894074,SRR14900191,SRR15022946,SRR15025597,SRR15025658,SRR15025660,SRR15025691,SRR15025848,SRR15025968,SRR15052520,SRR15052624,SRR15052666,SRR15052799,SRR15052809,SRR15052933,SRR15053035,SRR15053404,SRR15053518,SRR15155372,SRR15155431,SRR15155555,SRR15155584,SRR15155587,SRR15155606,SRR15155691,SRR15155777,SRR15155830,SRR15155883,SRR15177651,SRR15177680,SRR15177771,SRR15177818,SRR15228401,SRR15228615,SRR15228718,SRR15228719,SRR15229088,SRR15229177,SRR15229189,SRR15229212,SRR15229220,SRR15229238,SRR15229432,SRR15229471,SRR15229734,SRR15229848,SRR15266067,SRR15266153,SRR15266267,SRR15266304,SRR15266363,SRR15266424,SRR15266458,SRR15266679,SRR15266700,SRR15266853,SRR15266906,SRR15266987,SRR15266992,SRR15267060,SRR15267072,SRR15267086,SRR15267098,SRR15267699,SRR15267803. Please correct them and try fetching those independently.\n",
      "2022-07-19 18:27:27,472 [MainThread] [WARNING] [q2_fondue.metadata]: The following provided IDs are invalid: SRR14873462,SRR14873513,SRR14880526,SRR14893142,SRR14893251,SRR14893274,SRR14894074,SRR14900191,SRR15022946,SRR15025597,SRR15025658,SRR15025660,SRR15025691,SRR15025848,SRR15025968,SRR15052520,SRR15052624,SRR15052666,SRR15052799,SRR15052809,SRR15052933,SRR15053035,SRR15053404,SRR15053518,SRR15155372,SRR15155431,SRR15155555,SRR15155584,SRR15155587,SRR15155606,SRR15155691,SRR15155777,SRR15155830,SRR15155883,SRR15177651,SRR15177680,SRR15177771,SRR15177818,SRR15228401,SRR15228615,SRR15228718,SRR15228719,SRR15229088,SRR15229177,SRR15229189,SRR15229212,SRR15229220,SRR15229238,SRR15229432,SRR15229471,SRR15229734,SRR15229848,SRR15266067,SRR15266153,SRR15266267,SRR15266304,SRR15266363,SRR15266424,SRR15266458,SRR15266679,SRR15266700,SRR15266853,SRR15266906,SRR15266987,SRR15266992,SRR15267060,SRR15267072,SRR15267086,SRR15267098,SRR15267699,SRR15267803. Please correct them and try fetching those independently.\n",
      "2022-07-19 18:27:27,472 [MainThread] [WARNING] [q2_fondue.metadata]: The following provided IDs are invalid: SRR14873462,SRR14873513,SRR14880526,SRR14893142,SRR14893251,SRR14893274,SRR14894074,SRR14900191,SRR15022946,SRR15025597,SRR15025658,SRR15025660,SRR15025691,SRR15025848,SRR15025968,SRR15052520,SRR15052624,SRR15052666,SRR15052799,SRR15052809,SRR15052933,SRR15053035,SRR15053404,SRR15053518,SRR15155372,SRR15155431,SRR15155555,SRR15155584,SRR15155587,SRR15155606,SRR15155691,SRR15155777,SRR15155830,SRR15155883,SRR15177651,SRR15177680,SRR15177771,SRR15177818,SRR15228401,SRR15228615,SRR15228718,SRR15228719,SRR15229088,SRR15229177,SRR15229189,SRR15229212,SRR15229220,SRR15229238,SRR15229432,SRR15229471,SRR15229734,SRR15229848,SRR15266067,SRR15266153,SRR15266267,SRR15266304,SRR15266363,SRR15266424,SRR15266458,SRR15266679,SRR15266700,SRR15266853,SRR15266906,SRR15266987,SRR15266992,SRR15267060,SRR15267072,SRR15267086,SRR15267098,SRR15267699,SRR15267803. Please correct them and try fetching those independently.\n",
      "-----Fetching metadata - batch 7 out of 10...-----\n",
      "2022-07-19 18:31:54,622 [MainThread] [WARNING] [q2_fondue.entrezpy_clients._esearch]: Some of the IDs are invalid or ambiguous:\n",
      " Invalid IDs: SRR14880565, SRR14893210, SRR14894150, SRR15022922, SRR15023252, SRR15023405, SRR15025699, SRR15025709, SRR15025850, SRR15052593, SRR15052714, SRR15052882, SRR15053356, SRR15155113, SRR15155490, SRR15177735, SRR15177763, SRR15228746, SRR15229209, SRR15229431, SRR15266273, SRR15266639, SRR15266662, SRR15267020, SRR15267815, SRR16356558\n",
      "2022-07-19 18:31:54,622 [MainThread] [WARNING] [q2_fondue.entrezpy_clients._esearch]: Some of the IDs are invalid or ambiguous:\n",
      " Invalid IDs: SRR14880565, SRR14893210, SRR14894150, SRR15022922, SRR15023252, SRR15023405, SRR15025699, SRR15025709, SRR15025850, SRR15052593, SRR15052714, SRR15052882, SRR15053356, SRR15155113, SRR15155490, SRR15177735, SRR15177763, SRR15228746, SRR15229209, SRR15229431, SRR15266273, SRR15266639, SRR15266662, SRR15267020, SRR15267815, SRR16356558\n",
      "2022-07-19 18:31:54,622 [MainThread] [WARNING] [q2_fondue.entrezpy_clients._esearch]: Some of the IDs are invalid or ambiguous:\n",
      " Invalid IDs: SRR14880565, SRR14893210, SRR14894150, SRR15022922, SRR15023252, SRR15023405, SRR15025699, SRR15025709, SRR15025850, SRR15052593, SRR15052714, SRR15052882, SRR15053356, SRR15155113, SRR15155490, SRR15177735, SRR15177763, SRR15228746, SRR15229209, SRR15229431, SRR15266273, SRR15266639, SRR15266662, SRR15267020, SRR15267815, SRR16356558\n",
      "2022-07-19 18:31:54,622 [MainThread] [WARNING] [q2_fondue.entrezpy_clients._esearch]: Some of the IDs are invalid or ambiguous:\n",
      " Invalid IDs: SRR14880565, SRR14893210, SRR14894150, SRR15022922, SRR15023252, SRR15023405, SRR15025699, SRR15025709, SRR15025850, SRR15052593, SRR15052714, SRR15052882, SRR15053356, SRR15155113, SRR15155490, SRR15177735, SRR15177763, SRR15228746, SRR15229209, SRR15229431, SRR15266273, SRR15266639, SRR15266662, SRR15267020, SRR15267815, SRR16356558\n",
      "2022-07-19 18:31:54,622 [MainThread] [WARNING] [q2_fondue.entrezpy_clients._esearch]: Some of the IDs are invalid or ambiguous:\n",
      " Invalid IDs: SRR14880565, SRR14893210, SRR14894150, SRR15022922, SRR15023252, SRR15023405, SRR15025699, SRR15025709, SRR15025850, SRR15052593, SRR15052714, SRR15052882, SRR15053356, SRR15155113, SRR15155490, SRR15177735, SRR15177763, SRR15228746, SRR15229209, SRR15229431, SRR15266273, SRR15266639, SRR15266662, SRR15267020, SRR15267815, SRR16356558\n",
      "2022-07-19 18:31:54,622 [MainThread] [WARNING] [q2_fondue.entrezpy_clients._esearch]: Some of the IDs are invalid or ambiguous:\n",
      " Invalid IDs: SRR14880565, SRR14893210, SRR14894150, SRR15022922, SRR15023252, SRR15023405, SRR15025699, SRR15025709, SRR15025850, SRR15052593, SRR15052714, SRR15052882, SRR15053356, SRR15155113, SRR15155490, SRR15177735, SRR15177763, SRR15228746, SRR15229209, SRR15229431, SRR15266273, SRR15266639, SRR15266662, SRR15267020, SRR15267815, SRR16356558\n",
      "2022-07-19 18:31:54,622 [MainThread] [WARNING] [q2_fondue.entrezpy_clients._esearch]: Some of the IDs are invalid or ambiguous:\n",
      " Invalid IDs: SRR14880565, SRR14893210, SRR14894150, SRR15022922, SRR15023252, SRR15023405, SRR15025699, SRR15025709, SRR15025850, SRR15052593, SRR15052714, SRR15052882, SRR15053356, SRR15155113, SRR15155490, SRR15177735, SRR15177763, SRR15228746, SRR15229209, SRR15229431, SRR15266273, SRR15266639, SRR15266662, SRR15267020, SRR15267815, SRR16356558\n",
      "2022-07-19 18:31:54,625 [MainThread] [WARNING] [q2_fondue.metadata]: The following provided IDs are invalid: SRR14880565,SRR14893210,SRR14894150,SRR15022922,SRR15023252,SRR15023405,SRR15025699,SRR15025709,SRR15025850,SRR15052593,SRR15052714,SRR15052882,SRR15053356,SRR15155113,SRR15155490,SRR15177735,SRR15177763,SRR15228746,SRR15229209,SRR15229431,SRR15266273,SRR15266639,SRR15266662,SRR15267020,SRR15267815,SRR16356558. Please correct them and try fetching those independently.\n",
      "2022-07-19 18:31:54,625 [MainThread] [WARNING] [q2_fondue.metadata]: The following provided IDs are invalid: SRR14880565,SRR14893210,SRR14894150,SRR15022922,SRR15023252,SRR15023405,SRR15025699,SRR15025709,SRR15025850,SRR15052593,SRR15052714,SRR15052882,SRR15053356,SRR15155113,SRR15155490,SRR15177735,SRR15177763,SRR15228746,SRR15229209,SRR15229431,SRR15266273,SRR15266639,SRR15266662,SRR15267020,SRR15267815,SRR16356558. Please correct them and try fetching those independently.\n",
      "2022-07-19 18:31:54,625 [MainThread] [WARNING] [q2_fondue.metadata]: The following provided IDs are invalid: SRR14880565,SRR14893210,SRR14894150,SRR15022922,SRR15023252,SRR15023405,SRR15025699,SRR15025709,SRR15025850,SRR15052593,SRR15052714,SRR15052882,SRR15053356,SRR15155113,SRR15155490,SRR15177735,SRR15177763,SRR15228746,SRR15229209,SRR15229431,SRR15266273,SRR15266639,SRR15266662,SRR15267020,SRR15267815,SRR16356558. Please correct them and try fetching those independently.\n",
      "2022-07-19 18:31:54,625 [MainThread] [WARNING] [q2_fondue.metadata]: The following provided IDs are invalid: SRR14880565,SRR14893210,SRR14894150,SRR15022922,SRR15023252,SRR15023405,SRR15025699,SRR15025709,SRR15025850,SRR15052593,SRR15052714,SRR15052882,SRR15053356,SRR15155113,SRR15155490,SRR15177735,SRR15177763,SRR15228746,SRR15229209,SRR15229431,SRR15266273,SRR15266639,SRR15266662,SRR15267020,SRR15267815,SRR16356558. Please correct them and try fetching those independently.\n",
      "2022-07-19 18:31:54,625 [MainThread] [WARNING] [q2_fondue.metadata]: The following provided IDs are invalid: SRR14880565,SRR14893210,SRR14894150,SRR15022922,SRR15023252,SRR15023405,SRR15025699,SRR15025709,SRR15025850,SRR15052593,SRR15052714,SRR15052882,SRR15053356,SRR15155113,SRR15155490,SRR15177735,SRR15177763,SRR15228746,SRR15229209,SRR15229431,SRR15266273,SRR15266639,SRR15266662,SRR15267020,SRR15267815,SRR16356558. Please correct them and try fetching those independently.\n",
      "2022-07-19 18:31:54,625 [MainThread] [WARNING] [q2_fondue.metadata]: The following provided IDs are invalid: SRR14880565,SRR14893210,SRR14894150,SRR15022922,SRR15023252,SRR15023405,SRR15025699,SRR15025709,SRR15025850,SRR15052593,SRR15052714,SRR15052882,SRR15053356,SRR15155113,SRR15155490,SRR15177735,SRR15177763,SRR15228746,SRR15229209,SRR15229431,SRR15266273,SRR15266639,SRR15266662,SRR15267020,SRR15267815,SRR16356558. Please correct them and try fetching those independently.\n",
      "2022-07-19 18:31:54,625 [MainThread] [WARNING] [q2_fondue.metadata]: The following provided IDs are invalid: SRR14880565,SRR14893210,SRR14894150,SRR15022922,SRR15023252,SRR15023405,SRR15025699,SRR15025709,SRR15025850,SRR15052593,SRR15052714,SRR15052882,SRR15053356,SRR15155113,SRR15155490,SRR15177735,SRR15177763,SRR15228746,SRR15229209,SRR15229431,SRR15266273,SRR15266639,SRR15266662,SRR15267020,SRR15267815,SRR16356558. Please correct them and try fetching those independently.\n",
      "-----Fetching metadata - batch 8 out of 10...-----\n",
      "-----Fetching metadata - batch 9 out of 10...-----\n",
      "-----Fetching metadata - batch 10 out of 10...-----\n",
      "2022-07-19 18:46:31,546 [MainThread] [INFO] [q2_fondue.metadata]: Merging 10 metadata DataFrames.\n",
      "2022-07-19 18:46:31,546 [MainThread] [INFO] [q2_fondue.metadata]: Merging 10 metadata DataFrames.\n",
      "2022-07-19 18:46:31,546 [MainThread] [INFO] [q2_fondue.metadata]: Merging 10 metadata DataFrames.\n",
      "2022-07-19 18:46:31,546 [MainThread] [INFO] [q2_fondue.metadata]: Merging 10 metadata DataFrames.\n",
      "2022-07-19 18:46:31,546 [MainThread] [INFO] [q2_fondue.metadata]: Merging 10 metadata DataFrames.\n",
      "2022-07-19 18:46:31,546 [MainThread] [INFO] [q2_fondue.metadata]: Merging 10 metadata DataFrames.\n",
      "2022-07-19 18:46:31,546 [MainThread] [INFO] [q2_fondue.metadata]: Merging 10 metadata DataFrames.\n",
      "2022-07-19 18:46:31,546 [MainThread] [INFO] [q2_fondue.metadata]: Merging 10 metadata DataFrames.\n",
      "2022-07-19 18:46:31,546 [MainThread] [INFO] [q2_fondue.metadata]: Merging 10 metadata DataFrames.\n",
      "2022-07-19 18:46:31,546 [MainThread] [INFO] [q2_fondue.metadata]: Merging 10 metadata DataFrames.\n",
      "2022-07-19 18:46:31,546 [MainThread] [INFO] [q2_fondue.metadata]: Merging 10 metadata DataFrames.\n",
      "2022-07-19 18:46:32,073 [MainThread] [INFO] [q2_fondue.metadata]: Merged metadata DataFrame has 37259 rows and 207 columns.\n",
      "2022-07-19 18:46:32,073 [MainThread] [INFO] [q2_fondue.metadata]: Merged metadata DataFrame has 37259 rows and 207 columns.\n",
      "2022-07-19 18:46:32,073 [MainThread] [INFO] [q2_fondue.metadata]: Merged metadata DataFrame has 37259 rows and 207 columns.\n",
      "2022-07-19 18:46:32,073 [MainThread] [INFO] [q2_fondue.metadata]: Merged metadata DataFrame has 37259 rows and 207 columns.\n",
      "2022-07-19 18:46:32,073 [MainThread] [INFO] [q2_fondue.metadata]: Merged metadata DataFrame has 37259 rows and 207 columns.\n",
      "2022-07-19 18:46:32,073 [MainThread] [INFO] [q2_fondue.metadata]: Merged metadata DataFrame has 37259 rows and 207 columns.\n",
      "2022-07-19 18:46:32,073 [MainThread] [INFO] [q2_fondue.metadata]: Merged metadata DataFrame has 37259 rows and 207 columns.\n",
      "2022-07-19 18:46:32,073 [MainThread] [INFO] [q2_fondue.metadata]: Merged metadata DataFrame has 37259 rows and 207 columns.\n",
      "2022-07-19 18:46:32,073 [MainThread] [INFO] [q2_fondue.metadata]: Merged metadata DataFrame has 37259 rows and 207 columns.\n",
      "2022-07-19 18:46:32,073 [MainThread] [INFO] [q2_fondue.metadata]: Merged metadata DataFrame has 37259 rows and 207 columns.\n",
      "2022-07-19 18:46:32,073 [MainThread] [INFO] [q2_fondue.metadata]: Merged metadata DataFrame has 37259 rows and 207 columns.\n"
     ]
    },
    {
     "name": "stderr",
     "output_type": "stream",
     "text": [
      "/home/michal/miniconda3/envs/fondue-pub/lib/python3.8/site-packages/qiime2/core/transform.py:143: DtypeWarning: Columns (17,18,19,21,22,23,24,25,26,27,28,29,30,31,32,33,34,35,36,37,38,39,40,41,42,43,44,45,46,48,53,54,55,56,57,60,64,65,66,67,68,69,70,71,72,73,74,76,77,78,79,80,81,82,83,84,85,86,87,88,89,90,91,92,93,94,95,96,97,98,99,100,101,102,103,104,105,106,107,108,109,110,111,112,113,114,115,117,118,119,120,121,122,123,124,125,126,128,129,130,131,132,133,134,135,136,137,138,140,141,142,143,144,145,146,147,148,149,150,152,153,154,155,156,157,158,159,160,161,162,163,164,165,166,167,168,169,170,171,173,174,175,176,177,178,179,180,183,184,185,186,188,190,191,192,194,195,196,198,199,200,201,202,204,205,206,207) have mixed types.Specify dtype option on import or set low_memory=False.\n",
      "  view.validate(level)\n",
      "/home/michal/miniconda3/envs/fondue-pub/lib/python3.8/site-packages/qiime2/core/transform.py:143: DtypeWarning: Columns (17,18,19,21,22,23,24,25,26,27,28,29,30,31,32,33,34,35,36,37,38,39,40,41,42,43,44,45,46,48,53,54,55,56,57,60,64,65,66,67,68,69,70,71,72,73,74,76,77,78,79,80,81,82,83,84,85,86,87,88,89,90,91,92,93,94,95,96,97,98,99,100,101,102,103,104,105,106,107,108,109,110,111,112,113,114,115,117,118,119,120,121,122,123,124,125,126,128,129,130,131,132,133,134,135,136,137,138,140,141,142,143,144,145,146,147,148,149,150,152,153,154,155,156,157,158,159,160,161,162,163,164,165,166,167,168,169,170,171,173,174,175,176,177,178,179,180,183,184,185,186,188,190,191,192,194,195,196,198,199,200,201,202,204,205,206,207) have mixed types.Specify dtype option on import or set low_memory=False.\n",
      "  view.validate(level)\n",
      "/home/michal/miniconda3/envs/fondue-pub/lib/python3.8/site-packages/qiime2/plugin/model/directory_format.py:103: DtypeWarning: Columns (17,18,19,21,22,23,24,25,26,27,28,29,30,31,32,33,34,35,36,37,38,39,40,41,42,43,44,45,46,48,53,54,55,56,57,60,64,65,66,67,68,69,70,71,72,73,74,76,77,78,79,80,81,82,83,84,85,86,87,88,89,90,91,92,93,94,95,96,97,98,99,100,101,102,103,104,105,106,107,108,109,110,111,112,113,114,115,117,118,119,120,121,122,123,124,125,126,128,129,130,131,132,133,134,135,136,137,138,140,141,142,143,144,145,146,147,148,149,150,152,153,154,155,156,157,158,159,160,161,162,163,164,165,166,167,168,169,170,171,173,174,175,176,177,178,179,180,183,184,185,186,188,190,191,192,194,195,196,198,199,200,201,202,204,205,206,207) have mixed types.Specify dtype option on import or set low_memory=False.\n",
      "  self.format(path, mode='r').validate(level)\n",
      "/home/michal/miniconda3/envs/fondue-pub/lib/python3.8/site-packages/qiime2/plugin/model/directory_format.py:103: DtypeWarning: Columns (17,18,19,21,22,23,24,25,26,27,28,29,30,31,32,33,34,35,36,37,38,39,40,41,42,43,44,45,46,48,53,54,55,56,57,60,64,65,66,67,68,69,70,71,72,73,74,76,77,78,79,80,81,82,83,84,85,86,87,88,89,90,91,92,93,94,95,96,97,98,99,100,101,102,103,104,105,106,107,108,109,110,111,112,113,114,115,117,118,119,120,121,122,123,124,125,126,128,129,130,131,132,133,134,135,136,137,138,140,141,142,143,144,145,146,147,148,149,150,152,153,154,155,156,157,158,159,160,161,162,163,164,165,166,167,168,169,170,171,173,174,175,176,177,178,179,180,183,184,185,186,188,190,191,192,194,195,196,198,199,200,201,202,204,205,206,207) have mixed types.Specify dtype option on import or set low_memory=False.\n",
      "  self.format(path, mode='r').validate(level)\n",
      "/home/michal/miniconda3/envs/fondue-pub/lib/python3.8/site-packages/qiime2/core/transform.py:143: DtypeWarning: Columns (17,18,19,21,22,23,24,25,26,27,28,29,30,31,32,33,34,35,36,37,38,39,40,41,42,43,44,45,46,48,53,54,55,56,57,60,64,65,66,67,68,69,70,71,72,73,74,76,77,78,79,80,81,82,83,84,85,86,87,88,89,90,91,92,93,94,95,96,97,98,99,100,101,102,103,104,105,106,107,108,109,110,111,112,113,114,115,117,118,119,120,121,122,123,124,125,126,128,129,130,131,132,133,134,135,136,137,138,140,141,142,143,144,145,146,147,148,149,150,152,153,154,155,156,157,158,159,160,161,162,163,164,165,166,167,168,169,170,171,173,174,175,176,177,178,179,180,183,184,185,186,188,190,191,192,194,195,196,198,199,200,201,202,204,205,206,207) have mixed types.Specify dtype option on import or set low_memory=False.\n",
      "  view.validate(level)\n",
      "/home/michal/miniconda3/envs/fondue-pub/lib/python3.8/site-packages/qiime2/core/transform.py:143: DtypeWarning: Columns (17,18,19,21,22,23,24,25,26,27,28,29,30,31,32,33,34,35,36,37,38,39,40,41,42,43,44,45,46,48,53,54,55,56,57,60,64,65,66,67,68,69,70,71,72,73,74,76,77,78,79,80,81,82,83,84,85,86,87,88,89,90,91,92,93,94,95,96,97,98,99,100,101,102,103,104,105,106,107,108,109,110,111,112,113,114,115,117,118,119,120,121,122,123,124,125,126,128,129,130,131,132,133,134,135,136,137,138,140,141,142,143,144,145,146,147,148,149,150,152,153,154,155,156,157,158,159,160,161,162,163,164,165,166,167,168,169,170,171,173,174,175,176,177,178,179,180,183,184,185,186,188,190,191,192,194,195,196,198,199,200,201,202,204,205,206,207) have mixed types.Specify dtype option on import or set low_memory=False.\n",
      "  view.validate(level)\n"
     ]
    }
   ],
   "source": [
    "all_meta = []\n",
    "if not os.path.isfile(sra_metadata_path):\n",
    "    for i, _ids in enumerate(ids_chunked):\n",
    "        print(f'-----Fetching metadata - batch {i + 1} out of {len(ids_chunked)}...-----')\n",
    "        current_batch_loc = os.path.join(data_loc, f'sra_meta_batch{i}.qza')\n",
    "        _ids = pd.Series(_ids, name='ID')\n",
    "        \n",
    "        if not os.path.isfile(current_batch_loc):\n",
    "            sra_meta, failed_ids, = fondue.methods.get_metadata(\n",
    "                accession_ids=q2.Artifact.import_data('NCBIAccessionIDs', _ids),\n",
    "                email=email,\n",
    "                n_jobs=1,\n",
    "                log_level='WARNING'\n",
    "            )\n",
    "            sra_meta.save(current_batch_loc)\n",
    "            failed_ids.save(os.path.join(data_loc, f'sra_failed_ids_batch{i}.qza'))\n",
    "        else:\n",
    "            print(f'Reading current SRA meta batch from file {current_batch_loc}...')\n",
    "            sra_meta = q2.Artifact.load(current_batch_loc)\n",
    "            \n",
    "        all_meta.append(sra_meta)\n",
    "        del sra_meta\n",
    "    \n",
    "    # merge metadata from all the batches\n",
    "    sra_meta, = fondue.methods.merge_metadata(\n",
    "        metadata=all_meta\n",
    "    )\n",
    "    sra_meta_df = sra_meta.view(pd.DataFrame)\n",
    "    sra_meta_df.to_csv(sra_metadata_path, sep='\\t')\n",
    "    \n",
    "    # clean up\n",
    "    del all_meta\n",
    "else:\n",
    "    print(f'Metadata artifact exists and will be read from {sra_metadata_path}.')\n",
    "    sra_meta_df = pd.read_csv(sra_metadata_path, sep='\\t', index_col=0)"
   ]
  },
  {
   "cell_type": "markdown",
   "metadata": {},
   "source": [
    "## Merge SRA and Nextstrain metadata\n",
    "Merge SRA metadata with Nextstrain metadata and re-sample only __single-end short__ reads obtained on NextSeq 500/550 platforms."
   ]
  },
  {
   "cell_type": "code",
   "execution_count": 19,
   "metadata": {
    "execution": {
     "iopub.execute_input": "2022-07-19T16:46:37.598011Z",
     "iopub.status.busy": "2022-07-19T16:46:37.597889Z",
     "iopub.status.idle": "2022-07-19T16:46:37.782171Z",
     "shell.execute_reply": "2022-07-19T16:46:37.781689Z",
     "shell.execute_reply.started": "2022-07-19T16:46:37.597999Z"
    },
    "tags": []
   },
   "outputs": [
    {
     "data": {
      "text/plain": [
       "(37259, 252)"
      ]
     },
     "execution_count": 19,
     "metadata": {},
     "output_type": "execute_result"
    }
   ],
   "source": [
    "sra_meta_smp_df = metadata_ns_vars_smp.merge(sra_meta_df, left_index=True, right_index=True)\n",
    "sra_meta_smp_df.shape"
   ]
  },
  {
   "cell_type": "code",
   "execution_count": 20,
   "metadata": {
    "execution": {
     "iopub.execute_input": "2022-07-19T16:46:37.782858Z",
     "iopub.status.busy": "2022-07-19T16:46:37.782715Z",
     "iopub.status.idle": "2022-07-19T16:46:37.919202Z",
     "shell.execute_reply": "2022-07-19T16:46:37.918638Z",
     "shell.execute_reply.started": "2022-07-19T16:46:37.782845Z"
    },
    "tags": []
   },
   "outputs": [],
   "source": [
    "selection = \\\n",
    "    (sra_meta_smp_df['Library Layout'] == 'SINGLE') & \\\n",
    "    (sra_meta_smp_df['Instrument'].isin(['NextSeq 500', 'NextSeq 550']))\n",
    "\n",
    "sra_meta_smp_df = sra_meta_smp_df[selection]"
   ]
  },
  {
   "cell_type": "code",
   "execution_count": 21,
   "metadata": {
    "execution": {
     "iopub.execute_input": "2022-07-19T16:46:37.920064Z",
     "iopub.status.busy": "2022-07-19T16:46:37.919876Z",
     "iopub.status.idle": "2022-07-19T16:46:37.935588Z",
     "shell.execute_reply": "2022-07-19T16:46:37.935226Z",
     "shell.execute_reply.started": "2022-07-19T16:46:37.920037Z"
    },
    "tags": []
   },
   "outputs": [
    {
     "data": {
      "text/html": [
       "<div>\n",
       "<style scoped>\n",
       "    .dataframe tbody tr th:only-of-type {\n",
       "        vertical-align: middle;\n",
       "    }\n",
       "\n",
       "    .dataframe tbody tr th {\n",
       "        vertical-align: top;\n",
       "    }\n",
       "\n",
       "    .dataframe thead th {\n",
       "        text-align: right;\n",
       "    }\n",
       "</style>\n",
       "<table border=\"1\" class=\"dataframe\">\n",
       "  <thead>\n",
       "    <tr style=\"text-align: right;\">\n",
       "      <th></th>\n",
       "      <th>strain</th>\n",
       "      <th>virus</th>\n",
       "    </tr>\n",
       "    <tr>\n",
       "      <th>region</th>\n",
       "      <th></th>\n",
       "      <th></th>\n",
       "    </tr>\n",
       "  </thead>\n",
       "  <tbody>\n",
       "    <tr>\n",
       "      <th>Europe</th>\n",
       "      <td>423</td>\n",
       "      <td>423</td>\n",
       "    </tr>\n",
       "    <tr>\n",
       "      <th>North America</th>\n",
       "      <td>913</td>\n",
       "      <td>913</td>\n",
       "    </tr>\n",
       "  </tbody>\n",
       "</table>\n",
       "</div>"
      ],
      "text/plain": [
       "               strain  virus\n",
       "region                      \n",
       "Europe            423    423\n",
       "North America     913    913"
      ]
     },
     "execution_count": 21,
     "metadata": {},
     "output_type": "execute_result"
    }
   ],
   "source": [
    "sra_meta_smp_df_gr = sra_meta_smp_df.groupby(['region']).count()\n",
    "sra_meta_smp_df_gr.iloc[:,:2]"
   ]
  },
  {
   "cell_type": "markdown",
   "metadata": {},
   "source": [
    "Find the largest possible sample size."
   ]
  },
  {
   "cell_type": "code",
   "execution_count": 22,
   "metadata": {
    "execution": {
     "iopub.execute_input": "2022-07-19T16:46:37.936170Z",
     "iopub.status.busy": "2022-07-19T16:46:37.936043Z",
     "iopub.status.idle": "2022-07-19T16:46:37.939000Z",
     "shell.execute_reply": "2022-07-19T16:46:37.938635Z",
     "shell.execute_reply.started": "2022-07-19T16:46:37.936157Z"
    },
    "tags": []
   },
   "outputs": [
    {
     "name": "stdout",
     "output_type": "stream",
     "text": [
      "Taking a sample of 250 genomes per geographical region.\n"
     ]
    }
   ],
   "source": [
    "n = sra_meta_smp_df_gr.iloc[:, 0].min()\n",
    "n = n if n < genomes_per_region else genomes_per_region\n",
    "print(f'Taking a sample of {n} genomes per geographical region.')"
   ]
  },
  {
   "cell_type": "code",
   "execution_count": 23,
   "metadata": {
    "execution": {
     "iopub.execute_input": "2022-07-19T16:46:37.939557Z",
     "iopub.status.busy": "2022-07-19T16:46:37.939409Z",
     "iopub.status.idle": "2022-07-19T16:46:38.269771Z",
     "shell.execute_reply": "2022-07-19T16:46:38.269294Z",
     "shell.execute_reply.started": "2022-07-19T16:46:37.939545Z"
    },
    "tags": []
   },
   "outputs": [
    {
     "data": {
      "text/plain": [
       "(500, 252)"
      ]
     },
     "execution_count": 23,
     "metadata": {},
     "output_type": "execute_result"
    }
   ],
   "source": [
    "sra_meta_smp_df = metadata_ns_vars_smp.merge(\n",
    "    sra_meta_df, left_index=True, right_index=True\n",
    ")\n",
    "\n",
    "sra_meta_smp_df = sample_variants(\n",
    "    sra_meta_smp_df[selection], n=n,\n",
    "    grouping_col='region', random_state=random_seed\n",
    ")\n",
    "sra_meta_smp_df['Public'] = sra_meta_smp_df['Public'].astype(str)\n",
    "sra_meta_smp_df.shape"
   ]
  },
  {
   "cell_type": "code",
   "execution_count": 24,
   "metadata": {
    "execution": {
     "iopub.execute_input": "2022-07-19T16:46:38.270441Z",
     "iopub.status.busy": "2022-07-19T16:46:38.270295Z",
     "iopub.status.idle": "2022-07-19T16:46:38.273905Z",
     "shell.execute_reply": "2022-07-19T16:46:38.273550Z",
     "shell.execute_reply.started": "2022-07-19T16:46:38.270428Z"
    },
    "tags": []
   },
   "outputs": [
    {
     "data": {
      "text/plain": [
       "Europe           250\n",
       "North America    250\n",
       "Name: region, dtype: int64"
      ]
     },
     "execution_count": 24,
     "metadata": {},
     "output_type": "execute_result"
    }
   ],
   "source": [
    "# check count of samples per geographical region\n",
    "sra_meta_smp_df['region'].value_counts()"
   ]
  },
  {
   "cell_type": "markdown",
   "metadata": {},
   "source": [
    "Save merged & sampled metadata to file."
   ]
  },
  {
   "cell_type": "code",
   "execution_count": 25,
   "metadata": {
    "collapsed": false,
    "execution": {
     "iopub.execute_input": "2022-07-19T16:46:38.274393Z",
     "iopub.status.busy": "2022-07-19T16:46:38.274260Z",
     "iopub.status.idle": "2022-07-19T16:46:38.313689Z",
     "shell.execute_reply": "2022-07-19T16:46:38.313202Z",
     "shell.execute_reply.started": "2022-07-19T16:46:38.274382Z"
    },
    "jupyter": {
     "outputs_hidden": false
    },
    "pycharm": {
     "name": "#%%\n"
    },
    "tags": []
   },
   "outputs": [
    {
     "name": "stdout",
     "output_type": "stream",
     "text": [
      "Saved sample metadata to u2-genome-results/metadata_merged.tsv\n"
     ]
    }
   ],
   "source": [
    "if not os.path.isfile(metadata_merged_path):\n",
    "    sra_meta_smp_df.to_csv(metadata_merged_path, sep='\\t')\n",
    "    print('Saved sample metadata to', metadata_merged_path)"
   ]
  },
  {
   "cell_type": "markdown",
   "metadata": {
    "tags": []
   },
   "source": [
    "## Fetch SARS-CoV-2 genomes using q2-fondue\n",
    "We can use IDs from our final metadata table to fetch all the corresponding sequencing files from the SRA using `q2-fondue`'s `get-sequences` action."
   ]
  },
  {
   "cell_type": "code",
   "execution_count": 26,
   "metadata": {
    "execution": {
     "iopub.execute_input": "2022-07-19T16:46:38.314324Z",
     "iopub.status.busy": "2022-07-19T16:46:38.314187Z",
     "iopub.status.idle": "2022-07-19T16:46:38.316590Z",
     "shell.execute_reply": "2022-07-19T16:46:38.316178Z",
     "shell.execute_reply.started": "2022-07-19T16:46:38.314310Z"
    },
    "tags": []
   },
   "outputs": [],
   "source": [
    "single_reads_out = os.path.join(data_loc, 'sars-single.qza')"
   ]
  },
  {
   "cell_type": "code",
   "execution_count": 27,
   "metadata": {
    "execution": {
     "iopub.execute_input": "2022-07-19T16:46:38.317115Z",
     "iopub.status.busy": "2022-07-19T16:46:38.316998Z",
     "iopub.status.idle": "2022-07-19T19:35:56.899637Z",
     "shell.execute_reply": "2022-07-19T19:35:56.898527Z",
     "shell.execute_reply.started": "2022-07-19T16:46:38.317103Z"
    },
    "tags": []
   },
   "outputs": [
    {
     "name": "stdout",
     "output_type": "stream",
     "text": [
      "2022-07-19 18:46:39,898 [MainThread] [INFO] [q2_fondue.sequences]: Downloading sequences for 500 accession IDs...\n"
     ]
    },
    {
     "name": "stderr",
     "output_type": "stream",
     "text": [
      "Downloading sequences for run SRR17714185 (attempt 1): 100%|████████████████████████████████████████████| 500/500 [2:32:51<00:00, 18.34s/it, 1 failed]\n"
     ]
    },
    {
     "name": "stdout",
     "output_type": "stream",
     "text": [
      "2022-07-19 21:19:31,687 [MainThread] [INFO] [q2_fondue.sequences]: Retrying to download the following failed accession IDs in 1.0 min: ['ERR4286395']\n"
     ]
    },
    {
     "name": "stderr",
     "output_type": "stream",
     "text": [
      "Downloading sequences for run ERR4286395 (attempt 2): 100%|███████████████████████████████████████████████████| 1/1 [00:01<00:00,  1.10s/it, 1 failed]\n"
     ]
    },
    {
     "name": "stdout",
     "output_type": "stream",
     "text": [
      "2022-07-19 21:20:32,860 [MainThread] [INFO] [q2_fondue.sequences]: Retrying to download the following failed accession IDs in 1.5 min: ['ERR4286395']\n"
     ]
    },
    {
     "name": "stderr",
     "output_type": "stream",
     "text": [
      "Downloading sequences for run ERR4286395 (attempt 3): 100%|███████████████████████████████████████████████████| 1/1 [00:01<00:00,  1.09s/it, 1 failed]\n"
     ]
    },
    {
     "name": "stdout",
     "output_type": "stream",
     "text": [
      "2022-07-19 21:22:04,055 [MainThread] [INFO] [q2_fondue.sequences]: Download finished. 1 out of 500 runs failed to fetch. Below are the error messages of the first 5 failed runs:\n",
      "ID=ERR4286395, Error=2022-07-19T19:22:04 prefetch.3.0.0 err: name not found while resolving query within virtual file system module - failed to resolve accession 'ERR4286395' - no data ( 404 )\n",
      "2022-07-19T19:22:04 prefetch.3.0.0: Current preference is set to retrieve SRA Normalized Format files with full base quality scores.\n",
      "\n",
      "2022-07-19 21:22:11,136 [MainThread] [INFO] [q2_fondue.sequences]: Processing finished.\n"
     ]
    }
   ],
   "source": [
    "if not os.path.isfile(single_reads_out):\n",
    "    _ids = pd.Series(sra_meta_smp_df.index.to_list(), name='ID')\n",
    "    single_reads, _, _ = fondue.methods.get_sequences(\n",
    "        accession_ids=q2.Artifact.import_data('NCBIAccessionIDs', _ids), \n",
    "        email=email,\n",
    "        n_jobs=n_jobs\n",
    "    )\n",
    "    single_reads.save(single_reads_out)\n",
    "else:\n",
    "    print(f'Single-reads artifact exists and will be read from {single_reads_out}.')\n",
    "    single_reads = q2.Artifact.load(single_reads_out)"
   ]
  },
  {
   "cell_type": "markdown",
   "metadata": {
    "tags": []
   },
   "source": [
    "## Quality control of the sequences\n",
    "Before proceeding to the next step, we can assess the quality of the retrieved dataset using the `summarize` action from the `q2-demux` plugin."
   ]
  },
  {
   "cell_type": "code",
   "execution_count": 28,
   "metadata": {
    "execution": {
     "iopub.execute_input": "2022-07-19T19:35:56.901707Z",
     "iopub.status.busy": "2022-07-19T19:35:56.901514Z",
     "iopub.status.idle": "2022-07-19T19:49:47.208580Z",
     "shell.execute_reply": "2022-07-19T19:49:47.208158Z",
     "shell.execute_reply.started": "2022-07-19T19:35:56.901683Z"
    },
    "tags": []
   },
   "outputs": [],
   "source": [
    "qc_viz_out = os.path.join(data_loc, 'qc-viz.qzv')\n",
    "if not os.path.isfile(qc_viz_out):\n",
    "    qc_viz, = demux.visualizers.summarize(\n",
    "        data=single_reads\n",
    "    )\n",
    "    qc_viz.save(qc_viz_out)\n",
    "else:\n",
    "    print(f'Quality control artifact exists and will be read from {qc_viz_out}.')\n",
    "    qc_viz = q2.Visualization.load(qc_viz_out)"
   ]
  },
  {
   "cell_type": "code",
   "execution_count": 29,
   "metadata": {
    "execution": {
     "iopub.execute_input": "2022-07-19T19:49:47.209625Z",
     "iopub.status.busy": "2022-07-19T19:49:47.209455Z",
     "iopub.status.idle": "2022-07-19T19:49:47.214647Z",
     "shell.execute_reply": "2022-07-19T19:49:47.214266Z",
     "shell.execute_reply.started": "2022-07-19T19:49:47.209611Z"
    },
    "tags": []
   },
   "outputs": [
    {
     "data": {
      "text/html": [
       "<div><img onload=\"(function(div, url){\n",
       "if (typeof require !== 'undefined') {\n",
       "    var baseURL = require.toUrl('').split('/').slice(0, -2).join('/');\n",
       "} else {\n",
       "    var baseURL = JSON.parse(\n",
       "        document.getElementById('jupyter-config-data').innerHTML\n",
       "    ).baseUrl.slice(0, -1);\n",
       "}\n",
       "url = baseURL + url;\n",
       "fetch(url).then(function(res) {\n",
       "    if (res.status === 404) {\n",
       "        div.innerHTML = 'Install QIIME 2 Jupyter extension with:<br />' +\n",
       "                        '<code>jupyter serverextension enable --py qiime2' +\n",
       "                        ' --sys-prefix</code><br />then restart your server.' +\n",
       "                        '<br /><br />(Interactive output not available on ' +\n",
       "                        'static notebook viewer services like nbviewer.)';\n",
       "    } else if (res.status === 409) {\n",
       "        div.innerHTML = 'Visualization no longer in scope. Re-run this cell' +\n",
       "                        ' to see the visualization.';\n",
       "    } else if (res.ok) {\n",
       "        url = res.url;\n",
       "        div.innerHTML = '<iframe src=\\'' + url + '\\' style=\\'' +\n",
       "                        'width: 100%; height: 700px; border: 0;\\'>' +\n",
       "                        '</iframe><hr />Open in a: <a href=\\'' + url + '\\'' +\n",
       "                        ' target=\\'_blank\\'>new window</a>'\n",
       "    } else {\n",
       "        div.innerHTML = 'Something has gone wrong. Check notebook server for' +\n",
       "                        ' errors.';\n",
       "    }\n",
       "});\n",
       "})(this.parentElement, '/qiime2/redirect?location=/media/michal/disk_large/.tmp/qiime2-archive-9l94dmuf')\" src=\"data:image/gif;base64,R0lGODlhAQABAIAAAP///wAAACH5BAEAAAAALAAAAAABAAEAAAICRAEAOw==\" /></div>"
      ],
      "text/plain": [
       "<visualization: Visualization uuid: b9bd2071-47c7-49e1-ac10-d53170538bf1>"
      ]
     },
     "execution_count": 29,
     "metadata": {},
     "output_type": "execute_result"
    }
   ],
   "source": [
    "qc_viz"
   ]
  },
  {
   "cell_type": "markdown",
   "metadata": {},
   "source": [
    "## Data clean-up: sequence trimming\n",
    "As can be seen in the visualization above, the data is already of good quality. We will just perform one additional cleaning step to remove sequences shorter than 35bp and with error rates higher than 0.01."
   ]
  },
  {
   "cell_type": "code",
   "execution_count": null,
   "metadata": {
    "tags": []
   },
   "outputs": [],
   "source": [
    "trimmed_out = os.path.join(data_loc, 'sars-single-trimmed.qza')\n",
    "if not os.path.isfile(trimmed_out):\n",
    "    single_reads_trimmed, = cutadapt.methods.trim_single(\n",
    "        demultiplexed_sequences=single_reads,\n",
    "        error_rate=0.01,\n",
    "        minimum_length=35,\n",
    "        cores=n_jobs\n",
    "    )\n",
    "    single_reads_trimmed.save(trimmed_out)\n",
    "else:\n",
    "    print(f'Trimmed reads artifact exists and will be read from {trimmed_out}.')\n",
    "    single_reads_trimmed = q2.Artifact.load(trimmed_out)"
   ]
  },
  {
   "cell_type": "code",
   "execution_count": 31,
   "metadata": {
    "execution": {
     "iopub.execute_input": "2022-07-19T20:13:55.489522Z",
     "iopub.status.busy": "2022-07-19T20:13:55.489357Z",
     "iopub.status.idle": "2022-07-19T20:27:03.442363Z",
     "shell.execute_reply": "2022-07-19T20:27:03.441797Z",
     "shell.execute_reply.started": "2022-07-19T20:13:55.489507Z"
    },
    "tags": []
   },
   "outputs": [
    {
     "data": {
      "text/html": [
       "<div><img onload=\"(function(div, url){\n",
       "if (typeof require !== 'undefined') {\n",
       "    var baseURL = require.toUrl('').split('/').slice(0, -2).join('/');\n",
       "} else {\n",
       "    var baseURL = JSON.parse(\n",
       "        document.getElementById('jupyter-config-data').innerHTML\n",
       "    ).baseUrl.slice(0, -1);\n",
       "}\n",
       "url = baseURL + url;\n",
       "fetch(url).then(function(res) {\n",
       "    if (res.status === 404) {\n",
       "        div.innerHTML = 'Install QIIME 2 Jupyter extension with:<br />' +\n",
       "                        '<code>jupyter serverextension enable --py qiime2' +\n",
       "                        ' --sys-prefix</code><br />then restart your server.' +\n",
       "                        '<br /><br />(Interactive output not available on ' +\n",
       "                        'static notebook viewer services like nbviewer.)';\n",
       "    } else if (res.status === 409) {\n",
       "        div.innerHTML = 'Visualization no longer in scope. Re-run this cell' +\n",
       "                        ' to see the visualization.';\n",
       "    } else if (res.ok) {\n",
       "        url = res.url;\n",
       "        div.innerHTML = '<iframe src=\\'' + url + '\\' style=\\'' +\n",
       "                        'width: 100%; height: 700px; border: 0;\\'>' +\n",
       "                        '</iframe><hr />Open in a: <a href=\\'' + url + '\\'' +\n",
       "                        ' target=\\'_blank\\'>new window</a>'\n",
       "    } else {\n",
       "        div.innerHTML = 'Something has gone wrong. Check notebook server for' +\n",
       "                        ' errors.';\n",
       "    }\n",
       "});\n",
       "})(this.parentElement, '/qiime2/redirect?location=/media/michal/disk_large/.tmp/qiime2-archive-v1tow68o')\" src=\"data:image/gif;base64,R0lGODlhAQABAIAAAP///wAAACH5BAEAAAAALAAAAAABAAEAAAICRAEAOw==\" /></div>"
      ],
      "text/plain": [
       "<visualization: Visualization uuid: d0dfd9ac-e53a-45ee-995e-343c3a7d6008>"
      ]
     },
     "execution_count": 31,
     "metadata": {},
     "output_type": "execute_result"
    }
   ],
   "source": [
    "trimmed_viz_out = os.path.join(data_loc, 'qc-viz-trimmed.qzv')\n",
    "if not os.path.isfile(trimmed_viz_out):\n",
    "    qc_viz_trimmed, = demux.visualizers.summarize(\n",
    "        data=single_reads_trimmed\n",
    "    )\n",
    "    qc_viz_trimmed.save(trimmed_viz_out)\n",
    "else:\n",
    "    print(f'Trimmed reads visualization exists and will be read from {trimmed_viz_out}.')\n",
    "    qc_viz_trimmed = q2.Visualization.load(trimmed_viz_out)\n",
    "qc_viz_trimmed"
   ]
  },
  {
   "cell_type": "markdown",
   "metadata": {},
   "source": [
    "## Calculate and compare MinHash signatures for every genome\n",
    "Having checked the data quality, we will proceed to calculating the MinHash signatures of every genome using `q2-sourmash`. First, we calculate the hashes from the short reads using the `compute` action. Subsequently, we generate a distance matrix comparing hashes pairwise (using the `compare` action)."
   ]
  },
  {
   "cell_type": "code",
   "execution_count": null,
   "metadata": {
    "tags": []
   },
   "outputs": [],
   "source": [
    "genome_hash_out = os.path.join(data_loc, 'genome-hash-trimmed.qza')\n",
    "if not os.path.isfile(genome_hash_out):\n",
    "    genome_hash, = sourmash.methods.compute(\n",
    "        sequence_file=single_reads_trimmed,\n",
    "        ksizes=31,\n",
    "        scaled=10\n",
    "    )\n",
    "    genome_hash.save(genome_hash_out)\n",
    "else:\n",
    "    print(f'Genome hashes artifact exists and will be read from {genome_hash_out}.')\n",
    "    genome_hash = q2.Artifact.load(genome_hash_out)"
   ]
  },
  {
   "cell_type": "code",
   "execution_count": 33,
   "metadata": {
    "execution": {
     "iopub.execute_input": "2022-07-19T21:13:32.425080Z",
     "iopub.status.busy": "2022-07-19T21:13:32.424911Z",
     "iopub.status.idle": "2022-07-19T21:15:50.269837Z",
     "shell.execute_reply": "2022-07-19T21:15:50.269289Z",
     "shell.execute_reply.started": "2022-07-19T21:13:32.425065Z"
    },
    "tags": []
   },
   "outputs": [
    {
     "name": "stderr",
     "output_type": "stream",
     "text": [
      "\u001b[K\n",
      "== This is sourmash version 4.4.1. ==\n",
      "\u001b[K== Please cite Brown and Irber (2016), doi:10.21105/joss.00027. ==\n",
      "\n",
      "\u001b[K<<<bp36op9i/cbecd732-2eeb-455e-b2fc-4408cdd15b84/data/SRR17714101.fastq.gz.sig'5e-b2fc-4408cdd15b84/data/SRR17714101.fastq.gz.sig'<<-bp36op9i/cbecd732-2eeb-455e-b2fc-4408cdd15b84/data/ERR5941346.fastq.gz.sig'<<<-bp36op9i/cbecd732-2eeb-455e-b2fc-4408cdd15b84/data/ERR6167231.fastq.gz.sig'loading '/media/michal/disk_large/.tmp/qiime2-archive-bp36op9i/cbecd732-2eeb-455e-b2fc-4408cdd15b84/data/ERR6437932.fastq.gz.sig'loading '/media/michal/disk_large/.tmp/qiime2-archive-bp36op9i/cbecd732-2eeb-455e-b2fc-4408cdd15b84/data/ERR6631037.fastq.gz.sig'loading '/media/michal/disk_large/.tmp/qiime2-archive-bp36op9i/cbecd732-2eeb-455e-b2fc-4408cdd15b84/data/ERR7003199.fastq.gz.sig'<<<-bp36op9i/cbecd732-2eeb-455e-b2fc-4408cdd15b84/data/ERR7156721.fastq.gz.sig'<<<-bp36op9i/cbecd732-2eeb-455e-b2fc-4408cdd15b84/data/ERR7309655.fastq.gz.sig'loading '/media/michal/disk_large/.tmp/qiime2-archive-bp36op9i/cbecd732-2eeb-455e-b2fc-4408cdd15b84/data/ERR7574301.fastq.gz.sig'<<<-bp36op9i/cbecd732-2eeb-455e-b2fc-4408cdd15b84/data/ERR7699945.fastq.gz.sig'<<<bp36op9i/cbecd732-2eeb-455e-b2fc-4408cdd15b84/data/SRR16070778.fastq.gz.sig'<<<bp36op9i/cbecd732-2eeb-455e-b2fc-4408cdd15b84/data/SRR16469566.fastq.gz.sig'<<<bp36op9i/cbecd732-2eeb-455e-b2fc-4408cdd15b84/data/SRR16645538.fastq.gz.sig'<<<bp36op9i/cbecd732-2eeb-455e-b2fc-4408cdd15b84/data/SRR17052454.fastq.gz.sig'loading '/media/michal/disk_large/.tmp/qiime2-archive-bp36op9i/cbecd732-2eeb-455e-b2fc-4408cdd15b84/data/SRR17136469.fastq.gz.sig'loading '/media/michal/disk_large/.tmp/qiime2-archive-bp36op9i/cbecd732-2eeb-455e-b2fc-4408cdd15b84/data/SRR17264408.fastq.gz.sig'<<<bp36op9i/cbecd732-2eeb-455e-b2fc-4408cdd15b84/data/SRR17281976.fastq.gz.sig'<<<bp36op9i/cbecd732-2eeb-455e-b2fc-4408cdd15b84/data/SRR17375693.fastq.gz.sig'<<<bp36op9i/cbecd732-2eeb-455e-b2fc-4408cdd15b84/data/SRR17536141.fastq.gz.sig'"
     ]
    },
    {
     "name": "stdout",
     "output_type": "stream",
     "text": [
      "min similarity in matrix: 0.000\n"
     ]
    },
    {
     "name": "stderr",
     "output_type": "stream",
     "text": [
      "\u001b[Kloaded 499 signatures total.                                                   5e-b2fc-4408cdd15b84/data/SRR17714185.fastq.gz.sig'\n",
      "\u001b[K\n",
      "\u001b[Ksaving labels to: tmp.labels.txt\n",
      "\u001b[Ksaving comparison matrix to: tmp\n"
     ]
    }
   ],
   "source": [
    "hash_compare_out = os.path.join(data_loc, 'hash-compare-trimmed.qza')\n",
    "if not os.path.isfile(hash_compare_out):\n",
    "    hash_compare, = sourmash.methods.compare(\n",
    "        min_hash_signature=genome_hash,\n",
    "        ksize=31\n",
    "    )\n",
    "    hash_compare.save(hash_compare_out)\n",
    "else:\n",
    "    print(f'Distance matrix artifact exists and will be read from {hash_compare_out}.')\n",
    "    hash_compare = q2.Artifact.load(hash_compare_out)"
   ]
  },
  {
   "cell_type": "markdown",
   "metadata": {},
   "source": [
    "## Perform dimensionality reduction of the genome MinHash distance matrix\n",
    "Finally, a 2D t-SNE plot is generated from the obtained distance matrix (`tsne` method from the `q2-diversity` plugin) and visualized using the EMPeror plot (`plot` action from the `q2-emperor` plugin)."
   ]
  },
  {
   "cell_type": "code",
   "execution_count": 34,
   "metadata": {
    "execution": {
     "iopub.execute_input": "2022-07-19T21:15:50.284475Z",
     "iopub.status.busy": "2022-07-19T21:15:50.284257Z",
     "iopub.status.idle": "2022-07-19T21:15:51.105053Z",
     "shell.execute_reply": "2022-07-19T21:15:51.104606Z",
     "shell.execute_reply.started": "2022-07-19T21:15:50.284453Z"
    },
    "tags": []
   },
   "outputs": [],
   "source": [
    "genome_tsne, = diversity.methods.tsne(\n",
    "    distance_matrix=hash_compare,\n",
    "    learning_rate=125,\n",
    "    perplexity=18\n",
    ")"
   ]
  },
  {
   "cell_type": "code",
   "execution_count": 35,
   "metadata": {
    "execution": {
     "iopub.execute_input": "2022-07-19T21:15:51.105828Z",
     "iopub.status.busy": "2022-07-19T21:15:51.105681Z",
     "iopub.status.idle": "2022-07-19T21:15:51.108050Z",
     "shell.execute_reply": "2022-07-19T21:15:51.107642Z",
     "shell.execute_reply.started": "2022-07-19T21:15:51.105813Z"
    },
    "tags": []
   },
   "outputs": [],
   "source": [
    "cols = ['Nextstrain_clade', 'Instrument', 'region', 'country']"
   ]
  },
  {
   "cell_type": "code",
   "execution_count": 36,
   "metadata": {
    "execution": {
     "iopub.execute_input": "2022-07-19T21:15:51.108975Z",
     "iopub.status.busy": "2022-07-19T21:15:51.108842Z",
     "iopub.status.idle": "2022-07-19T21:15:51.433754Z",
     "shell.execute_reply": "2022-07-19T21:15:51.433281Z",
     "shell.execute_reply.started": "2022-07-19T21:15:51.108962Z"
    },
    "tags": []
   },
   "outputs": [],
   "source": [
    "emperor_plot_out = os.path.join(data_loc, 'emperor-plot-trimmed.qzv')\n",
    "if not os.path.isfile(emperor_plot_out):\n",
    "    emperor_plot, = emperor.visualizers.plot(\n",
    "        pcoa=genome_tsne,\n",
    "        metadata=q2.Metadata(sra_meta_smp_df[cols])\n",
    "    )\n",
    "    emperor_plot.save(emperor_plot_out)\n",
    "else:\n",
    "    print(f'Emperor plot artifact exists and will be read from {emperor_plot_out}.')\n",
    "    emperor_plot = q2.Visualization.load(emperor_plot_out)"
   ]
  },
  {
   "cell_type": "code",
   "execution_count": 37,
   "metadata": {
    "execution": {
     "iopub.execute_input": "2022-07-19T21:15:51.434824Z",
     "iopub.status.busy": "2022-07-19T21:15:51.434689Z",
     "iopub.status.idle": "2022-07-19T21:15:51.437731Z",
     "shell.execute_reply": "2022-07-19T21:15:51.437287Z",
     "shell.execute_reply.started": "2022-07-19T21:15:51.434811Z"
    },
    "tags": []
   },
   "outputs": [
    {
     "data": {
      "text/html": [
       "<div><img onload=\"(function(div, url){\n",
       "if (typeof require !== 'undefined') {\n",
       "    var baseURL = require.toUrl('').split('/').slice(0, -2).join('/');\n",
       "} else {\n",
       "    var baseURL = JSON.parse(\n",
       "        document.getElementById('jupyter-config-data').innerHTML\n",
       "    ).baseUrl.slice(0, -1);\n",
       "}\n",
       "url = baseURL + url;\n",
       "fetch(url).then(function(res) {\n",
       "    if (res.status === 404) {\n",
       "        div.innerHTML = 'Install QIIME 2 Jupyter extension with:<br />' +\n",
       "                        '<code>jupyter serverextension enable --py qiime2' +\n",
       "                        ' --sys-prefix</code><br />then restart your server.' +\n",
       "                        '<br /><br />(Interactive output not available on ' +\n",
       "                        'static notebook viewer services like nbviewer.)';\n",
       "    } else if (res.status === 409) {\n",
       "        div.innerHTML = 'Visualization no longer in scope. Re-run this cell' +\n",
       "                        ' to see the visualization.';\n",
       "    } else if (res.ok) {\n",
       "        url = res.url;\n",
       "        div.innerHTML = '<iframe src=\\'' + url + '\\' style=\\'' +\n",
       "                        'width: 100%; height: 700px; border: 0;\\'>' +\n",
       "                        '</iframe><hr />Open in a: <a href=\\'' + url + '\\'' +\n",
       "                        ' target=\\'_blank\\'>new window</a>'\n",
       "    } else {\n",
       "        div.innerHTML = 'Something has gone wrong. Check notebook server for' +\n",
       "                        ' errors.';\n",
       "    }\n",
       "});\n",
       "})(this.parentElement, '/qiime2/redirect?location=/media/michal/disk_large/.tmp/qiime2-archive-60szph67')\" src=\"data:image/gif;base64,R0lGODlhAQABAIAAAP///wAAACH5BAEAAAAALAAAAAABAAEAAAICRAEAOw==\" /></div>"
      ],
      "text/plain": [
       "<visualization: Visualization uuid: 8a9d3944-d1d0-49b0-a6f9-b4f9e140cd84>"
      ]
     },
     "execution_count": 37,
     "metadata": {},
     "output_type": "execute_result"
    }
   ],
   "source": [
    "emperor_plot"
   ]
  },
  {
   "cell_type": "markdown",
   "metadata": {},
   "source": [
    "We can also use the results above to generate our own plots using any of the Python plotting libraries - see below."
   ]
  },
  {
   "cell_type": "code",
   "execution_count": 38,
   "metadata": {
    "execution": {
     "iopub.execute_input": "2022-07-19T21:15:51.438410Z",
     "iopub.status.busy": "2022-07-19T21:15:51.438229Z",
     "iopub.status.idle": "2022-07-19T21:15:51.449446Z",
     "shell.execute_reply": "2022-07-19T21:15:51.449061Z",
     "shell.execute_reply.started": "2022-07-19T21:15:51.438393Z"
    },
    "tags": []
   },
   "outputs": [],
   "source": [
    "tsne_table = genome_tsne.view(skbio.OrdinationResults)\n",
    "tsne_df = tsne_table.samples"
   ]
  },
  {
   "cell_type": "code",
   "execution_count": 39,
   "metadata": {
    "execution": {
     "iopub.execute_input": "2022-07-19T21:15:51.450350Z",
     "iopub.status.busy": "2022-07-19T21:15:51.450004Z",
     "iopub.status.idle": "2022-07-19T21:15:51.465069Z",
     "shell.execute_reply": "2022-07-19T21:15:51.464686Z",
     "shell.execute_reply.started": "2022-07-19T21:15:51.450332Z"
    },
    "tags": []
   },
   "outputs": [],
   "source": [
    "# switch to inline plotting\n",
    "%matplotlib inline"
   ]
  },
  {
   "cell_type": "code",
   "execution_count": 40,
   "metadata": {
    "execution": {
     "iopub.execute_input": "2022-07-19T21:15:51.465811Z",
     "iopub.status.busy": "2022-07-19T21:15:51.465639Z",
     "iopub.status.idle": "2022-07-19T21:15:51.639069Z",
     "shell.execute_reply": "2022-07-19T21:15:51.638546Z",
     "shell.execute_reply.started": "2022-07-19T21:15:51.465793Z"
    },
    "tags": []
   },
   "outputs": [
    {
     "data": {
      "image/png": "[encoded data removed]",
      "text/plain": [
       "<Figure size 576x576 with 1 Axes>"
      ]
     },
     "metadata": {},
     "output_type": "display_data"
    }
   ],
   "source": [
    "# create a 2D plot of Dim1 vs Dim2\n",
    "\n",
    "sns.set(rc={'figure.figsize':(8, 8), 'font.family': ['Arial']}, style='white')\n",
    "with sns.plotting_context(\"notebook\", font_scale=1.2):\n",
    "    fig = plt.figure()\n",
    "    ax = fig.add_subplot(111)\n",
    "\n",
    "    ax.set_xlabel(f'Axis 1')\n",
    "    ax.set_ylabel(f'Axis 2')\n",
    "    \n",
    "    sns.scatterplot(\n",
    "        x=tsne_df.iloc[:, 0],\n",
    "        y=tsne_df.iloc[:, 1],\n",
    "        s=70,\n",
    "        hue=sra_meta_smp_df['region'],\n",
    "        ax=ax,\n",
    "        alpha=0.75\n",
    "    )\n",
    "\n",
    "    ax.set_xticks([])\n",
    "    ax.set_yticks([])\n",
    "    \n",
    "    plt.tight_layout()"
   ]
  },
  {
   "cell_type": "code",
   "execution_count": 41,
   "metadata": {
    "execution": {
     "iopub.execute_input": "2022-07-19T21:15:51.644690Z",
     "iopub.status.busy": "2022-07-19T21:15:51.644532Z",
     "iopub.status.idle": "2022-07-19T21:15:51.701121Z",
     "shell.execute_reply": "2022-07-19T21:15:51.700669Z",
     "shell.execute_reply.started": "2022-07-19T21:15:51.644677Z"
    },
    "tags": []
   },
   "outputs": [
    {
     "name": "stderr",
     "output_type": "stream",
     "text": [
      "The PostScript backend does not support transparency; partially transparent artists will be rendered opaque.\n"
     ]
    }
   ],
   "source": [
    "fig.savefig(os.path.join(data_loc, 'sars_cov_2_tsne.eps'))"
   ]
  },
  {
   "cell_type": "markdown",
   "metadata": {},
   "source": [
    "We can see from the plots above that when the `region` column is used to color the data points, genomes group into clusters corresponding to their geographical origin."
   ]
  },
  {
   "cell_type": "markdown",
   "metadata": {
    "tags": []
   },
   "source": [
    "## Classify samples using hash signatures\n",
    "We can also more quantitatively test whether MinHash genome signatures generated by _sourmash_ are predictive of SARS-CoV-2 geographical origin. To do that we can use the `classify_samples_from_dist` method from the `q2-sample-classifier` plugin."
   ]
  },
  {
   "cell_type": "code",
   "execution_count": 42,
   "metadata": {
    "execution": {
     "iopub.execute_input": "2022-07-19T21:15:51.701738Z",
     "iopub.status.busy": "2022-07-19T21:15:51.701618Z",
     "iopub.status.idle": "2022-07-19T21:15:52.100092Z",
     "shell.execute_reply": "2022-07-19T21:15:52.099646Z",
     "shell.execute_reply.started": "2022-07-19T21:15:51.701726Z"
    },
    "tags": []
   },
   "outputs": [],
   "source": [
    "predictions_out = os.path.join(data_loc, 'predictions.qza')\n",
    "accuracy_out = os.path.join(data_loc, 'accuracy.qzv')\n",
    "if not os.path.isfile(predictions_out):\n",
    "    predictions, accuracy, = sample_classifier.pipelines.classify_samples_from_dist(\n",
    "        distance_matrix=hash_compare,\n",
    "        metadata = q2.CategoricalMetadataColumn(sra_meta_smp_df['region']),\n",
    "        k=3,\n",
    "        cv=10,\n",
    "        random_state=random_seed,\n",
    "        n_jobs=n_jobs\n",
    "    )\n",
    "    predictions.save(predictions_out)\n",
    "    accuracy.save(accuracy_out)\n",
    "else:\n",
    "    print(f'Classification artifacts exist and will be read from {predictions_out} and {accuracy_out}.')\n",
    "    predictions = q2.Artifact.load(predictions_out)\n",
    "    accuracy = q2.Visualization.load(accuracy_out)"
   ]
  },
  {
   "cell_type": "code",
   "execution_count": 43,
   "metadata": {
    "execution": {
     "iopub.execute_input": "2022-07-19T21:15:52.101012Z",
     "iopub.status.busy": "2022-07-19T21:15:52.100862Z",
     "iopub.status.idle": "2022-07-19T21:15:52.103738Z",
     "shell.execute_reply": "2022-07-19T21:15:52.103383Z",
     "shell.execute_reply.started": "2022-07-19T21:15:52.100998Z"
    },
    "tags": []
   },
   "outputs": [
    {
     "data": {
      "text/html": [
       "<div><img onload=\"(function(div, url){\n",
       "if (typeof require !== 'undefined') {\n",
       "    var baseURL = require.toUrl('').split('/').slice(0, -2).join('/');\n",
       "} else {\n",
       "    var baseURL = JSON.parse(\n",
       "        document.getElementById('jupyter-config-data').innerHTML\n",
       "    ).baseUrl.slice(0, -1);\n",
       "}\n",
       "url = baseURL + url;\n",
       "fetch(url).then(function(res) {\n",
       "    if (res.status === 404) {\n",
       "        div.innerHTML = 'Install QIIME 2 Jupyter extension with:<br />' +\n",
       "                        '<code>jupyter serverextension enable --py qiime2' +\n",
       "                        ' --sys-prefix</code><br />then restart your server.' +\n",
       "                        '<br /><br />(Interactive output not available on ' +\n",
       "                        'static notebook viewer services like nbviewer.)';\n",
       "    } else if (res.status === 409) {\n",
       "        div.innerHTML = 'Visualization no longer in scope. Re-run this cell' +\n",
       "                        ' to see the visualization.';\n",
       "    } else if (res.ok) {\n",
       "        url = res.url;\n",
       "        div.innerHTML = '<iframe src=\\'' + url + '\\' style=\\'' +\n",
       "                        'width: 100%; height: 700px; border: 0;\\'>' +\n",
       "                        '</iframe><hr />Open in a: <a href=\\'' + url + '\\'' +\n",
       "                        ' target=\\'_blank\\'>new window</a>'\n",
       "    } else {\n",
       "        div.innerHTML = 'Something has gone wrong. Check notebook server for' +\n",
       "                        ' errors.';\n",
       "    }\n",
       "});\n",
       "})(this.parentElement, '/qiime2/redirect?location=/media/michal/disk_large/.tmp/qiime2-archive-dvl0v5o2')\" src=\"data:image/gif;base64,R0lGODlhAQABAIAAAP///wAAACH5BAEAAAAALAAAAAABAAEAAAICRAEAOw==\" /></div>"
      ],
      "text/plain": [
       "<visualization: Visualization uuid: fad816f1-bc60-4b7d-977d-cdf55386a477>"
      ]
     },
     "execution_count": 43,
     "metadata": {},
     "output_type": "execute_result"
    }
   ],
   "source": [
    "accuracy"
   ]
  },
  {
   "cell_type": "markdown",
   "metadata": {
    "pycharm": {
     "name": "#%% md\n"
    }
   },
   "source": [
    "Geographic region can be sucessfully classified using only genome hashes with a high degree of accuracy (~92%). **Importantly, a more detailed analysis would be required to investigate the potential influence of variables that were not controlled for in this analysis.** The `test_size = 0` warning can be disregarded here: classification was evaluated using 10-fold cross-validation."
   ]
  }
 ],
 "metadata": {
  "kernelspec": {
   "display_name": "Python 3 (ipykernel)",
   "language": "python",
   "name": "python3"
  },
  "language_info": {
   "codemirror_mode": {
    "name": "ipython",
    "version": 3
   },
   "file_extension": ".py",
   "mimetype": "text/x-python",
   "name": "python",
   "nbconvert_exporter": "python",
   "pygments_lexer": "ipython3",
   "version": "3.8.13"
  }
 },
 "nbformat": 4,
 "nbformat_minor": 4
}
