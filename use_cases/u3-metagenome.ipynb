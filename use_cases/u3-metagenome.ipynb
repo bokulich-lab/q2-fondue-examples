{
 "cells": [
  {
   "cell_type": "markdown",
   "id": "42370c79-4522-49e8-8738-aca622a8cc4c",
   "metadata": {},
   "source": [
    "## Setup\n",
    "\n",
    "Necessary imports, variable and function definitions.\n",
    "\n",
    "__Notes:__ \n",
    "1. Execution of the sequence-based part of this notebook requires a very large amount of disk space (>1TB).\n",
    "2. **This is merely a demonstration of what sort of analysis could be performed with data fetched using q2-fondue. It does not control for study covariates and should not be replicated directly in a proper meta-analysis.**\n",
    "3. If you are viewing this notebook directly on GitHub, you will not be able to see the QIIME 2 visualization outputs. You can, however, find all the visualizations in the `u3-metagenome-results` directory and view those on [view.qiime2.org](view.qiime2.org)."
   ]
  },
  {
   "cell_type": "code",
   "execution_count": 1,
   "id": "f45ffbd5-862f-45a6-bf62-0e2fb87c99bd",
   "metadata": {
    "execution": {
     "iopub.execute_input": "2022-07-20T05:23:25.038441Z",
     "iopub.status.busy": "2022-07-20T05:23:25.038319Z",
     "iopub.status.idle": "2022-07-20T05:23:28.924881Z",
     "shell.execute_reply": "2022-07-20T05:23:28.924417Z",
     "shell.execute_reply.started": "2022-07-20T05:23:25.038410Z"
    },
    "tags": []
   },
   "outputs": [],
   "source": [
    "import os\n",
    "\n",
    "import matplotlib.pyplot as plt\n",
    "import skbio\n",
    "import pandas as pd\n",
    "import qiime2 as q2\n",
    "import seaborn as sns\n",
    "\n",
    "from qiime2.plugins import (\n",
    "    fondue, coordinates, demux, sourmash, \n",
    "    cutadapt, diversity, emperor\n",
    ")\n",
    "\n",
    "%matplotlib inline\n",
    "\n",
    "results_path = 'u3-metagenome-results'\n",
    "if not os.path.isdir(results_path):\n",
    "    os.mkdir(results_path)"
   ]
  },
  {
   "cell_type": "code",
   "execution_count": 2,
   "id": "a15cc005",
   "metadata": {
    "collapsed": false,
    "execution": {
     "iopub.execute_input": "2022-07-20T05:23:28.926112Z",
     "iopub.status.busy": "2022-07-20T05:23:28.925886Z",
     "iopub.status.idle": "2022-07-20T05:23:28.928504Z",
     "shell.execute_reply": "2022-07-20T05:23:28.928186Z",
     "shell.execute_reply.started": "2022-07-20T05:23:28.926098Z"
    },
    "jupyter": {
     "outputs_hidden": false
    },
    "pycharm": {
     "name": "#%%\n"
    },
    "tags": []
   },
   "outputs": [],
   "source": [
    "email = 'your@email.com'\n",
    "n_jobs = 8\n",
    "random_seed = 1\n",
    "\n",
    "marine_meta_path = os.path.join(results_path, 'tara_metadata.tsv')\n",
    "marine_meta_clean_path = os.path.join(results_path, 'tara_metadata_clean.tsv')"
   ]
  },
  {
   "cell_type": "code",
   "execution_count": 3,
   "id": "48190d13-bbbf-41db-92ee-413c002c1ffa",
   "metadata": {
    "execution": {
     "iopub.execute_input": "2022-07-20T05:23:28.929056Z",
     "iopub.status.busy": "2022-07-20T05:23:28.928938Z",
     "iopub.status.idle": "2022-07-20T05:23:28.952074Z",
     "shell.execute_reply": "2022-07-20T05:23:28.951724Z",
     "shell.execute_reply.started": "2022-07-20T05:23:28.929044Z"
    },
    "tags": []
   },
   "outputs": [],
   "source": [
    "def clean_up_column(df, col, max_value):\n",
    "    \"\"\"\n",
    "    Cleans up specified DataFrame column by converting it\n",
    "    to a numeric type and removing values beyond the\n",
    "    indicated maximum.\n",
    "    \"\"\"\n",
    "    if isinstance(df.iloc[0][col], str):\n",
    "        df = df[~marine_meta_df[col].str.contains('-')]\n",
    "    df[col] = pd.to_numeric(df[col])\n",
    "    df = df[df[col] < max_value]\n",
    "    return df"
   ]
  },
  {
   "cell_type": "markdown",
   "id": "06a5b0d0-99cd-4c8a-93eb-a8230f4385c7",
   "metadata": {},
   "source": [
    "## Fetch TARA Oceans shotgun metagenome metadata\n",
    "\n",
    "We will fetch metadata for all the **shotgun sequencing experiments** for size fractionated samples taken all over the world (including the Polar Circle). For overview of BioProject IDs see the [respective entry on ENA](https://www.ebi.ac.uk/ena/browser/view/PRJEB402)."
   ]
  },
  {
   "cell_type": "code",
   "execution_count": 4,
   "id": "504d96df-87fa-4cca-8798-e9feb3f041dc",
   "metadata": {
    "execution": {
     "iopub.execute_input": "2022-07-20T05:23:28.952653Z",
     "iopub.status.busy": "2022-07-20T05:23:28.952531Z",
     "iopub.status.idle": "2022-07-20T05:23:28.984559Z",
     "shell.execute_reply": "2022-07-20T05:23:28.984183Z",
     "shell.execute_reply.started": "2022-07-20T05:23:28.952640Z"
    },
    "tags": []
   },
   "outputs": [],
   "source": [
    "ids = ['PRJEB1787', 'PRJEB4352', 'PRJEB4419', 'PRJEB9691', 'PRJEB9740', 'PRJEB9742']\n",
    "ids = pd.Series(ids, name='ID')\n",
    "ids = q2.Artifact.import_data('NCBIAccessionIDs', ids)"
   ]
  },
  {
   "cell_type": "code",
   "execution_count": 5,
   "id": "3ef46f23-b80d-4f3a-b8f0-04bc16b76bb6",
   "metadata": {
    "execution": {
     "iopub.execute_input": "2022-07-20T05:23:28.985180Z",
     "iopub.status.busy": "2022-07-20T05:23:28.985051Z",
     "iopub.status.idle": "2022-07-20T05:23:29.013620Z",
     "shell.execute_reply": "2022-07-20T05:23:29.013162Z",
     "shell.execute_reply.started": "2022-07-20T05:23:28.985167Z"
    },
    "tags": []
   },
   "outputs": [
    {
     "name": "stdout",
     "output_type": "stream",
     "text": [
      "Metadata was read from file \"u3-metagenome-results/tara_metadata.tsv\"\n",
      "Metadata table contains 1479 samples and 74 columns.\n"
     ]
    }
   ],
   "source": [
    "if not os.path.isfile(marine_meta_path):\n",
    "    marine_meta, _,  = fondue.methods.get_metadata(\n",
    "        accession_ids=ids,\n",
    "        email=email,\n",
    "        n_jobs=n_jobs,\n",
    "        log_level='WARNING'\n",
    "    )\n",
    "    marine_meta_df = marine_meta.view(pd.DataFrame)\n",
    "    marine_meta_df.to_csv(marine_meta_path, sep='\\t', header=True, index=True)\n",
    "else:\n",
    "    marine_meta_df = pd.read_csv(marine_meta_path, sep='\\t', index_col=0)\n",
    "    marine_meta_df['Public'] = marine_meta_df['Public'].astype(str)\n",
    "    print(f'Metadata was read from file \"{marine_meta_path}\"')\n",
    "    \n",
    "print(f'Metadata table contains {marine_meta_df.shape[0]} samples and {marine_meta_df.shape[1]} columns.')    "
   ]
  },
  {
   "cell_type": "markdown",
   "id": "c0b6eeb2-f62c-4617-9a2d-046ce7ec4331",
   "metadata": {},
   "source": [
    "## Investigate and clean up the metadata\n",
    "We will look what columns are available in the metadata table and prepare it for the following analysis."
   ]
  },
  {
   "cell_type": "code",
   "execution_count": 6,
   "id": "0edc7d88-c17e-4409-911a-c5dd4a2487cb",
   "metadata": {
    "execution": {
     "iopub.execute_input": "2022-07-20T05:23:29.014355Z",
     "iopub.status.busy": "2022-07-20T05:23:29.014233Z",
     "iopub.status.idle": "2022-07-20T05:23:29.029424Z",
     "shell.execute_reply": "2022-07-20T05:23:29.029011Z",
     "shell.execute_reply.started": "2022-07-20T05:23:29.014342Z"
    },
    "tags": []
   },
   "outputs": [
    {
     "data": {
      "text/html": [
       "<div>\n",
       "<style scoped>\n",
       "    .dataframe tbody tr th:only-of-type {\n",
       "        vertical-align: middle;\n",
       "    }\n",
       "\n",
       "    .dataframe tbody tr th {\n",
       "        vertical-align: top;\n",
       "    }\n",
       "\n",
       "    .dataframe thead th {\n",
       "        text-align: right;\n",
       "    }\n",
       "</style>\n",
       "<table border=\"1\" class=\"dataframe\">\n",
       "  <thead>\n",
       "    <tr style=\"text-align: right;\">\n",
       "      <th></th>\n",
       "      <th>Experiment ID</th>\n",
       "      <th>Biosample ID</th>\n",
       "      <th>Bioproject ID</th>\n",
       "      <th>Study ID</th>\n",
       "      <th>Sample Accession</th>\n",
       "      <th>Organism</th>\n",
       "      <th>Library Source</th>\n",
       "      <th>Library Layout</th>\n",
       "      <th>Library Selection</th>\n",
       "      <th>Instrument</th>\n",
       "      <th>...</th>\n",
       "      <th>Sra accession [sample]</th>\n",
       "      <th>Submitter id [sample]</th>\n",
       "      <th>Tax ID</th>\n",
       "      <th>Temperature [sample]</th>\n",
       "      <th>Title</th>\n",
       "      <th>Title [sample]</th>\n",
       "      <th>Environment (feature) further details [sample]</th>\n",
       "      <th>Protocol description [sample]</th>\n",
       "      <th>Sample material label [sample]</th>\n",
       "      <th>Instrument Model [run]</th>\n",
       "    </tr>\n",
       "    <tr>\n",
       "      <th>ID</th>\n",
       "      <th></th>\n",
       "      <th></th>\n",
       "      <th></th>\n",
       "      <th></th>\n",
       "      <th></th>\n",
       "      <th></th>\n",
       "      <th></th>\n",
       "      <th></th>\n",
       "      <th></th>\n",
       "      <th></th>\n",
       "      <th></th>\n",
       "      <th></th>\n",
       "      <th></th>\n",
       "      <th></th>\n",
       "      <th></th>\n",
       "      <th></th>\n",
       "      <th></th>\n",
       "      <th></th>\n",
       "      <th></th>\n",
       "      <th></th>\n",
       "      <th></th>\n",
       "    </tr>\n",
       "  </thead>\n",
       "  <tbody>\n",
       "    <tr>\n",
       "      <th>ERR164407</th>\n",
       "      <td>ERX140284</td>\n",
       "      <td>SAMEA2591108</td>\n",
       "      <td>PRJEB1787</td>\n",
       "      <td>ERP001736</td>\n",
       "      <td>ERS478017</td>\n",
       "      <td>marine metagenome</td>\n",
       "      <td>METAGENOMIC</td>\n",
       "      <td>SINGLE</td>\n",
       "      <td>RANDOM</td>\n",
       "      <td>454 GS FLX Titanium</td>\n",
       "      <td>...</td>\n",
       "      <td>ERS478017</td>\n",
       "      <td>NaN</td>\n",
       "      <td>408172.0</td>\n",
       "      <td>20.460612</td>\n",
       "      <td>TARA_A100001015</td>\n",
       "      <td>TARA_20091215T1041Z_030_EVENT_PUMP_P_S_(5-7m)_...</td>\n",
       "      <td>NaN</td>\n",
       "      <td>NaN</td>\n",
       "      <td>NaN</td>\n",
       "      <td>NaN</td>\n",
       "    </tr>\n",
       "    <tr>\n",
       "      <th>ERR164408</th>\n",
       "      <td>ERX140285</td>\n",
       "      <td>SAMEA2591098</td>\n",
       "      <td>PRJEB1787</td>\n",
       "      <td>ERP001736</td>\n",
       "      <td>ERS477998</td>\n",
       "      <td>marine metagenome</td>\n",
       "      <td>METAGENOMIC</td>\n",
       "      <td>SINGLE</td>\n",
       "      <td>RANDOM</td>\n",
       "      <td>454 GS FLX Titanium</td>\n",
       "      <td>...</td>\n",
       "      <td>ERS477998</td>\n",
       "      <td>NaN</td>\n",
       "      <td>408172.0</td>\n",
       "      <td>15.194062</td>\n",
       "      <td>TARA_E500000081</td>\n",
       "      <td>TARA_20091118T1240Z_023_EVENT_PUMP_P_D_(55-57m...</td>\n",
       "      <td>NaN</td>\n",
       "      <td>NaN</td>\n",
       "      <td>NaN</td>\n",
       "      <td>NaN</td>\n",
       "    </tr>\n",
       "    <tr>\n",
       "      <th>ERR164409</th>\n",
       "      <td>ERX140286</td>\n",
       "      <td>SAMEA2591084</td>\n",
       "      <td>PRJEB1787</td>\n",
       "      <td>ERP001736</td>\n",
       "      <td>ERS477979</td>\n",
       "      <td>marine metagenome</td>\n",
       "      <td>METAGENOMIC</td>\n",
       "      <td>SINGLE</td>\n",
       "      <td>RANDOM</td>\n",
       "      <td>454 GS FLX Titanium</td>\n",
       "      <td>...</td>\n",
       "      <td>ERS477979</td>\n",
       "      <td>NaN</td>\n",
       "      <td>408172.0</td>\n",
       "      <td>17.321979</td>\n",
       "      <td>TARA_E500000075</td>\n",
       "      <td>TARA_20091118T0841Z_023_EVENT_PUMP_P_S_(5-7m)_...</td>\n",
       "      <td>NaN</td>\n",
       "      <td>NaN</td>\n",
       "      <td>NaN</td>\n",
       "      <td>NaN</td>\n",
       "    </tr>\n",
       "    <tr>\n",
       "      <th>ERR1701760</th>\n",
       "      <td>ERX1772048</td>\n",
       "      <td>SAMEA2620084</td>\n",
       "      <td>PRJEB1787</td>\n",
       "      <td>ERP001736</td>\n",
       "      <td>ERS488919</td>\n",
       "      <td>marine metagenome</td>\n",
       "      <td>METAGENOMIC</td>\n",
       "      <td>PAIRED</td>\n",
       "      <td>RANDOM</td>\n",
       "      <td>Illumina HiSeq 2000</td>\n",
       "      <td>...</td>\n",
       "      <td>NaN</td>\n",
       "      <td>TARA_B100000105</td>\n",
       "      <td>408172.0</td>\n",
       "      <td>26.812225</td>\n",
       "      <td>TARA_20100318T1133Z_039_EVENT_PUMP_P_D_(25 m)_...</td>\n",
       "      <td>NaN</td>\n",
       "      <td>NaN</td>\n",
       "      <td>NaN</td>\n",
       "      <td>NaN</td>\n",
       "      <td>NaN</td>\n",
       "    </tr>\n",
       "    <tr>\n",
       "      <th>ERR1700889</th>\n",
       "      <td>ERX1771177</td>\n",
       "      <td>SAMEA2656965</td>\n",
       "      <td>PRJEB4352</td>\n",
       "      <td>ERP003628</td>\n",
       "      <td>ERS488900</td>\n",
       "      <td>marine metagenome</td>\n",
       "      <td>METAGENOMIC</td>\n",
       "      <td>PAIRED</td>\n",
       "      <td>RANDOM</td>\n",
       "      <td>Illumina HiSeq 2000</td>\n",
       "      <td>...</td>\n",
       "      <td>NaN</td>\n",
       "      <td>TARA_N000000013</td>\n",
       "      <td>408172.0</td>\n",
       "      <td>27.206100</td>\n",
       "      <td>TARA_20100318T0820Z_039_EVENT_NET_N1+N2_S_(5 m...</td>\n",
       "      <td>NaN</td>\n",
       "      <td>NaN</td>\n",
       "      <td>NaN</td>\n",
       "      <td>NaN</td>\n",
       "      <td>NaN</td>\n",
       "    </tr>\n",
       "  </tbody>\n",
       "</table>\n",
       "<p>5 rows × 74 columns</p>\n",
       "</div>"
      ],
      "text/plain": [
       "           Experiment ID  Biosample ID Bioproject ID   Study ID  \\\n",
       "ID                                                                \n",
       "ERR164407      ERX140284  SAMEA2591108     PRJEB1787  ERP001736   \n",
       "ERR164408      ERX140285  SAMEA2591098     PRJEB1787  ERP001736   \n",
       "ERR164409      ERX140286  SAMEA2591084     PRJEB1787  ERP001736   \n",
       "ERR1701760    ERX1772048  SAMEA2620084     PRJEB1787  ERP001736   \n",
       "ERR1700889    ERX1771177  SAMEA2656965     PRJEB4352  ERP003628   \n",
       "\n",
       "           Sample Accession           Organism Library Source Library Layout  \\\n",
       "ID                                                                             \n",
       "ERR164407         ERS478017  marine metagenome    METAGENOMIC         SINGLE   \n",
       "ERR164408         ERS477998  marine metagenome    METAGENOMIC         SINGLE   \n",
       "ERR164409         ERS477979  marine metagenome    METAGENOMIC         SINGLE   \n",
       "ERR1701760        ERS488919  marine metagenome    METAGENOMIC         PAIRED   \n",
       "ERR1700889        ERS488900  marine metagenome    METAGENOMIC         PAIRED   \n",
       "\n",
       "           Library Selection           Instrument  ... Sra accession [sample]  \\\n",
       "ID                                                 ...                          \n",
       "ERR164407             RANDOM  454 GS FLX Titanium  ...              ERS478017   \n",
       "ERR164408             RANDOM  454 GS FLX Titanium  ...              ERS477998   \n",
       "ERR164409             RANDOM  454 GS FLX Titanium  ...              ERS477979   \n",
       "ERR1701760            RANDOM  Illumina HiSeq 2000  ...                    NaN   \n",
       "ERR1700889            RANDOM  Illumina HiSeq 2000  ...                    NaN   \n",
       "\n",
       "            Submitter id [sample]    Tax ID  Temperature [sample]  \\\n",
       "ID                                                                  \n",
       "ERR164407                     NaN  408172.0             20.460612   \n",
       "ERR164408                     NaN  408172.0             15.194062   \n",
       "ERR164409                     NaN  408172.0             17.321979   \n",
       "ERR1701760        TARA_B100000105  408172.0             26.812225   \n",
       "ERR1700889        TARA_N000000013  408172.0             27.206100   \n",
       "\n",
       "                                                        Title  \\\n",
       "ID                                                              \n",
       "ERR164407                                     TARA_A100001015   \n",
       "ERR164408                                     TARA_E500000081   \n",
       "ERR164409                                     TARA_E500000075   \n",
       "ERR1701760  TARA_20100318T1133Z_039_EVENT_PUMP_P_D_(25 m)_...   \n",
       "ERR1700889  TARA_20100318T0820Z_039_EVENT_NET_N1+N2_S_(5 m...   \n",
       "\n",
       "                                               Title [sample]  \\\n",
       "ID                                                              \n",
       "ERR164407   TARA_20091215T1041Z_030_EVENT_PUMP_P_S_(5-7m)_...   \n",
       "ERR164408   TARA_20091118T1240Z_023_EVENT_PUMP_P_D_(55-57m...   \n",
       "ERR164409   TARA_20091118T0841Z_023_EVENT_PUMP_P_S_(5-7m)_...   \n",
       "ERR1701760                                                NaN   \n",
       "ERR1700889                                                NaN   \n",
       "\n",
       "           Environment (feature) further details [sample]  \\\n",
       "ID                                                          \n",
       "ERR164407                                             NaN   \n",
       "ERR164408                                             NaN   \n",
       "ERR164409                                             NaN   \n",
       "ERR1701760                                            NaN   \n",
       "ERR1700889                                            NaN   \n",
       "\n",
       "           Protocol description [sample]  Sample material label [sample]  \\\n",
       "ID                                                                         \n",
       "ERR164407                            NaN                             NaN   \n",
       "ERR164408                            NaN                             NaN   \n",
       "ERR164409                            NaN                             NaN   \n",
       "ERR1701760                           NaN                             NaN   \n",
       "ERR1700889                           NaN                             NaN   \n",
       "\n",
       "           Instrument Model [run]  \n",
       "ID                                 \n",
       "ERR164407                     NaN  \n",
       "ERR164408                     NaN  \n",
       "ERR164409                     NaN  \n",
       "ERR1701760                    NaN  \n",
       "ERR1700889                    NaN  \n",
       "\n",
       "[5 rows x 74 columns]"
      ]
     },
     "execution_count": 6,
     "metadata": {},
     "output_type": "execute_result"
    }
   ],
   "source": [
    "marine_meta_df.head()"
   ]
  },
  {
   "cell_type": "code",
   "execution_count": 7,
   "id": "386c3eb5-371f-4c1e-897b-e63d9b2db219",
   "metadata": {
    "execution": {
     "iopub.execute_input": "2022-07-20T05:23:29.030838Z",
     "iopub.status.busy": "2022-07-20T05:23:29.030707Z",
     "iopub.status.idle": "2022-07-20T05:23:29.033690Z",
     "shell.execute_reply": "2022-07-20T05:23:29.033344Z",
     "shell.execute_reply.started": "2022-07-20T05:23:29.030825Z"
    },
    "tags": []
   },
   "outputs": [
    {
     "data": {
      "text/plain": [
       "Index(['Experiment ID', 'Biosample ID', 'Bioproject ID', 'Study ID',\n",
       "       'Sample Accession', 'Organism', 'Library Source', 'Library Layout',\n",
       "       'Library Selection', 'Instrument', 'Platform', 'Bases', 'Spots',\n",
       "       'Avg Spot Len', 'Bytes', 'Public', 'Alias [sample]', 'Center Name',\n",
       "       'Chlorophyll sensor [sample]', 'Citation [sample]', 'Depth [sample]',\n",
       "       'Description [sample]', 'Ena checklist [sample]',\n",
       "       'Ena first public [sample]', 'Ena last update [sample]',\n",
       "       'Ena-first-public [run]', 'Ena-first-public [study]',\n",
       "       'Ena-last-update [run]', 'Ena-last-update [study]',\n",
       "       'Environment (biome) [sample]', 'Environment (feature) [sample]',\n",
       "       'Environment (material) [sample]', 'Environmental package [sample]',\n",
       "       'Event date/time end [sample]', 'Event date/time start [sample]',\n",
       "       'Event label [sample]', 'External id [sample]',\n",
       "       'Further details [sample]', 'Insdc center alias [sample]',\n",
       "       'Insdc center name [sample]', 'Insdc first public [sample]',\n",
       "       'Insdc last update [sample]', 'Insdc status [sample]',\n",
       "       'Last update date [sample]', 'Latitude end [sample]',\n",
       "       'Latitude start [sample]', 'Library Name', 'Longitude end [sample]',\n",
       "       'Longitude start [sample]', 'Marine region [sample]', 'Name',\n",
       "       'Nitrate sensor [sample]', 'Oxygen sensor [sample]',\n",
       "       'Project name [sample]', 'Protocol label [sample]',\n",
       "       'Salinity sensor [sample]', 'Sample collection device [sample]',\n",
       "       'Sample name [sample]', 'Sample status [sample]',\n",
       "       'Sampling campaign [sample]', 'Sampling platform [sample]',\n",
       "       'Sampling station [sample]', 'Size fraction lower threshold [sample]',\n",
       "       'Size fraction upper threshold [sample]', 'Sra accession [sample]',\n",
       "       'Submitter id [sample]', 'Tax ID', 'Temperature [sample]', 'Title',\n",
       "       'Title [sample]', 'Environment (feature) further details [sample]',\n",
       "       'Protocol description [sample]', 'Sample material label [sample]',\n",
       "       'Instrument Model [run]'],\n",
       "      dtype='object')"
      ]
     },
     "execution_count": 7,
     "metadata": {},
     "output_type": "execute_result"
    }
   ],
   "source": [
    "marine_meta_df.columns"
   ]
  },
  {
   "cell_type": "markdown",
   "id": "3f107713-4547-4f8f-9e78-1896855e08cc",
   "metadata": {},
   "source": [
    "As we want to plot the geographical location of all the samples, we will clean up the required columns."
   ]
  },
  {
   "cell_type": "code",
   "execution_count": 8,
   "id": "6b8a9ba7-6d75-4420-a439-54662c7b3003",
   "metadata": {
    "execution": {
     "iopub.execute_input": "2022-07-20T05:23:29.034232Z",
     "iopub.status.busy": "2022-07-20T05:23:29.034113Z",
     "iopub.status.idle": "2022-07-20T05:23:29.042472Z",
     "shell.execute_reply": "2022-07-20T05:23:29.042084Z",
     "shell.execute_reply.started": "2022-07-20T05:23:29.034220Z"
    },
    "tags": []
   },
   "outputs": [
    {
     "data": {
      "text/plain": [
       "(1407, 74)"
      ]
     },
     "execution_count": 8,
     "metadata": {},
     "output_type": "execute_result"
    }
   ],
   "source": [
    "# remove NaN values\n",
    "marine_meta_df = marine_meta_df[\n",
    "    marine_meta_df['Latitude start [sample]'].notna() & marine_meta_df['Longitude start [sample]'].notna()\n",
    "]\n",
    "marine_meta_df.shape"
   ]
  },
  {
   "cell_type": "code",
   "execution_count": 9,
   "id": "d962f85f-a31e-4c00-86be-41bc9bbc6a53",
   "metadata": {
    "execution": {
     "iopub.execute_input": "2022-07-20T05:23:29.043057Z",
     "iopub.status.busy": "2022-07-20T05:23:29.042929Z",
     "iopub.status.idle": "2022-07-20T05:23:29.050352Z",
     "shell.execute_reply": "2022-07-20T05:23:29.050026Z",
     "shell.execute_reply.started": "2022-07-20T05:23:29.043044Z"
    },
    "tags": []
   },
   "outputs": [],
   "source": [
    "# ensure correct data type\n",
    "for col in ['Latitude start [sample]', 'Longitude start [sample]']:\n",
    "    marine_meta_df[col] = pd.to_numeric(marine_meta_df[col])"
   ]
  },
  {
   "cell_type": "code",
   "execution_count": 10,
   "id": "b7daad04-50bf-4f92-ac42-ae46e6d125e1",
   "metadata": {
    "execution": {
     "iopub.execute_input": "2022-07-20T05:23:29.050896Z",
     "iopub.status.busy": "2022-07-20T05:23:29.050780Z",
     "iopub.status.idle": "2022-07-20T05:23:29.060583Z",
     "shell.execute_reply": "2022-07-20T05:23:29.060190Z",
     "shell.execute_reply.started": "2022-07-20T05:23:29.050884Z"
    },
    "tags": []
   },
   "outputs": [
    {
     "data": {
      "text/plain": [
       "(1407, 74)"
      ]
     },
     "execution_count": 10,
     "metadata": {},
     "output_type": "execute_result"
    }
   ],
   "source": [
    "# ensure correct value range\n",
    "marine_meta_df = marine_meta_df[\n",
    "    (-90 <= marine_meta_df['Latitude start [sample]']) &  (marine_meta_df['Latitude start [sample]'] <= 90) & \\\n",
    "    (-180 <= marine_meta_df['Longitude start [sample]']) &  (marine_meta_df['Longitude start [sample]'] <= 180)\n",
    "]\n",
    "marine_meta_df.shape"
   ]
  },
  {
   "cell_type": "markdown",
   "id": "ec06f364-a39c-44c3-9fd0-984a39c91fe2",
   "metadata": {},
   "source": [
    "We will be exploring some other metadata columns - let's clean those up as well."
   ]
  },
  {
   "cell_type": "code",
   "execution_count": 11,
   "id": "a4a36e98-2e88-408a-931f-ae53915a7ab8",
   "metadata": {
    "execution": {
     "iopub.execute_input": "2022-07-20T05:23:29.061184Z",
     "iopub.status.busy": "2022-07-20T05:23:29.061052Z",
     "iopub.status.idle": "2022-07-20T05:23:29.072301Z",
     "shell.execute_reply": "2022-07-20T05:23:29.071885Z",
     "shell.execute_reply.started": "2022-07-20T05:23:29.061171Z"
    },
    "tags": []
   },
   "outputs": [
    {
     "name": "stdout",
     "output_type": "stream",
     "text": [
      "Temperature [sample] (1349, 74)\n",
      "Depth [sample] (1337, 74)\n",
      "Salinity sensor [sample] (1315, 74)\n",
      "Oxygen sensor [sample] (1279, 74)\n",
      "Nitrate sensor [sample] (1049, 74)\n",
      "Chlorophyll sensor [sample] (1049, 74)\n"
     ]
    }
   ],
   "source": [
    "# ensure correct value ranges\n",
    "columns = (\n",
    "    'Temperature [sample]', 'Depth [sample]', 'Salinity sensor [sample]', \n",
    "    'Oxygen sensor [sample]', 'Nitrate sensor [sample]', 'Chlorophyll sensor [sample]'\n",
    ")\n",
    "max_vals = (100, 1000, 100, 500, 100, 10)\n",
    "\n",
    "for col, max_val in zip(columns, max_vals):\n",
    "    marine_meta_df = clean_up_column(marine_meta_df, col, max_val)\n",
    "    print(col, marine_meta_df.shape)"
   ]
  },
  {
   "cell_type": "markdown",
   "id": "00bb5421-c767-4a6c-b053-b700c6a83422",
   "metadata": {},
   "source": [
    "We can also parse the date columns into the datetime format (and convert to string, as required by QIIME 2):"
   ]
  },
  {
   "cell_type": "code",
   "execution_count": 12,
   "id": "23c7ab94-79c3-41ab-a58c-6605b49cadf1",
   "metadata": {
    "execution": {
     "iopub.execute_input": "2022-07-20T05:23:29.072954Z",
     "iopub.status.busy": "2022-07-20T05:23:29.072813Z",
     "iopub.status.idle": "2022-07-20T05:23:29.084601Z",
     "shell.execute_reply": "2022-07-20T05:23:29.084215Z",
     "shell.execute_reply.started": "2022-07-20T05:23:29.072941Z"
    },
    "tags": []
   },
   "outputs": [],
   "source": [
    "for col in ('Event date/time start [sample]', 'Event date/time end [sample]'):\n",
    "    marine_meta_df[col] = pd.to_datetime(marine_meta_df[col], utc=True)\n",
    "    marine_meta_df[col] = marine_meta_df[col].dt.strftime('%Y-%m-%d')"
   ]
  },
  {
   "cell_type": "markdown",
   "id": "b26508c8-bf01-483e-b5d1-6be27f97686b",
   "metadata": {},
   "source": [
    "Finally, we save cleaned metadata to file."
   ]
  },
  {
   "cell_type": "code",
   "execution_count": 13,
   "id": "d8ce5fb8-4641-468f-a64b-dec9f0cd5379",
   "metadata": {
    "execution": {
     "iopub.execute_input": "2022-07-20T05:23:29.085256Z",
     "iopub.status.busy": "2022-07-20T05:23:29.085128Z",
     "iopub.status.idle": "2022-07-20T05:23:29.091234Z",
     "shell.execute_reply": "2022-07-20T05:23:29.090869Z",
     "shell.execute_reply.started": "2022-07-20T05:23:29.085243Z"
    },
    "tags": []
   },
   "outputs": [],
   "source": [
    "if not os.path.isfile(marine_meta_clean_path):\n",
    "    marine_meta_df.to_csv(marine_meta_clean_path, sep='\\t', header=True, index=True)"
   ]
  },
  {
   "cell_type": "markdown",
   "id": "4a173521-ff95-4ff7-a1cc-ff9de66d1fbd",
   "metadata": {},
   "source": [
    "## Summarize samples\n",
    "The samples we fetched belong to several BioProjects which correspond to fractions obtained through size fractionation used to separate viruses, bacteria and protists from one another. Let's first see how many samples we have per project:"
   ]
  },
  {
   "cell_type": "code",
   "execution_count": 14,
   "id": "c5f657d2-a9ec-4e87-8f38-d3bbd70b6db5",
   "metadata": {
    "execution": {
     "iopub.execute_input": "2022-07-20T05:23:29.091951Z",
     "iopub.status.busy": "2022-07-20T05:23:29.091780Z",
     "iopub.status.idle": "2022-07-20T05:23:29.202335Z",
     "shell.execute_reply": "2022-07-20T05:23:29.201795Z",
     "shell.execute_reply.started": "2022-07-20T05:23:29.091933Z"
    },
    "tags": []
   },
   "outputs": [
    {
     "data": {
      "image/png": "[encoded data removed]",
      "text/plain": [
       "<Figure size 864x360 with 1 Axes>"
      ]
     },
     "metadata": {},
     "output_type": "display_data"
    }
   ],
   "source": [
    "sample_counts = marine_meta_df['Bioproject ID'].value_counts()\n",
    "\n",
    "sns.set(rc={'figure.figsize':(12, 5), 'font.family': ['Arial']}, style='white')\n",
    "with sns.plotting_context(\"notebook\", font_scale=1.2):\n",
    "    ax = sns.barplot(x=sample_counts.index, y=sample_counts.values, color='dodgerblue')\n",
    "\n",
    "    ax.set_xlabel('BioProject ID')\n",
    "    ax.set_ylabel('Sample count')\n",
    "    \n",
    "    sns.despine(left=True)"
   ]
  },
  {
   "cell_type": "markdown",
   "id": "7ab21e73-a388-4325-bbb4-47bdc0a6da58",
   "metadata": {},
   "source": [
    "We can also visualize size range for each fraction using the lower and upper limits provided in the metadata table."
   ]
  },
  {
   "cell_type": "code",
   "execution_count": 15,
   "id": "d79194da-78f9-43c3-8b01-6351842d40b4",
   "metadata": {
    "execution": {
     "iopub.execute_input": "2022-07-20T05:23:29.203195Z",
     "iopub.status.busy": "2022-07-20T05:23:29.203011Z",
     "iopub.status.idle": "2022-07-20T05:23:29.209580Z",
     "shell.execute_reply": "2022-07-20T05:23:29.209179Z",
     "shell.execute_reply.started": "2022-07-20T05:23:29.203176Z"
    },
    "tags": []
   },
   "outputs": [],
   "source": [
    "replace_dict = {'<': 0, '>': 10000}\n",
    "\n",
    "fractions = marine_meta_df.loc[:,\n",
    "    ['Size fraction lower threshold [sample]', 'Size fraction upper threshold [sample]', 'Bioproject ID']\n",
    "].replace(replace_dict)\n",
    "\n",
    "for col in ('Size fraction lower threshold [sample]', 'Size fraction upper threshold [sample]'):\n",
    "    fractions[col] = fractions[col].astype(float)"
   ]
  },
  {
   "cell_type": "code",
   "execution_count": 16,
   "id": "7ac4870b-5ca9-4279-a6f1-a83ce1670d52",
   "metadata": {
    "execution": {
     "iopub.execute_input": "2022-07-20T05:23:29.210302Z",
     "iopub.status.busy": "2022-07-20T05:23:29.210124Z",
     "iopub.status.idle": "2022-07-20T05:23:29.216688Z",
     "shell.execute_reply": "2022-07-20T05:23:29.216367Z",
     "shell.execute_reply.started": "2022-07-20T05:23:29.210283Z"
    },
    "tags": []
   },
   "outputs": [],
   "source": [
    "fractions = fractions \\\n",
    "    .groupby(['Size fraction lower threshold [sample]', 'Size fraction upper threshold [sample]']) \\\n",
    "    .count()['Bioproject ID'] \\\n",
    "    .unstack()"
   ]
  },
  {
   "cell_type": "code",
   "execution_count": 17,
   "id": "9a45cebe-cb64-4b4d-bcf2-d32cfec8e51b",
   "metadata": {
    "execution": {
     "iopub.execute_input": "2022-07-20T05:23:29.217401Z",
     "iopub.status.busy": "2022-07-20T05:23:29.217221Z",
     "iopub.status.idle": "2022-07-20T05:23:29.346798Z",
     "shell.execute_reply": "2022-07-20T05:23:29.346266Z",
     "shell.execute_reply.started": "2022-07-20T05:23:29.217383Z"
    },
    "tags": []
   },
   "outputs": [
    {
     "data": {
      "image/png": "[encoded data removed]",
      "text/plain": [
       "<Figure size 720x576 with 2 Axes>"
      ]
     },
     "metadata": {},
     "output_type": "display_data"
    }
   ],
   "source": [
    "sns.set(rc={'figure.figsize':(10, 8), 'font.family': ['Arial']}, style='white')\n",
    "with sns.plotting_context(\"notebook\", font_scale=1.4):\n",
    "    ax = sns.heatmap(data=fractions)\n",
    "\n",
    "    ax.set_xlabel('Fraction upper threshold [μm]')\n",
    "    ax.set_ylabel('Fraction lower threshold [μm]')\n",
    "    \n",
    "    ax.invert_yaxis()\n",
    "    \n",
    "    xlabels = ax.get_xticklabels()\n",
    "    xlabels[-1] = '>'\n",
    "    ylabels = ax.get_yticklabels()\n",
    "    ylabels[0] = '<'\n",
    "    ax.set_yticklabels(ylabels, rotation=0)\n",
    "    ax.set_xticklabels(xlabels, rotation=0)"
   ]
  },
  {
   "cell_type": "code",
   "execution_count": 18,
   "id": "518ae16d-9cbe-4723-936a-14b8f4011ec4",
   "metadata": {
    "execution": {
     "iopub.execute_input": "2022-07-20T05:23:29.347469Z",
     "iopub.status.busy": "2022-07-20T05:23:29.347324Z",
     "iopub.status.idle": "2022-07-20T05:23:29.350641Z",
     "shell.execute_reply": "2022-07-20T05:23:29.350198Z",
     "shell.execute_reply.started": "2022-07-20T05:23:29.347455Z"
    },
    "tags": []
   },
   "outputs": [
    {
     "name": "stdout",
     "output_type": "stream",
     "text": [
      "Using matplotlib backend: <object object at 0x7f3be44447d0>\n"
     ]
    }
   ],
   "source": [
    "# switch off inline mode to correctly display QIIME 2 visualizations\n",
    "%matplotlib auto"
   ]
  },
  {
   "cell_type": "markdown",
   "id": "035cefb6-742d-488b-b276-074291235482",
   "metadata": {},
   "source": [
    "## Visualize selected metadata using samples' geographic coordinates\n",
    "We can use the [**q2-coordinates**](https://github.com/bokulich-lab/q2-coordinates) plugin to visualize a variety of sensor values (and other metadata) according to their geographical locations."
   ]
  },
  {
   "cell_type": "code",
   "execution_count": 19,
   "id": "174ffb39-dac4-45b1-968c-98d37a5c84f9",
   "metadata": {
    "execution": {
     "iopub.execute_input": "2022-07-20T05:23:29.351220Z",
     "iopub.status.busy": "2022-07-20T05:23:29.351103Z",
     "iopub.status.idle": "2022-07-20T05:23:29.359816Z",
     "shell.execute_reply": "2022-07-20T05:23:29.359473Z",
     "shell.execute_reply.started": "2022-07-20T05:23:29.351207Z"
    },
    "tags": []
   },
   "outputs": [
    {
     "data": {
      "text/plain": [
       "(100, 74)"
      ]
     },
     "execution_count": 19,
     "metadata": {},
     "output_type": "execute_result"
    }
   ],
   "source": [
    "n_samples = 100\n",
    "latitude_col = 'Latitude start [sample]'\n",
    "longitude_col = 'Longitude start [sample]'\n",
    "\n",
    "marine_smp = marine_meta_df.sample(n=n_samples, random_state=random_seed)\n",
    "marine_smp.shape"
   ]
  },
  {
   "cell_type": "markdown",
   "id": "5a018b66-b49b-4381-aa30-ffacca4fb6ae",
   "metadata": {},
   "source": [
    "### TARA Oceans expedition progress\n",
    "We will use the sampling date as a categorical variable to display progress of the expedition."
   ]
  },
  {
   "cell_type": "code",
   "execution_count": 20,
   "id": "f160498b-93ad-4be9-9764-7fe66f8ed7a4",
   "metadata": {
    "execution": {
     "iopub.execute_input": "2022-07-20T05:23:29.360331Z",
     "iopub.status.busy": "2022-07-20T05:23:29.360220Z",
     "iopub.status.idle": "2022-07-20T05:23:30.081947Z",
     "shell.execute_reply": "2022-07-20T05:23:30.081493Z",
     "shell.execute_reply.started": "2022-07-20T05:23:29.360319Z"
    },
    "tags": []
   },
   "outputs": [
    {
     "data": {
      "text/html": [
       "<div><img onload=\"(function(div, url){\n",
       "if (typeof require !== 'undefined') {\n",
       "    var baseURL = require.toUrl('').split('/').slice(0, -2).join('/');\n",
       "} else {\n",
       "    var baseURL = JSON.parse(\n",
       "        document.getElementById('jupyter-config-data').innerHTML\n",
       "    ).baseUrl.slice(0, -1);\n",
       "}\n",
       "url = baseURL + url;\n",
       "fetch(url).then(function(res) {\n",
       "    if (res.status === 404) {\n",
       "        div.innerHTML = 'Install QIIME 2 Jupyter extension with:<br />' +\n",
       "                        '<code>jupyter serverextension enable --py qiime2' +\n",
       "                        ' --sys-prefix</code><br />then restart your server.' +\n",
       "                        '<br /><br />(Interactive output not available on ' +\n",
       "                        'static notebook viewer services like nbviewer.)';\n",
       "    } else if (res.status === 409) {\n",
       "        div.innerHTML = 'Visualization no longer in scope. Re-run this cell' +\n",
       "                        ' to see the visualization.';\n",
       "    } else if (res.ok) {\n",
       "        url = res.url;\n",
       "        div.innerHTML = '<iframe src=\\'' + url + '\\' style=\\'' +\n",
       "                        'width: 100%; height: 700px; border: 0;\\'>' +\n",
       "                        '</iframe><hr />Open in a: <a href=\\'' + url + '\\'' +\n",
       "                        ' target=\\'_blank\\'>new window</a>'\n",
       "    } else {\n",
       "        div.innerHTML = 'Something has gone wrong. Check notebook server for' +\n",
       "                        ' errors.';\n",
       "    }\n",
       "});\n",
       "})(this.parentElement, '/qiime2/redirect?location=/media/michal/disk_large/.tmp/qiime2-archive-2g82as0s')\" src=\"data:image/gif;base64,R0lGODlhAQABAIAAAP///wAAACH5BAEAAAAALAAAAAABAAEAAAICRAEAOw==\" /></div>"
      ],
      "text/plain": [
       "<visualization: Visualization uuid: e64ad683-22dc-4fca-afeb-4397a3286b6c>"
      ]
     },
     "execution_count": 20,
     "metadata": {},
     "output_type": "execute_result"
    }
   ],
   "source": [
    "sorted_samples = marine_smp.sort_values(by='Event date/time start [sample]', ascending=False)\n",
    "\n",
    "progress_map, = coordinates.visualizers.draw_interactive_map(\n",
    "    metadata=q2.Metadata(sorted_samples),\n",
    "    latitude=latitude_col,\n",
    "    longitude=longitude_col,\n",
    "    column='Event date/time start [sample]',\n",
    "    color_palette='magma'\n",
    ")\n",
    "progress_map.save(os.path.join(results_path, 'progress-map.qzv'))\n",
    "progress_map"
   ]
  },
  {
   "cell_type": "markdown",
   "id": "abf78804-b885-4d44-969c-040a782b02c0",
   "metadata": {},
   "source": [
    "### Temperature"
   ]
  },
  {
   "cell_type": "code",
   "execution_count": 21,
   "id": "6d8d8bc6-f6f0-4215-9762-a0aca739bd3e",
   "metadata": {
    "execution": {
     "iopub.execute_input": "2022-07-20T05:23:30.082612Z",
     "iopub.status.busy": "2022-07-20T05:23:30.082494Z",
     "iopub.status.idle": "2022-07-20T05:23:30.455084Z",
     "shell.execute_reply": "2022-07-20T05:23:30.454682Z",
     "shell.execute_reply.started": "2022-07-20T05:23:30.082599Z"
    },
    "tags": []
   },
   "outputs": [
    {
     "data": {
      "text/html": [
       "<div><img onload=\"(function(div, url){\n",
       "if (typeof require !== 'undefined') {\n",
       "    var baseURL = require.toUrl('').split('/').slice(0, -2).join('/');\n",
       "} else {\n",
       "    var baseURL = JSON.parse(\n",
       "        document.getElementById('jupyter-config-data').innerHTML\n",
       "    ).baseUrl.slice(0, -1);\n",
       "}\n",
       "url = baseURL + url;\n",
       "fetch(url).then(function(res) {\n",
       "    if (res.status === 404) {\n",
       "        div.innerHTML = 'Install QIIME 2 Jupyter extension with:<br />' +\n",
       "                        '<code>jupyter serverextension enable --py qiime2' +\n",
       "                        ' --sys-prefix</code><br />then restart your server.' +\n",
       "                        '<br /><br />(Interactive output not available on ' +\n",
       "                        'static notebook viewer services like nbviewer.)';\n",
       "    } else if (res.status === 409) {\n",
       "        div.innerHTML = 'Visualization no longer in scope. Re-run this cell' +\n",
       "                        ' to see the visualization.';\n",
       "    } else if (res.ok) {\n",
       "        url = res.url;\n",
       "        div.innerHTML = '<iframe src=\\'' + url + '\\' style=\\'' +\n",
       "                        'width: 100%; height: 700px; border: 0;\\'>' +\n",
       "                        '</iframe><hr />Open in a: <a href=\\'' + url + '\\'' +\n",
       "                        ' target=\\'_blank\\'>new window</a>'\n",
       "    } else {\n",
       "        div.innerHTML = 'Something has gone wrong. Check notebook server for' +\n",
       "                        ' errors.';\n",
       "    }\n",
       "});\n",
       "})(this.parentElement, '/qiime2/redirect?location=/media/michal/disk_large/.tmp/qiime2-archive-lshj5w20')\" src=\"data:image/gif;base64,R0lGODlhAQABAIAAAP///wAAACH5BAEAAAAALAAAAAABAAEAAAICRAEAOw==\" /></div>"
      ],
      "text/plain": [
       "<visualization: Visualization uuid: 791fe958-68f4-446d-873a-32eccfef65ab>"
      ]
     },
     "execution_count": 21,
     "metadata": {},
     "output_type": "execute_result"
    }
   ],
   "source": [
    "temp_map, = coordinates.visualizers.draw_interactive_map(\n",
    "    metadata=q2.Metadata(marine_smp),\n",
    "    latitude=latitude_col,\n",
    "    longitude=longitude_col,\n",
    "    column='Temperature [sample]'\n",
    ")\n",
    "temp_map.save(os.path.join(results_path, 'temperature-map.qzv'))\n",
    "temp_map"
   ]
  },
  {
   "cell_type": "markdown",
   "id": "202563eb-2d39-469b-a330-5ff98de04fc8",
   "metadata": {},
   "source": [
    "### Depth"
   ]
  },
  {
   "cell_type": "code",
   "execution_count": 22,
   "id": "5c23122d-4a86-49e6-aec8-5cdedc0c182b",
   "metadata": {
    "execution": {
     "iopub.execute_input": "2022-07-20T05:23:30.457286Z",
     "iopub.status.busy": "2022-07-20T05:23:30.457153Z",
     "iopub.status.idle": "2022-07-20T05:23:30.784016Z",
     "shell.execute_reply": "2022-07-20T05:23:30.783671Z",
     "shell.execute_reply.started": "2022-07-20T05:23:30.457273Z"
    },
    "tags": []
   },
   "outputs": [
    {
     "data": {
      "text/html": [
       "<div><img onload=\"(function(div, url){\n",
       "if (typeof require !== 'undefined') {\n",
       "    var baseURL = require.toUrl('').split('/').slice(0, -2).join('/');\n",
       "} else {\n",
       "    var baseURL = JSON.parse(\n",
       "        document.getElementById('jupyter-config-data').innerHTML\n",
       "    ).baseUrl.slice(0, -1);\n",
       "}\n",
       "url = baseURL + url;\n",
       "fetch(url).then(function(res) {\n",
       "    if (res.status === 404) {\n",
       "        div.innerHTML = 'Install QIIME 2 Jupyter extension with:<br />' +\n",
       "                        '<code>jupyter serverextension enable --py qiime2' +\n",
       "                        ' --sys-prefix</code><br />then restart your server.' +\n",
       "                        '<br /><br />(Interactive output not available on ' +\n",
       "                        'static notebook viewer services like nbviewer.)';\n",
       "    } else if (res.status === 409) {\n",
       "        div.innerHTML = 'Visualization no longer in scope. Re-run this cell' +\n",
       "                        ' to see the visualization.';\n",
       "    } else if (res.ok) {\n",
       "        url = res.url;\n",
       "        div.innerHTML = '<iframe src=\\'' + url + '\\' style=\\'' +\n",
       "                        'width: 100%; height: 700px; border: 0;\\'>' +\n",
       "                        '</iframe><hr />Open in a: <a href=\\'' + url + '\\'' +\n",
       "                        ' target=\\'_blank\\'>new window</a>'\n",
       "    } else {\n",
       "        div.innerHTML = 'Something has gone wrong. Check notebook server for' +\n",
       "                        ' errors.';\n",
       "    }\n",
       "});\n",
       "})(this.parentElement, '/qiime2/redirect?location=/media/michal/disk_large/.tmp/qiime2-archive-udmne0hp')\" src=\"data:image/gif;base64,R0lGODlhAQABAIAAAP///wAAACH5BAEAAAAALAAAAAABAAEAAAICRAEAOw==\" /></div>"
      ],
      "text/plain": [
       "<visualization: Visualization uuid: 6c160108-21ee-4a4b-b71c-da9374911ea1>"
      ]
     },
     "execution_count": 22,
     "metadata": {},
     "output_type": "execute_result"
    }
   ],
   "source": [
    "depth_map, = coordinates.visualizers.draw_interactive_map(\n",
    "    metadata=q2.Metadata(marine_smp),\n",
    "    latitude=latitude_col,\n",
    "    longitude=longitude_col,\n",
    "    column='Depth [sample]',\n",
    "    color_palette='viridis'\n",
    ")\n",
    "depth_map.save(os.path.join(results_path, 'depth-map.qzv'))\n",
    "depth_map"
   ]
  },
  {
   "cell_type": "markdown",
   "id": "8985898d-4b97-4189-87df-75e4b7690835",
   "metadata": {},
   "source": [
    "### Salinity"
   ]
  },
  {
   "cell_type": "code",
   "execution_count": 23,
   "id": "863820e0-6812-4fab-ad91-599b9df299e5",
   "metadata": {
    "execution": {
     "iopub.execute_input": "2022-07-20T05:23:30.784573Z",
     "iopub.status.busy": "2022-07-20T05:23:30.784458Z",
     "iopub.status.idle": "2022-07-20T05:23:31.106774Z",
     "shell.execute_reply": "2022-07-20T05:23:31.106372Z",
     "shell.execute_reply.started": "2022-07-20T05:23:30.784560Z"
    },
    "tags": []
   },
   "outputs": [
    {
     "data": {
      "text/html": [
       "<div><img onload=\"(function(div, url){\n",
       "if (typeof require !== 'undefined') {\n",
       "    var baseURL = require.toUrl('').split('/').slice(0, -2).join('/');\n",
       "} else {\n",
       "    var baseURL = JSON.parse(\n",
       "        document.getElementById('jupyter-config-data').innerHTML\n",
       "    ).baseUrl.slice(0, -1);\n",
       "}\n",
       "url = baseURL + url;\n",
       "fetch(url).then(function(res) {\n",
       "    if (res.status === 404) {\n",
       "        div.innerHTML = 'Install QIIME 2 Jupyter extension with:<br />' +\n",
       "                        '<code>jupyter serverextension enable --py qiime2' +\n",
       "                        ' --sys-prefix</code><br />then restart your server.' +\n",
       "                        '<br /><br />(Interactive output not available on ' +\n",
       "                        'static notebook viewer services like nbviewer.)';\n",
       "    } else if (res.status === 409) {\n",
       "        div.innerHTML = 'Visualization no longer in scope. Re-run this cell' +\n",
       "                        ' to see the visualization.';\n",
       "    } else if (res.ok) {\n",
       "        url = res.url;\n",
       "        div.innerHTML = '<iframe src=\\'' + url + '\\' style=\\'' +\n",
       "                        'width: 100%; height: 700px; border: 0;\\'>' +\n",
       "                        '</iframe><hr />Open in a: <a href=\\'' + url + '\\'' +\n",
       "                        ' target=\\'_blank\\'>new window</a>'\n",
       "    } else {\n",
       "        div.innerHTML = 'Something has gone wrong. Check notebook server for' +\n",
       "                        ' errors.';\n",
       "    }\n",
       "});\n",
       "})(this.parentElement, '/qiime2/redirect?location=/media/michal/disk_large/.tmp/qiime2-archive-ua35gwvk')\" src=\"data:image/gif;base64,R0lGODlhAQABAIAAAP///wAAACH5BAEAAAAALAAAAAABAAEAAAICRAEAOw==\" /></div>"
      ],
      "text/plain": [
       "<visualization: Visualization uuid: f9f4244f-e30d-457d-a4d5-79fc8cba1a5a>"
      ]
     },
     "execution_count": 23,
     "metadata": {},
     "output_type": "execute_result"
    }
   ],
   "source": [
    "salinity_map, = coordinates.visualizers.draw_interactive_map(\n",
    "    metadata=q2.Metadata(marine_smp),\n",
    "    latitude=latitude_col,\n",
    "    longitude=longitude_col,\n",
    "    column='Salinity sensor [sample]'\n",
    ")\n",
    "salinity_map.save(os.path.join(results_path, 'salinity-map.qzv'))\n",
    "salinity_map"
   ]
  },
  {
   "cell_type": "markdown",
   "id": "78d4a312-41ec-4dbd-a2b0-dc85a1a5bff4",
   "metadata": {},
   "source": [
    "### Oxygen content"
   ]
  },
  {
   "cell_type": "code",
   "execution_count": 24,
   "id": "774eebd5-c4c7-4191-98d9-994e1f0d4411",
   "metadata": {
    "execution": {
     "iopub.execute_input": "2022-07-20T05:23:31.107394Z",
     "iopub.status.busy": "2022-07-20T05:23:31.107257Z",
     "iopub.status.idle": "2022-07-20T05:23:31.431546Z",
     "shell.execute_reply": "2022-07-20T05:23:31.431196Z",
     "shell.execute_reply.started": "2022-07-20T05:23:31.107380Z"
    },
    "tags": []
   },
   "outputs": [
    {
     "data": {
      "text/html": [
       "<div><img onload=\"(function(div, url){\n",
       "if (typeof require !== 'undefined') {\n",
       "    var baseURL = require.toUrl('').split('/').slice(0, -2).join('/');\n",
       "} else {\n",
       "    var baseURL = JSON.parse(\n",
       "        document.getElementById('jupyter-config-data').innerHTML\n",
       "    ).baseUrl.slice(0, -1);\n",
       "}\n",
       "url = baseURL + url;\n",
       "fetch(url).then(function(res) {\n",
       "    if (res.status === 404) {\n",
       "        div.innerHTML = 'Install QIIME 2 Jupyter extension with:<br />' +\n",
       "                        '<code>jupyter serverextension enable --py qiime2' +\n",
       "                        ' --sys-prefix</code><br />then restart your server.' +\n",
       "                        '<br /><br />(Interactive output not available on ' +\n",
       "                        'static notebook viewer services like nbviewer.)';\n",
       "    } else if (res.status === 409) {\n",
       "        div.innerHTML = 'Visualization no longer in scope. Re-run this cell' +\n",
       "                        ' to see the visualization.';\n",
       "    } else if (res.ok) {\n",
       "        url = res.url;\n",
       "        div.innerHTML = '<iframe src=\\'' + url + '\\' style=\\'' +\n",
       "                        'width: 100%; height: 700px; border: 0;\\'>' +\n",
       "                        '</iframe><hr />Open in a: <a href=\\'' + url + '\\'' +\n",
       "                        ' target=\\'_blank\\'>new window</a>'\n",
       "    } else {\n",
       "        div.innerHTML = 'Something has gone wrong. Check notebook server for' +\n",
       "                        ' errors.';\n",
       "    }\n",
       "});\n",
       "})(this.parentElement, '/qiime2/redirect?location=/media/michal/disk_large/.tmp/qiime2-archive-q5xsk0cf')\" src=\"data:image/gif;base64,R0lGODlhAQABAIAAAP///wAAACH5BAEAAAAALAAAAAABAAEAAAICRAEAOw==\" /></div>"
      ],
      "text/plain": [
       "<visualization: Visualization uuid: c00498d9-8d33-4ec2-8c4f-52c0ccd293e8>"
      ]
     },
     "execution_count": 24,
     "metadata": {},
     "output_type": "execute_result"
    }
   ],
   "source": [
    "oxygen_map, = coordinates.visualizers.draw_interactive_map(\n",
    "    metadata=q2.Metadata(marine_smp),\n",
    "    latitude=latitude_col,\n",
    "    longitude=longitude_col,\n",
    "    column='Oxygen sensor [sample]',\n",
    "    color_palette='viridis'\n",
    ")\n",
    "oxygen_map.save(os.path.join(results_path, 'oxygen-map.qzv'))\n",
    "oxygen_map"
   ]
  },
  {
   "cell_type": "markdown",
   "id": "28871463-5054-408c-a127-281aa5d9db03",
   "metadata": {},
   "source": [
    "### Nitrate content"
   ]
  },
  {
   "cell_type": "code",
   "execution_count": 25,
   "id": "b0d592ee-4b7d-47dc-8fc1-88ff7a6f6fb8",
   "metadata": {
    "execution": {
     "iopub.execute_input": "2022-07-20T05:23:31.432131Z",
     "iopub.status.busy": "2022-07-20T05:23:31.432013Z",
     "iopub.status.idle": "2022-07-20T05:23:31.785633Z",
     "shell.execute_reply": "2022-07-20T05:23:31.785284Z",
     "shell.execute_reply.started": "2022-07-20T05:23:31.432119Z"
    },
    "tags": []
   },
   "outputs": [
    {
     "data": {
      "text/html": [
       "<div><img onload=\"(function(div, url){\n",
       "if (typeof require !== 'undefined') {\n",
       "    var baseURL = require.toUrl('').split('/').slice(0, -2).join('/');\n",
       "} else {\n",
       "    var baseURL = JSON.parse(\n",
       "        document.getElementById('jupyter-config-data').innerHTML\n",
       "    ).baseUrl.slice(0, -1);\n",
       "}\n",
       "url = baseURL + url;\n",
       "fetch(url).then(function(res) {\n",
       "    if (res.status === 404) {\n",
       "        div.innerHTML = 'Install QIIME 2 Jupyter extension with:<br />' +\n",
       "                        '<code>jupyter serverextension enable --py qiime2' +\n",
       "                        ' --sys-prefix</code><br />then restart your server.' +\n",
       "                        '<br /><br />(Interactive output not available on ' +\n",
       "                        'static notebook viewer services like nbviewer.)';\n",
       "    } else if (res.status === 409) {\n",
       "        div.innerHTML = 'Visualization no longer in scope. Re-run this cell' +\n",
       "                        ' to see the visualization.';\n",
       "    } else if (res.ok) {\n",
       "        url = res.url;\n",
       "        div.innerHTML = '<iframe src=\\'' + url + '\\' style=\\'' +\n",
       "                        'width: 100%; height: 700px; border: 0;\\'>' +\n",
       "                        '</iframe><hr />Open in a: <a href=\\'' + url + '\\'' +\n",
       "                        ' target=\\'_blank\\'>new window</a>'\n",
       "    } else {\n",
       "        div.innerHTML = 'Something has gone wrong. Check notebook server for' +\n",
       "                        ' errors.';\n",
       "    }\n",
       "});\n",
       "})(this.parentElement, '/qiime2/redirect?location=/media/michal/disk_large/.tmp/qiime2-archive-naqrgjlj')\" src=\"data:image/gif;base64,R0lGODlhAQABAIAAAP///wAAACH5BAEAAAAALAAAAAABAAEAAAICRAEAOw==\" /></div>"
      ],
      "text/plain": [
       "<visualization: Visualization uuid: 6ee81dcc-8e23-4962-9097-bbb64c28462e>"
      ]
     },
     "execution_count": 25,
     "metadata": {},
     "output_type": "execute_result"
    }
   ],
   "source": [
    "nitrate_map, = coordinates.visualizers.draw_interactive_map(\n",
    "    metadata=q2.Metadata(marine_smp),\n",
    "    latitude=latitude_col,\n",
    "    longitude=longitude_col,\n",
    "    column='Nitrate sensor [sample]',\n",
    "    color_palette='viridis'\n",
    ")\n",
    "nitrate_map.save(os.path.join(results_path, 'nitrate-map.qzv'))\n",
    "nitrate_map"
   ]
  },
  {
   "cell_type": "markdown",
   "id": "b248a77f-625b-4355-8c23-9ff2baed297a",
   "metadata": {},
   "source": [
    "### Chlorophyll content"
   ]
  },
  {
   "cell_type": "code",
   "execution_count": 26,
   "id": "bb1ccb23-1ad9-4121-9f18-d29a29b521f1",
   "metadata": {
    "execution": {
     "iopub.execute_input": "2022-07-20T05:23:31.786353Z",
     "iopub.status.busy": "2022-07-20T05:23:31.786205Z",
     "iopub.status.idle": "2022-07-20T05:23:32.136871Z",
     "shell.execute_reply": "2022-07-20T05:23:32.136493Z",
     "shell.execute_reply.started": "2022-07-20T05:23:31.786338Z"
    },
    "pycharm": {
     "name": "#%%\n"
    },
    "tags": []
   },
   "outputs": [
    {
     "data": {
      "text/html": [
       "<div><img onload=\"(function(div, url){\n",
       "if (typeof require !== 'undefined') {\n",
       "    var baseURL = require.toUrl('').split('/').slice(0, -2).join('/');\n",
       "} else {\n",
       "    var baseURL = JSON.parse(\n",
       "        document.getElementById('jupyter-config-data').innerHTML\n",
       "    ).baseUrl.slice(0, -1);\n",
       "}\n",
       "url = baseURL + url;\n",
       "fetch(url).then(function(res) {\n",
       "    if (res.status === 404) {\n",
       "        div.innerHTML = 'Install QIIME 2 Jupyter extension with:<br />' +\n",
       "                        '<code>jupyter serverextension enable --py qiime2' +\n",
       "                        ' --sys-prefix</code><br />then restart your server.' +\n",
       "                        '<br /><br />(Interactive output not available on ' +\n",
       "                        'static notebook viewer services like nbviewer.)';\n",
       "    } else if (res.status === 409) {\n",
       "        div.innerHTML = 'Visualization no longer in scope. Re-run this cell' +\n",
       "                        ' to see the visualization.';\n",
       "    } else if (res.ok) {\n",
       "        url = res.url;\n",
       "        div.innerHTML = '<iframe src=\\'' + url + '\\' style=\\'' +\n",
       "                        'width: 100%; height: 700px; border: 0;\\'>' +\n",
       "                        '</iframe><hr />Open in a: <a href=\\'' + url + '\\'' +\n",
       "                        ' target=\\'_blank\\'>new window</a>'\n",
       "    } else {\n",
       "        div.innerHTML = 'Something has gone wrong. Check notebook server for' +\n",
       "                        ' errors.';\n",
       "    }\n",
       "});\n",
       "})(this.parentElement, '/qiime2/redirect?location=/media/michal/disk_large/.tmp/qiime2-archive-pac4fg9f')\" src=\"data:image/gif;base64,R0lGODlhAQABAIAAAP///wAAACH5BAEAAAAALAAAAAABAAEAAAICRAEAOw==\" /></div>"
      ],
      "text/plain": [
       "<visualization: Visualization uuid: 516be888-c809-4368-a901-7b129b211740>"
      ]
     },
     "execution_count": 26,
     "metadata": {},
     "output_type": "execute_result"
    }
   ],
   "source": [
    "chlorophyll_map, = coordinates.visualizers.draw_interactive_map(\n",
    "    metadata=q2.Metadata(marine_smp),\n",
    "    latitude=latitude_col,\n",
    "    longitude=longitude_col,\n",
    "    column='Chlorophyll sensor [sample]',\n",
    "    color_palette='terrain'\n",
    ")\n",
    "chlorophyll_map.save(os.path.join(results_path, 'chlorophyll-map.qzv'))\n",
    "chlorophyll_map"
   ]
  },
  {
   "cell_type": "markdown",
   "id": "6285a8f4-d0bf-427d-bf91-d5390861d3ac",
   "metadata": {},
   "source": [
    "## Fetch a sample of metagenome sequences using q2-fondue\n",
    "We can now fetch sequences corresponding to some of those 100 samples that we visualized above. We will only focus on samples from two different locations (5 samples per location; 10 samples total) as they correspond to a very large amount of data. We begin by identifying locations that were multiple samples are available."
   ]
  },
  {
   "cell_type": "code",
   "execution_count": 27,
   "id": "740cba8c-2a74-45a2-ae7d-9bbb14402f95",
   "metadata": {
    "execution": {
     "iopub.execute_input": "2022-07-20T05:23:32.137456Z",
     "iopub.status.busy": "2022-07-20T05:23:32.137339Z",
     "iopub.status.idle": "2022-07-20T05:23:32.139433Z",
     "shell.execute_reply": "2022-07-20T05:23:32.139139Z",
     "shell.execute_reply.started": "2022-07-20T05:23:32.137444Z"
    },
    "tags": []
   },
   "outputs": [],
   "source": [
    "lat_col, lon_col = 'Latitude end [sample]', 'Longitude end [sample]'"
   ]
  },
  {
   "cell_type": "code",
   "execution_count": 28,
   "id": "bc9691bb-ad79-4b4a-8bf0-5b98008c7f77",
   "metadata": {
    "execution": {
     "iopub.execute_input": "2022-07-20T05:23:32.139905Z",
     "iopub.status.busy": "2022-07-20T05:23:32.139799Z",
     "iopub.status.idle": "2022-07-20T05:23:32.151353Z",
     "shell.execute_reply": "2022-07-20T05:23:32.150997Z",
     "shell.execute_reply.started": "2022-07-20T05:23:32.139894Z"
    },
    "tags": []
   },
   "outputs": [
    {
     "data": {
      "text/plain": [
       "(27, 72)"
      ]
     },
     "execution_count": 28,
     "metadata": {},
     "output_type": "execute_result"
    }
   ],
   "source": [
    "# find all locations with exactly 5 samples\n",
    "loc_counts = marine_meta_df.groupby([lat_col, lon_col]).count()\n",
    "loc_counts_multi = loc_counts[loc_counts['Experiment ID'] == 5]\n",
    "loc_counts_multi.shape"
   ]
  },
  {
   "cell_type": "code",
   "execution_count": 29,
   "id": "126737bc-1b05-410d-8213-1cbe26ff2e75",
   "metadata": {
    "execution": {
     "iopub.execute_input": "2022-07-20T05:23:32.151919Z",
     "iopub.status.busy": "2022-07-20T05:23:32.151788Z",
     "iopub.status.idle": "2022-07-20T05:23:32.154589Z",
     "shell.execute_reply": "2022-07-20T05:23:32.154280Z",
     "shell.execute_reply.started": "2022-07-20T05:23:32.151903Z"
    },
    "tags": []
   },
   "outputs": [],
   "source": [
    "# draw two locations of the previous list\n",
    "loc_smp = loc_counts_multi.sample(n=2, random_state=random_seed)\n",
    "lats = loc_smp.index.get_level_values(lat_col).tolist()\n",
    "lons = loc_smp.index.get_level_values(lon_col).tolist()"
   ]
  },
  {
   "cell_type": "code",
   "execution_count": 30,
   "id": "b1d45a6f-ffe0-4a0c-8272-5ffca3779a4b",
   "metadata": {
    "execution": {
     "iopub.execute_input": "2022-07-20T05:23:32.155059Z",
     "iopub.status.busy": "2022-07-20T05:23:32.154953Z",
     "iopub.status.idle": "2022-07-20T05:23:32.164981Z",
     "shell.execute_reply": "2022-07-20T05:23:32.164614Z",
     "shell.execute_reply.started": "2022-07-20T05:23:32.155048Z"
    },
    "tags": []
   },
   "outputs": [
    {
     "data": {
      "text/html": [
       "<div>\n",
       "<style scoped>\n",
       "    .dataframe tbody tr th:only-of-type {\n",
       "        vertical-align: middle;\n",
       "    }\n",
       "\n",
       "    .dataframe tbody tr th {\n",
       "        vertical-align: top;\n",
       "    }\n",
       "\n",
       "    .dataframe thead th {\n",
       "        text-align: right;\n",
       "    }\n",
       "</style>\n",
       "<table border=\"1\" class=\"dataframe\">\n",
       "  <thead>\n",
       "    <tr style=\"text-align: right;\">\n",
       "      <th></th>\n",
       "      <th></th>\n",
       "      <th>Experiment ID</th>\n",
       "      <th>Biosample ID</th>\n",
       "    </tr>\n",
       "    <tr>\n",
       "      <th>Latitude end [sample]</th>\n",
       "      <th>Longitude end [sample]</th>\n",
       "      <th></th>\n",
       "      <th></th>\n",
       "    </tr>\n",
       "  </thead>\n",
       "  <tbody>\n",
       "    <tr>\n",
       "      <th>67.1385</th>\n",
       "      <th>0.2443</th>\n",
       "      <td>5</td>\n",
       "      <td>5</td>\n",
       "    </tr>\n",
       "    <tr>\n",
       "      <th>72.4769</th>\n",
       "      <th>-71.9329</th>\n",
       "      <td>5</td>\n",
       "      <td>5</td>\n",
       "    </tr>\n",
       "  </tbody>\n",
       "</table>\n",
       "</div>"
      ],
      "text/plain": [
       "                                              Experiment ID  Biosample ID\n",
       "Latitude end [sample] Longitude end [sample]                             \n",
       "67.1385                0.2443                             5             5\n",
       "72.4769               -71.9329                            5             5"
      ]
     },
     "execution_count": 30,
     "metadata": {},
     "output_type": "execute_result"
    }
   ],
   "source": [
    "marine_loc_smp = marine_meta_df[\n",
    "    marine_meta_df[lat_col].isin(lats) & \\\n",
    "    marine_meta_df[lon_col].isin(lons)\n",
    "]\n",
    "marine_loc_smp.groupby([lat_col, lon_col]).count().iloc[:, :2]"
   ]
  },
  {
   "cell_type": "markdown",
   "id": "7374bf39-fd3c-4423-ae35-4721e6c84843",
   "metadata": {},
   "source": [
    "Finally, we are ready to download the actual sequences."
   ]
  },
  {
   "cell_type": "code",
   "execution_count": 31,
   "id": "507ef895-43c7-4b4f-ba57-b7670b6a6130",
   "metadata": {
    "execution": {
     "iopub.execute_input": "2022-07-20T05:23:32.165592Z",
     "iopub.status.busy": "2022-07-20T05:23:32.165450Z",
     "iopub.status.idle": "2022-07-20T05:23:32.167626Z",
     "shell.execute_reply": "2022-07-20T05:23:32.167314Z",
     "shell.execute_reply.started": "2022-07-20T05:23:32.165580Z"
    },
    "tags": []
   },
   "outputs": [],
   "source": [
    "single_reads_out = os.path.join(results_path, 'tara-single.qza')\n",
    "paired_reads_out = os.path.join(results_path, 'tara-paired.qza')"
   ]
  },
  {
   "cell_type": "code",
   "execution_count": 32,
   "id": "c8ade8de-ce08-4fc1-89b4-697bd754f67b",
   "metadata": {
    "execution": {
     "iopub.execute_input": "2022-07-20T05:23:32.168129Z",
     "iopub.status.busy": "2022-07-20T05:23:32.168002Z",
     "iopub.status.idle": "2022-07-20T06:17:15.090460Z",
     "shell.execute_reply": "2022-07-20T06:17:15.090006Z",
     "shell.execute_reply.started": "2022-07-20T05:23:32.168117Z"
    },
    "tags": []
   },
   "outputs": [
    {
     "name": "stdout",
     "output_type": "stream",
     "text": [
      "Paired-reads artifact exists and will be read from u3-metagenome-results/tara-paired.qza.\n"
     ]
    }
   ],
   "source": [
    "if not os.path.isfile(paired_reads_out):\n",
    "    _ids = pd.Series(marine_loc_smp.index.to_list(), name='ID')\n",
    "    _, paired_reads, _ = fondue.methods.get_sequences(\n",
    "        accession_ids=q2.Artifact.import_data('NCBIAccessionIDs', _ids), \n",
    "        email=email,\n",
    "        n_jobs=n_jobs\n",
    "    )\n",
    "    paired_reads.save(paired_reads_out)\n",
    "else:\n",
    "    print(f'Paired-reads artifact exists and will be read from {paired_reads_out}.')\n",
    "    paired_reads = q2.Artifact.load(paired_reads_out)"
   ]
  },
  {
   "cell_type": "markdown",
   "id": "6222ddae-2157-4bb4-8d75-e2a9ec1ccab9",
   "metadata": {},
   "source": [
    "## Subsample the reads\n",
    "We will subsample the reads in every sample to 20% of the original count to reduce the amount of data. The final sample will become an artifact containing only single-end reads that were drawn from both, forward and reverse, reads in the paired-end artifact."
   ]
  },
  {
   "cell_type": "code",
   "execution_count": null,
   "id": "80b97ef4-ac45-45f0-a5d8-27704581fcab",
   "metadata": {
    "execution": {
     "iopub.execute_input": "2022-07-20T06:17:15.091432Z",
     "iopub.status.busy": "2022-07-20T06:17:15.091288Z"
    },
    "tags": []
   },
   "outputs": [
    {
     "name": "stdout",
     "output_type": "stream",
     "text": [
      "Subsampled single-reads artifact exists and will be read from u3-metagenome-results/single-reads-smp.qza.\n"
     ]
    }
   ],
   "source": [
    "single_reads_smp_out = os.path.join(results_path, 'single-reads-smp.qza')\n",
    "if not os.path.isfile(single_reads_smp_out):\n",
    "    single_reads_smp, = demux.methods.subsample_single(\n",
    "        sequences=paired_reads,\n",
    "        fraction=0.2\n",
    "    )\n",
    "    single_reads_smp.save(single_reads_smp_out)\n",
    "else:\n",
    "    print(f'Subsampled single-reads artifact exists and will be read from {single_reads_smp_out}.')\n",
    "    single_reads_smp = q2.Artifact.load(single_reads_smp_out)"
   ]
  },
  {
   "cell_type": "markdown",
   "id": "081e6a95-72d3-4b6f-98c8-021e9f14b408",
   "metadata": {},
   "source": [
    "## Calculate and compare MinHash signatures for every metagenome\n",
    "We will calculate MinHash signatures of every sample (metagenome) using `q2-sourmash`. First, we calculate the hashes from the short reads using the `compute` action. Subsequently, we generate a distance matrix comparing hashes pairwise (using the `compare` action)."
   ]
  },
  {
   "cell_type": "code",
   "execution_count": null,
   "id": "46c265ef-6e37-4183-832b-605dff0ec51c",
   "metadata": {
    "tags": []
   },
   "outputs": [],
   "source": [
    "genome_hash_out = os.path.join(results_path, 'genome-hash.qza')\n",
    "if not os.path.isfile(genome_hash_out):\n",
    "    genome_hash, = sourmash.methods.compute(\n",
    "        sequence_file=single_reads_smp,\n",
    "        ksizes=31,\n",
    "        scaled=1000\n",
    "    )\n",
    "    genome_hash.save(genome_hash_out)\n",
    "else:\n",
    "    print(f'Genome hashes artifact exists and will be read from {genome_hash_out}.')\n",
    "    genome_hash = q2.Artifact.load(genome_hash_out)"
   ]
  },
  {
   "cell_type": "code",
   "execution_count": null,
   "id": "f8fe5945-a233-426e-9b01-9861de750082",
   "metadata": {
    "tags": []
   },
   "outputs": [],
   "source": [
    "hash_compare_out = os.path.join(results_path, 'hash-compare.qza')\n",
    "if not os.path.isfile(hash_compare_out):\n",
    "    hash_compare, = sourmash.methods.compare(\n",
    "        min_hash_signature=genome_hash,\n",
    "        ksize=31\n",
    "    )\n",
    "    hash_compare.save(hash_compare_out)\n",
    "else:\n",
    "    print(f'Distance matrix artifact exists and will be read from {hash_compare_out}.')\n",
    "    hash_compare = q2.Artifact.load(hash_compare_out)"
   ]
  },
  {
   "cell_type": "markdown",
   "id": "dd1194d2-092a-4916-b7f7-67ed1c46e4b3",
   "metadata": {},
   "source": [
    "## Perform dimensionality reduction of the metagenome MinHash distance matrix\n",
    "Finally, a 2D PCoA plot is generated from the obtained distance matrix (`pcoa` method from the `q2-diversity` plugin) and visualized using the EMPeror plot (`plot` action from the `q2-emperor` plugin)."
   ]
  },
  {
   "cell_type": "code",
   "execution_count": null,
   "id": "c88822fb-1f60-4961-ac93-9c366ca6ad51",
   "metadata": {
    "tags": []
   },
   "outputs": [],
   "source": [
    "genome_pcoa, = diversity.methods.pcoa(\n",
    "    distance_matrix=hash_compare,\n",
    ")"
   ]
  },
  {
   "cell_type": "code",
   "execution_count": null,
   "id": "116323a3-e703-4e1f-a219-5385053fd6e5",
   "metadata": {
    "tags": []
   },
   "outputs": [],
   "source": [
    "emperor_plot_out = os.path.join(results_path, 'emperor-plot.qzv')\n",
    "if not os.path.isfile(emperor_plot_out):\n",
    "    emperor_plot, = emperor.visualizers.plot(\n",
    "        pcoa=genome_pcoa,\n",
    "        metadata=q2.Metadata(marine_loc_smp)\n",
    "    )\n",
    "    emperor_plot.save(emperor_plot_out)\n",
    "else:\n",
    "    print(f'Emperor plot artifact exists and will be read from {emperor_plot_out}.')\n",
    "    emperor_plot = q2.Visualization.load(emperor_plot_out)"
   ]
  },
  {
   "cell_type": "code",
   "execution_count": null,
   "id": "df9d5aa3-00a0-4e4e-9a8c-583191d7fb87",
   "metadata": {
    "tags": []
   },
   "outputs": [],
   "source": [
    "emperor_plot"
   ]
  },
  {
   "cell_type": "markdown",
   "id": "cf2d67de-3498-4dd8-b43a-6da3ed04caed",
   "metadata": {},
   "source": [
    "We can also use the results above to generate our own plots using any of the Python plotting libraries - see below."
   ]
  },
  {
   "cell_type": "code",
   "execution_count": null,
   "id": "9e98781f-fbb2-418d-ad33-559bed5f334d",
   "metadata": {
    "tags": []
   },
   "outputs": [],
   "source": [
    "pcoa_table = genome_pcoa.view(skbio.OrdinationResults)\n",
    "pcoa_df = pcoa_table.samples"
   ]
  },
  {
   "cell_type": "code",
   "execution_count": null,
   "id": "85678a1e-ccd0-4be0-9d64-ca88173e7534",
   "metadata": {},
   "outputs": [],
   "source": [
    "# switch to inline plotting\n",
    "%matplotlib inline"
   ]
  },
  {
   "cell_type": "code",
   "execution_count": null,
   "id": "50cfd784-0936-43b8-b975-28c135aad58c",
   "metadata": {
    "tags": []
   },
   "outputs": [],
   "source": [
    "# create a 2D plot of Dim1 vs Dim2\n",
    "\n",
    "sns.set(rc={'figure.figsize':(8, 8), 'font.family': ['Arial']}, style='white')\n",
    "with sns.plotting_context(\"notebook\", font_scale=1.2):\n",
    "    fig = plt.figure()\n",
    "    ax = fig.add_subplot(111)\n",
    "\n",
    "    ax.set_xlabel(f'Axis 1 ({round(100 * pcoa_table.proportion_explained[0], 2)}%)')\n",
    "    ax.set_ylabel(f'Axis 2 ({round(100 * pcoa_table.proportion_explained[1], 2)}%)')\n",
    "    \n",
    "    sns.scatterplot(\n",
    "        x=pcoa_df.iloc[:, 0],\n",
    "        y=pcoa_df.iloc[:, 1],\n",
    "        s=200,\n",
    "        hue=marine_loc_smp['Latitude end [sample]'],\n",
    "        palette='Dark2',\n",
    "        ax=ax,\n",
    "    )\n",
    "\n",
    "    ax.set_xticks([])\n",
    "    ax.set_yticks([])\n",
    "    \n",
    "    plt.tight_layout()"
   ]
  },
  {
   "cell_type": "code",
   "execution_count": null,
   "id": "cf7a4896-dc37-4c59-9843-d1e78e4f3e33",
   "metadata": {
    "tags": []
   },
   "outputs": [],
   "source": [
    "fig.savefig(os.path.join(results_path, 'tara_pcoa.eps'))"
   ]
  },
  {
   "cell_type": "markdown",
   "id": "f67b66a4-dc1e-4798-82ca-75dff413ac20",
   "metadata": {
    "pycharm": {
     "name": "#%% md\n"
    }
   },
   "source": [
    "We can see in the plots above that the samples obtained in the two analyzed locations can be separated into distinct groups using only their MinHash signatures."
   ]
  }
 ],
 "metadata": {
  "citation-manager": {
   "items": {}
  },
  "kernelspec": {
   "display_name": "Python 3 (ipykernel)",
   "language": "python",
   "name": "python3"
  },
  "language_info": {
   "codemirror_mode": {
    "name": "ipython",
    "version": 3
   },
   "file_extension": ".py",
   "mimetype": "text/x-python",
   "name": "python",
   "nbconvert_exporter": "python",
   "pygments_lexer": "ipython3",
   "version": "3.8.13"
  }
 },
 "nbformat": 4,
 "nbformat_minor": 5
}
